{
 "cells": [
  {
   "cell_type": "markdown",
   "metadata": {},
   "source": [
    "# 导入"
   ]
  },
  {
   "cell_type": "code",
   "execution_count": 1,
   "metadata": {},
   "outputs": [
    {
     "name": "stderr",
     "output_type": "stream",
     "text": [
      "d:\\softwares\\python\\lib\\site-packages\\umap\\distances.py:1063: NumbaDeprecationWarning: \u001b[1mThe 'nopython' keyword argument was not supplied to the 'numba.jit' decorator. The implicit default value for this argument is currently False, but it will be changed to True in Numba 0.59.0. See https://numba.readthedocs.io/en/stable/reference/deprecation.html#deprecation-of-object-mode-fall-back-behaviour-when-using-jit for details.\u001b[0m\n",
      "  @numba.jit()\n",
      "d:\\softwares\\python\\lib\\site-packages\\umap\\distances.py:1071: NumbaDeprecationWarning: \u001b[1mThe 'nopython' keyword argument was not supplied to the 'numba.jit' decorator. The implicit default value for this argument is currently False, but it will be changed to True in Numba 0.59.0. See https://numba.readthedocs.io/en/stable/reference/deprecation.html#deprecation-of-object-mode-fall-back-behaviour-when-using-jit for details.\u001b[0m\n",
      "  @numba.jit()\n",
      "d:\\softwares\\python\\lib\\site-packages\\umap\\distances.py:1086: NumbaDeprecationWarning: \u001b[1mThe 'nopython' keyword argument was not supplied to the 'numba.jit' decorator. The implicit default value for this argument is currently False, but it will be changed to True in Numba 0.59.0. See https://numba.readthedocs.io/en/stable/reference/deprecation.html#deprecation-of-object-mode-fall-back-behaviour-when-using-jit for details.\u001b[0m\n",
      "  @numba.jit()\n",
      "d:\\softwares\\python\\lib\\site-packages\\tqdm\\auto.py:21: TqdmWarning: IProgress not found. Please update jupyter and ipywidgets. See https://ipywidgets.readthedocs.io/en/stable/user_install.html\n",
      "  from .autonotebook import tqdm as notebook_tqdm\n",
      "d:\\softwares\\python\\lib\\site-packages\\umap\\umap_.py:660: NumbaDeprecationWarning: \u001b[1mThe 'nopython' keyword argument was not supplied to the 'numba.jit' decorator. The implicit default value for this argument is currently False, but it will be changed to True in Numba 0.59.0. See https://numba.readthedocs.io/en/stable/reference/deprecation.html#deprecation-of-object-mode-fall-back-behaviour-when-using-jit for details.\u001b[0m\n",
      "  @numba.jit()\n"
     ]
    }
   ],
   "source": [
    "import numpy as np\n",
    "from bertopic import BERTopic\n",
    "from transformers.pipelines import pipeline\n",
    "from sentence_transformers import SentenceTransformer\n",
    "from umap import UMAP\n",
    "from hdbscan import HDBSCAN\n",
    "from sklearn.feature_extraction.text import CountVectorizer"
   ]
  },
  {
   "cell_type": "markdown",
   "metadata": {},
   "source": [
    "# 加载文件"
   ]
  },
  {
   "cell_type": "code",
   "execution_count": 2,
   "metadata": {},
   "outputs": [
    {
     "name": "stdout",
     "output_type": "stream",
     "text": [
      "条数:  1000\n",
      "预览第一条:  文旅文 创看 洛阳 河南省 文旅文创 发展 大会 本次 大会 安排 项目 签约 主要 方面 内容 一是 文旅 产业 项目 签约 截至 目前 梳理 重点 文旅 项目 投资总额 525.6 亿元 遴选 重大项目 进行 现场 签约 投资总额 365.8 亿元 项目 包括 文物 数字化 开发 文化 创意 园区 建设 文化 项目 涵盖 旅游 度假区 建设 旅游 酒店 民宿 打造 旅游 项目 既有 旅游 景区 开发 商旅 综合体 建设 传统 业态 项目 宇宙 基地 沉浸 演艺 业态 项目 充分体现 我省 文化 旅游 发展 特点 趋势 二是 引客 入豫 项目 签约 主要 我省 文旅 部门 文旅 企业 头部 旅行 知名 OTA 平台 重点 客源地 文旅 部门 签订 引客 入豫 协议 持续 拓展 省外 客源 市场\n",
      "\n"
     ]
    }
   ],
   "source": [
    "\n",
    "with open('./data/切词.txt', 'r', encoding='utf-8') as file:\n",
    "  docs = file.readlines()\n",
    "print('条数: ', len(docs))\n",
    "print('预览第一条: ', docs[0])\n",
    "\n",
    "vectorizer_model = None"
   ]
  },
  {
   "cell_type": "markdown",
   "metadata": {},
   "source": [
    "# 创建模型"
   ]
  },
  {
   "cell_type": "code",
   "execution_count": 3,
   "metadata": {},
   "outputs": [
    {
     "name": "stderr",
     "output_type": "stream",
     "text": [
      "Some weights of the model checkpoint at bert-base-chinese were not used when initializing BertModel: ['cls.predictions.bias', 'cls.seq_relationship.bias', 'cls.predictions.transform.LayerNorm.weight', 'cls.predictions.decoder.weight', 'cls.seq_relationship.weight', 'cls.predictions.transform.dense.weight', 'cls.predictions.transform.dense.bias', 'cls.predictions.transform.LayerNorm.bias']\n",
      "- This IS expected if you are initializing BertModel from the checkpoint of a model trained on another task or with another architecture (e.g. initializing a BertForSequenceClassification model from a BertForPreTraining model).\n",
      "- This IS NOT expected if you are initializing BertModel from the checkpoint of a model that you expect to be exactly identical (initializing a BertForSequenceClassification model from a BertForSequenceClassification model).\n"
     ]
    },
    {
     "name": "stdout",
     "output_type": "stream",
     "text": [
      "向量shape： (1000, 768)\n"
     ]
    }
   ],
   "source": [
    "# 1. 词向量模型，同时加载本地训练好的词向量\n",
    "embedding_model = pipeline(\"feature-extraction\", model=\"bert-base-chinese\") # 使用bert-base-chinese\n",
    "embeddings = np.load('./data/embedding_bbc.npy') # 使用bert-base-chinese向量\n",
    "print('向量shape：', embeddings.shape)\n",
    "\n",
    "# 替换: 使用hfl模型\n",
    "# embedding_model = pipeline(\"feature-extraction\", model=\"hfl/chinese-bert-wwm\")\n",
    "# embeddings = np.load('./data/embedding_hfl.npy') \n",
    "# print('向量shape：', embeddings.shape)\n",
    "\n",
    "# 替换: 使用Sentencetransformers模型\n",
    "# embedding_model = embedding_model = SentenceTransformer('paraphrase-multilingual-mpnet-base-v2',)\n",
    "# embeddings = np.load('./data/embedding_sen.npy')\n",
    "# print(embeddings.shape)\n",
    "\n",
    "# 2. 创建UMAP降维模型\n",
    "umap_model = UMAP(\n",
    "  n_neighbors=15,\n",
    "  n_components=5,\n",
    "  min_dist=0.0,\n",
    "  metric='cosine',\n",
    "  random_state=30  # ⚠️ 防止随机 https://maartengr.github.io/BERTopic/faq.html\n",
    ")\n",
    "\n",
    "# 3. 创建HDBSCAN聚类模型\n",
    "# 如果要建设离群值，可以减小下面两个参数min_cluster_size min_samples\n",
    "# https://hdbscan.readthedocs.io/en/latest/faq.html\n",
    "hdbscan_model = HDBSCAN(\n",
    "  min_cluster_size=10,\n",
    "  min_samples=5,\n",
    "  metric='euclidean'\n",
    ")\n",
    "\n",
    "# 5. 创建CountVectorizer模型\n",
    "vectorizer_model = CountVectorizer(stop_words=['洛阳', '旅游', '文化'])\n",
    "\n",
    "# 6. 正式创建BERTopic模型\n",
    "topic_model = BERTopic(\n",
    "  embedding_model=embedding_model,\n",
    "  vectorizer_model=vectorizer_model,\n",
    "  umap_model=umap_model,\n",
    "  hdbscan_model=hdbscan_model,\n",
    ")"
   ]
  },
  {
   "cell_type": "markdown",
   "metadata": {},
   "source": [
    "# 训练模型"
   ]
  },
  {
   "cell_type": "code",
   "execution_count": 4,
   "metadata": {},
   "outputs": [
    {
     "data": {
      "text/html": [
       "<div>\n",
       "<style scoped>\n",
       "    .dataframe tbody tr th:only-of-type {\n",
       "        vertical-align: middle;\n",
       "    }\n",
       "\n",
       "    .dataframe tbody tr th {\n",
       "        vertical-align: top;\n",
       "    }\n",
       "\n",
       "    .dataframe thead th {\n",
       "        text-align: right;\n",
       "    }\n",
       "</style>\n",
       "<table border=\"1\" class=\"dataframe\">\n",
       "  <thead>\n",
       "    <tr style=\"text-align: right;\">\n",
       "      <th></th>\n",
       "      <th>Topic</th>\n",
       "      <th>Count</th>\n",
       "      <th>Name</th>\n",
       "      <th>Representation</th>\n",
       "      <th>Representative_Docs</th>\n",
       "    </tr>\n",
       "  </thead>\n",
       "  <tbody>\n",
       "    <tr>\n",
       "      <th>0</th>\n",
       "      <td>-1</td>\n",
       "      <td>335</td>\n",
       "      <td>-1_景区_城市_河南_中国</td>\n",
       "      <td>[景区, 城市, 河南, 中国, 游客, 活动, 洛阳市, 博物馆, 遗址, 栾川]</td>\n",
       "      <td>[河南 多家 景区 陆续 发布 开园 公告 台风 杜苏芮 强度 逐渐 减弱 河南 景区 陆续...</td>\n",
       "    </tr>\n",
       "    <tr>\n",
       "      <th>1</th>\n",
       "      <td>0</td>\n",
       "      <td>60</td>\n",
       "      <td>0_活动_门票_景区_免费</td>\n",
       "      <td>[活动, 门票, 景区, 免费, 时间, 高速, 栾川, 地图, 白云山, 游客]</td>\n",
       "      <td>[洛阳 身边 自驾游 栾川 高速 免费 答疑 自驾游 栾川 高速 费全免 问题 需要 了解 ...</td>\n",
       "    </tr>\n",
       "    <tr>\n",
       "      <th>2</th>\n",
       "      <td>1</td>\n",
       "      <td>58</td>\n",
       "      <td>1_王府_竹海_旅行_河南</td>\n",
       "      <td>[王府, 竹海, 旅行, 河南, 景区, 仙门, 旅游区, 中国, 三彩, 栾川]</td>\n",
       "      <td>[旅行 推荐 旅行 冬天 就要 穿过 中国 zui 天门 广东 zui 早古 驿道 仙气 飘...</td>\n",
       "    </tr>\n",
       "    <tr>\n",
       "      <th>3</th>\n",
       "      <td>2</td>\n",
       "      <td>50</td>\n",
       "      <td>2_石窟_中国_龙门石窟_艺术</td>\n",
       "      <td>[石窟, 中国, 龙门石窟, 艺术, 世界, 文化遗产, 少林寺, 朝代, 造像, 石刻]</td>\n",
       "      <td>[洛阳 周边游 龙门石窟 中国 石刻 艺术 宝库 现为 世界 文化遗产 全国 重点 文物保护...</td>\n",
       "    </tr>\n",
       "    <tr>\n",
       "      <th>4</th>\n",
       "      <td>3</td>\n",
       "      <td>47</td>\n",
       "      <td>3_旅客_年票_客流_郑州</td>\n",
       "      <td>[旅客, 年票, 客流, 郑州, 列车, 客运, 发送, 出行, 公交, 高速]</td>\n",
       "      <td>[今天 郑州 铁路 预计 发送 旅客 51.7 万人 管内 客流量 激增 中国 铁路 郑州 ...</td>\n",
       "    </tr>\n",
       "    <tr>\n",
       "      <th>5</th>\n",
       "      <td>4</td>\n",
       "      <td>43</td>\n",
       "      <td>4_机场_建设_规划_项目</td>\n",
       "      <td>[机场, 建设, 规划, 项目, 自驾车, 高铁, 铁路, 航线, 黄河, 国家]</td>\n",
       "      <td>[国家 发展 改革 印发 汉江 生态 经济带 发展 规划 通知 汉江 生态 经济带 规划 范...</td>\n",
       "    </tr>\n",
       "    <tr>\n",
       "      <th>6</th>\n",
       "      <td>5</td>\n",
       "      <td>42</td>\n",
       "      <td>5_地方_很多_一天_一点</td>\n",
       "      <td>[地方, 很多, 一天, 一点, 已经, 时间, 古城, 酒店, 西安, 感受]</td>\n",
       "      <td>[洛阳 值得 一去 地方 简单 下来 洛阳 旅游 攻略 建议 夏天 洛阳 洛阳 市区 主要 ...</td>\n",
       "    </tr>\n",
       "    <tr>\n",
       "      <th>7</th>\n",
       "      <td>6</td>\n",
       "      <td>41</td>\n",
       "      <td>6_泉州_洛阳桥_旅行_历史</td>\n",
       "      <td>[泉州, 洛阳桥, 旅行, 历史, 济南, 中国, 黄陂, 沧州, 古城, 洛邑]</td>\n",
       "      <td>[海丝 泉州 夏天 清晨 洛阳桥 洛阳 日出 夏天 清晨 来到 泉州 洛阳桥 沐浴 晨光 长...</td>\n",
       "    </tr>\n",
       "    <tr>\n",
       "      <th>8</th>\n",
       "      <td>7</td>\n",
       "      <td>34</td>\n",
       "      <td>7_工作_集团_河洛_建设</td>\n",
       "      <td>[工作, 集团, 河洛, 建设, 投资, 项目, 发展, 大鼓, 服务, 进行]</td>\n",
       "      <td>[地方 国资 洛阳市 国资委 检查组 检查 督导 洛阳 文化 旅游 投资 集团 国企改革 三...</td>\n",
       "    </tr>\n",
       "    <tr>\n",
       "      <th>9</th>\n",
       "      <td>8</td>\n",
       "      <td>32</td>\n",
       "      <td>8_游客_景区_午餐_老君山</td>\n",
       "      <td>[游客, 景区, 午餐, 老君山, 网友, 河南, 表示, 同学, 卷入, 孙军范]</td>\n",
       "      <td>[无人 值守 一元 午餐 结账 多出 国庆 假期 景区 连续 推出 午餐 共售 游客 点赞 ...</td>\n",
       "    </tr>\n",
       "    <tr>\n",
       "      <th>10</th>\n",
       "      <td>9</td>\n",
       "      <td>31</td>\n",
       "      <td>9_河南_造纸_巩义_历史</td>\n",
       "      <td>[河南, 造纸, 巩义, 历史, 龙亭, 江南, 中国, 故城, 考古队, 善良]</td>\n",
       "      <td>[心眼 人缘 太上 心起 而吉神 随之 善念 力量 不容 小觑 不知不觉 便会 带来 巨大 ...</td>\n",
       "    </tr>\n",
       "    <tr>\n",
       "      <th>11</th>\n",
       "      <td>10</td>\n",
       "      <td>30</td>\n",
       "      <td>10_项目_消费_文旅_发展</td>\n",
       "      <td>[项目, 消费, 文旅, 发展, 建设, 国家, 打造, 全省, 森林, 示范]</td>\n",
       "      <td>[中国 洛阳 本地 攻略 洛阳 成为 首批 国家 文化 旅游 消费 示范 城市 造浪 生活 ...</td>\n",
       "    </tr>\n",
       "    <tr>\n",
       "      <th>12</th>\n",
       "      <td>11</td>\n",
       "      <td>28</td>\n",
       "      <td>11_银杏_文旅文创_发展_大会</td>\n",
       "      <td>[银杏, 文旅文创, 发展, 大会, 中国, 主题, 河南, 白云山, 行走, 读懂]</td>\n",
       "      <td>[旅行 千年 银杏 白云 盛景 洛阳 嵩县 白云山 第九届 银杏 文化节 主题 活动 隆重开...</td>\n",
       "    </tr>\n",
       "    <tr>\n",
       "      <th>13</th>\n",
       "      <td>12</td>\n",
       "      <td>28</td>\n",
       "      <td>12_广济桥_位于_白马寺_建筑</td>\n",
       "      <td>[广济桥, 位于, 白马寺, 建筑, 鸡冠, 周王城, 始建, 潮州, 大理, 理由]</td>\n",
       "      <td>[车载 民生 行天下 河南 旅游 行天下 汽车票 旅游 风景 智慧 购票 便民 出行 河南 ...</td>\n",
       "    </tr>\n",
       "    <tr>\n",
       "      <th>14</th>\n",
       "      <td>13</td>\n",
       "      <td>27</td>\n",
       "      <td>13_防控_疫情_景区_开放</td>\n",
       "      <td>[防控, 疫情, 景区, 开放, 场所, 关闭, 恢复, 人员, 娱乐场所, 落实]</td>\n",
       "      <td>[洛阳 即日起 洛阳 暂时 关闭 网吧 KTV 人员 聚集 密闭 场所 小编 刚刚 洛阳市 ...</td>\n",
       "    </tr>\n",
       "    <tr>\n",
       "      <th>15</th>\n",
       "      <td>14</td>\n",
       "      <td>20</td>\n",
       "      <td>14_五一_数据_预订_增长</td>\n",
       "      <td>[五一, 数据, 预订, 增长, 热门, 假期, 显示, 上海, 同期, 国内]</td>\n",
       "      <td>[携程 联合 新华 财经 发布 五一 旅行 数据 报告 报告 显示 北京 热门 旅游 城市 ...</td>\n",
       "    </tr>\n",
       "    <tr>\n",
       "      <th>16</th>\n",
       "      <td>15</td>\n",
       "      <td>20</td>\n",
       "      <td>15_写真_发团_成人_儿童</td>\n",
       "      <td>[写真, 发团, 成人, 儿童, 地点, 露营, 不良, 畅收, 拍照, 郑州]</td>\n",
       "      <td>[南阳 南阳 山水 周边 发团 线路 一日游 七十二 一日游 发团 畅收 武当 大明 一日游...</td>\n",
       "    </tr>\n",
       "    <tr>\n",
       "      <th>17</th>\n",
       "      <td>16</td>\n",
       "      <td>19</td>\n",
       "      <td>16_博物馆_历史_停车场_白马寺</td>\n",
       "      <td>[博物馆, 历史, 停车场, 白马寺, 建设, 汉唐, 人大代表, 两会, 考古, 文旅]</td>\n",
       "      <td>[洛阳 爆料 洛阳 生活 接待 游客 万人次 洛阳 二里头 夏都 遗址 博物馆 成新 文旅 ...</td>\n",
       "    </tr>\n",
       "    <tr>\n",
       "      <th>18</th>\n",
       "      <td>17</td>\n",
       "      <td>19</td>\n",
       "      <td>17_景区_度假区_公示_等级</td>\n",
       "      <td>[景区, 度假区, 公示, 等级, 评定, 质量, 4a, 河南省, 国家, 名单]</td>\n",
       "      <td>[许昌 身边 许昌 一处 4A 景区 近日 河南省旅游局 发布 公示 确定 景区 入围 国家...</td>\n",
       "    </tr>\n",
       "    <tr>\n",
       "      <th>19</th>\n",
       "      <td>18</td>\n",
       "      <td>14</td>\n",
       "      <td>18_话题_大寒_隋唐洛阳城_同安</td>\n",
       "      <td>[话题, 大寒, 隋唐洛阳城, 同安, 风起, 应天门, 奇缘, 厦门, 沉浸, 眼中]</td>\n",
       "      <td>[跟着 风起 洛阳 一座 成全 一部 电视剧 风起 洛阳 热播 风起 洛阳 取景 洛阳 华夏...</td>\n",
       "    </tr>\n",
       "    <tr>\n",
       "      <th>20</th>\n",
       "      <td>19</td>\n",
       "      <td>12</td>\n",
       "      <td>19_福昌_龙门石窟_城隍庙_龙门</td>\n",
       "      <td>[福昌, 龙门石窟, 城隍庙, 龙门, 博物馆, 位于, 石窟, 陈列, 中国, 标本]</td>\n",
       "      <td>[吕梁 旅行 吕梁 汾酒 竖石 佛村 摩崖 造像 时代 地址 交城县 北部 山区 岭底 始凿...</td>\n",
       "    </tr>\n",
       "    <tr>\n",
       "      <th>21</th>\n",
       "      <td>20</td>\n",
       "      <td>10</td>\n",
       "      <td>20_民宿_酒店_巧克力_孩子</td>\n",
       "      <td>[民宿, 酒店, 巧克力, 孩子, 余舍, 生活, 空间, 不同, 咖啡, 莱德]</td>\n",
       "      <td>[世界 不见不散 爱上 酒店 点评 一定 想象 不到 洛阳 重渡 一家 隐藏 民宿 旅行 住...</td>\n",
       "    </tr>\n",
       "  </tbody>\n",
       "</table>\n",
       "</div>"
      ],
      "text/plain": [
       "    Topic  Count               Name  \\\n",
       "0      -1    335     -1_景区_城市_河南_中国   \n",
       "1       0     60      0_活动_门票_景区_免费   \n",
       "2       1     58      1_王府_竹海_旅行_河南   \n",
       "3       2     50    2_石窟_中国_龙门石窟_艺术   \n",
       "4       3     47      3_旅客_年票_客流_郑州   \n",
       "5       4     43      4_机场_建设_规划_项目   \n",
       "6       5     42      5_地方_很多_一天_一点   \n",
       "7       6     41     6_泉州_洛阳桥_旅行_历史   \n",
       "8       7     34      7_工作_集团_河洛_建设   \n",
       "9       8     32     8_游客_景区_午餐_老君山   \n",
       "10      9     31      9_河南_造纸_巩义_历史   \n",
       "11     10     30     10_项目_消费_文旅_发展   \n",
       "12     11     28   11_银杏_文旅文创_发展_大会   \n",
       "13     12     28   12_广济桥_位于_白马寺_建筑   \n",
       "14     13     27     13_防控_疫情_景区_开放   \n",
       "15     14     20     14_五一_数据_预订_增长   \n",
       "16     15     20     15_写真_发团_成人_儿童   \n",
       "17     16     19  16_博物馆_历史_停车场_白马寺   \n",
       "18     17     19    17_景区_度假区_公示_等级   \n",
       "19     18     14  18_话题_大寒_隋唐洛阳城_同安   \n",
       "20     19     12  19_福昌_龙门石窟_城隍庙_龙门   \n",
       "21     20     10    20_民宿_酒店_巧克力_孩子   \n",
       "\n",
       "                                   Representation  \\\n",
       "0      [景区, 城市, 河南, 中国, 游客, 活动, 洛阳市, 博物馆, 遗址, 栾川]   \n",
       "1       [活动, 门票, 景区, 免费, 时间, 高速, 栾川, 地图, 白云山, 游客]   \n",
       "2       [王府, 竹海, 旅行, 河南, 景区, 仙门, 旅游区, 中国, 三彩, 栾川]   \n",
       "3   [石窟, 中国, 龙门石窟, 艺术, 世界, 文化遗产, 少林寺, 朝代, 造像, 石刻]   \n",
       "4        [旅客, 年票, 客流, 郑州, 列车, 客运, 发送, 出行, 公交, 高速]   \n",
       "5       [机场, 建设, 规划, 项目, 自驾车, 高铁, 铁路, 航线, 黄河, 国家]   \n",
       "6        [地方, 很多, 一天, 一点, 已经, 时间, 古城, 酒店, 西安, 感受]   \n",
       "7       [泉州, 洛阳桥, 旅行, 历史, 济南, 中国, 黄陂, 沧州, 古城, 洛邑]   \n",
       "8        [工作, 集团, 河洛, 建设, 投资, 项目, 发展, 大鼓, 服务, 进行]   \n",
       "9      [游客, 景区, 午餐, 老君山, 网友, 河南, 表示, 同学, 卷入, 孙军范]   \n",
       "10      [河南, 造纸, 巩义, 历史, 龙亭, 江南, 中国, 故城, 考古队, 善良]   \n",
       "11       [项目, 消费, 文旅, 发展, 建设, 国家, 打造, 全省, 森林, 示范]   \n",
       "12    [银杏, 文旅文创, 发展, 大会, 中国, 主题, 河南, 白云山, 行走, 读懂]   \n",
       "13    [广济桥, 位于, 白马寺, 建筑, 鸡冠, 周王城, 始建, 潮州, 大理, 理由]   \n",
       "14     [防控, 疫情, 景区, 开放, 场所, 关闭, 恢复, 人员, 娱乐场所, 落实]   \n",
       "15       [五一, 数据, 预订, 增长, 热门, 假期, 显示, 上海, 同期, 国内]   \n",
       "16       [写真, 发团, 成人, 儿童, 地点, 露营, 不良, 畅收, 拍照, 郑州]   \n",
       "17  [博物馆, 历史, 停车场, 白马寺, 建设, 汉唐, 人大代表, 两会, 考古, 文旅]   \n",
       "18     [景区, 度假区, 公示, 等级, 评定, 质量, 4a, 河南省, 国家, 名单]   \n",
       "19   [话题, 大寒, 隋唐洛阳城, 同安, 风起, 应天门, 奇缘, 厦门, 沉浸, 眼中]   \n",
       "20   [福昌, 龙门石窟, 城隍庙, 龙门, 博物馆, 位于, 石窟, 陈列, 中国, 标本]   \n",
       "21      [民宿, 酒店, 巧克力, 孩子, 余舍, 生活, 空间, 不同, 咖啡, 莱德]   \n",
       "\n",
       "                                  Representative_Docs  \n",
       "0   [河南 多家 景区 陆续 发布 开园 公告 台风 杜苏芮 强度 逐渐 减弱 河南 景区 陆续...  \n",
       "1   [洛阳 身边 自驾游 栾川 高速 免费 答疑 自驾游 栾川 高速 费全免 问题 需要 了解 ...  \n",
       "2   [旅行 推荐 旅行 冬天 就要 穿过 中国 zui 天门 广东 zui 早古 驿道 仙气 飘...  \n",
       "3   [洛阳 周边游 龙门石窟 中国 石刻 艺术 宝库 现为 世界 文化遗产 全国 重点 文物保护...  \n",
       "4   [今天 郑州 铁路 预计 发送 旅客 51.7 万人 管内 客流量 激增 中国 铁路 郑州 ...  \n",
       "5   [国家 发展 改革 印发 汉江 生态 经济带 发展 规划 通知 汉江 生态 经济带 规划 范...  \n",
       "6   [洛阳 值得 一去 地方 简单 下来 洛阳 旅游 攻略 建议 夏天 洛阳 洛阳 市区 主要 ...  \n",
       "7   [海丝 泉州 夏天 清晨 洛阳桥 洛阳 日出 夏天 清晨 来到 泉州 洛阳桥 沐浴 晨光 长...  \n",
       "8   [地方 国资 洛阳市 国资委 检查组 检查 督导 洛阳 文化 旅游 投资 集团 国企改革 三...  \n",
       "9   [无人 值守 一元 午餐 结账 多出 国庆 假期 景区 连续 推出 午餐 共售 游客 点赞 ...  \n",
       "10  [心眼 人缘 太上 心起 而吉神 随之 善念 力量 不容 小觑 不知不觉 便会 带来 巨大 ...  \n",
       "11  [中国 洛阳 本地 攻略 洛阳 成为 首批 国家 文化 旅游 消费 示范 城市 造浪 生活 ...  \n",
       "12  [旅行 千年 银杏 白云 盛景 洛阳 嵩县 白云山 第九届 银杏 文化节 主题 活动 隆重开...  \n",
       "13  [车载 民生 行天下 河南 旅游 行天下 汽车票 旅游 风景 智慧 购票 便民 出行 河南 ...  \n",
       "14  [洛阳 即日起 洛阳 暂时 关闭 网吧 KTV 人员 聚集 密闭 场所 小编 刚刚 洛阳市 ...  \n",
       "15  [携程 联合 新华 财经 发布 五一 旅行 数据 报告 报告 显示 北京 热门 旅游 城市 ...  \n",
       "16  [南阳 南阳 山水 周边 发团 线路 一日游 七十二 一日游 发团 畅收 武当 大明 一日游...  \n",
       "17  [洛阳 爆料 洛阳 生活 接待 游客 万人次 洛阳 二里头 夏都 遗址 博物馆 成新 文旅 ...  \n",
       "18  [许昌 身边 许昌 一处 4A 景区 近日 河南省旅游局 发布 公示 确定 景区 入围 国家...  \n",
       "19  [跟着 风起 洛阳 一座 成全 一部 电视剧 风起 洛阳 热播 风起 洛阳 取景 洛阳 华夏...  \n",
       "20  [吕梁 旅行 吕梁 汾酒 竖石 佛村 摩崖 造像 时代 地址 交城县 北部 山区 岭底 始凿...  \n",
       "21  [世界 不见不散 爱上 酒店 点评 一定 想象 不到 洛阳 重渡 一家 隐藏 民宿 旅行 住...  "
      ]
     },
     "execution_count": 4,
     "metadata": {},
     "output_type": "execute_result"
    }
   ],
   "source": [
    "# 查看主题\n",
    "topics, probs = topic_model.fit_transform(docs, embeddings=embeddings) #传入训练好的词向量\n",
    "topic_model.get_topic_info()"
   ]
  },
  {
   "cell_type": "markdown",
   "metadata": {},
   "source": [
    "# 保存聚类结果"
   ]
  },
  {
   "cell_type": "code",
   "execution_count": 5,
   "metadata": {},
   "outputs": [],
   "source": [
    "topic_docs = topic_model.get_document_info(docs)\n",
    "topic_docs.to_csv('./聚类结果.csv')"
   ]
  },
  {
   "cell_type": "code",
   "execution_count": 7,
   "metadata": {},
   "outputs": [
    {
     "name": "stdout",
     "output_type": "stream",
     "text": [
      "文本条数： 1000\n",
      "文本条数： 1000\n"
     ]
    }
   ],
   "source": [
    "with open('./data/文本.txt', 'r', encoding='utf-8') as file:\n",
    "  texts = file.readlines()\n",
    "  print('文本条数：', len(texts))\n",
    "  topic_docs.insert(1, '原文', texts)\n",
    "with open('./data/时间.txt', 'r', encoding='utf-8') as file:\n",
    "  years = file.readlines()\n",
    "  print('文本条数：', len(years))\n",
    "  topic_docs.insert(2, '时间', years)\n",
    "topic_docs.to_csv('./聚类结果2.csv')"
   ]
  },
  {
   "cell_type": "markdown",
   "metadata": {},
   "source": [
    "# 可视化"
   ]
  },
  {
   "cell_type": "code",
   "execution_count": null,
   "metadata": {},
   "outputs": [
    {
     "data": {
      "application/vnd.plotly.v1+json": {
       "config": {
        "plotlyServerURL": "https://plot.ly"
       },
       "data": [
        {
         "marker": {
          "color": "#D55E00"
         },
         "orientation": "h",
         "type": "bar",
         "x": [
          0.02463099112050001,
          0.02534353610725507,
          0.02775171409160092,
          0.027882248843121463,
          0.03600542511074776
         ],
         "xaxis": "x",
         "y": [
          "时间  ",
          "免费  ",
          "景区  ",
          "门票  ",
          "活动  "
         ],
         "yaxis": "y"
        },
        {
         "marker": {
          "color": "#0072B2"
         },
         "orientation": "h",
         "type": "bar",
         "x": [
          0.019007871016303853,
          0.021856698057883008,
          0.022113662945960396,
          0.029587696166409133,
          0.031330688316265676
         ],
         "xaxis": "x2",
         "y": [
          "景区  ",
          "河南  ",
          "旅行  ",
          "竹海  ",
          "王府  "
         ],
         "yaxis": "y2"
        },
        {
         "marker": {
          "color": "#CC79A7"
         },
         "orientation": "h",
         "type": "bar",
         "x": [
          0.04051818939748553,
          0.046343110572772774,
          0.054304618085612294,
          0.05536198385735331,
          0.05537103639707187
         ],
         "xaxis": "x3",
         "y": [
          "世界  ",
          "艺术  ",
          "龙门石窟  ",
          "中国  ",
          "石窟  "
         ],
         "yaxis": "y3"
        },
        {
         "marker": {
          "color": "#E69F00"
         },
         "orientation": "h",
         "type": "bar",
         "x": [
          0.030998807532269624,
          0.03860092254791304,
          0.03914227828489167,
          0.046531002359247384,
          0.05895619055375275
         ],
         "xaxis": "x4",
         "y": [
          "列车  ",
          "郑州  ",
          "客流  ",
          "年票  ",
          "旅客  "
         ],
         "yaxis": "y4"
        },
        {
         "marker": {
          "color": "#56B4E9"
         },
         "orientation": "h",
         "type": "bar",
         "x": [
          0.025320244108807052,
          0.03157420963966642,
          0.03228269281325342,
          0.0345113454201005,
          0.041882364234236205
         ],
         "xaxis": "x5",
         "y": [
          "自驾车  ",
          "项目  ",
          "规划  ",
          "建设  ",
          "机场  "
         ],
         "yaxis": "y5"
        },
        {
         "marker": {
          "color": "#009E73"
         },
         "orientation": "h",
         "type": "bar",
         "x": [
          0.015365596659215714,
          0.015958425106349226,
          0.016663445420564336,
          0.01827279518655497,
          0.021399729232308175
         ],
         "xaxis": "x6",
         "y": [
          "已经  ",
          "一点  ",
          "一天  ",
          "很多  ",
          "地方  "
         ],
         "yaxis": "y6"
        },
        {
         "marker": {
          "color": "#F0E442"
         },
         "orientation": "h",
         "type": "bar",
         "x": [
          0.017953889040754442,
          0.01992899358308132,
          0.03411991387235188,
          0.03612079259706319,
          0.048132849133341406
         ],
         "xaxis": "x7",
         "y": [
          "济南  ",
          "历史  ",
          "旅行  ",
          "洛阳桥  ",
          "泉州  "
         ],
         "yaxis": "y7"
        },
        {
         "marker": {
          "color": "#D55E00"
         },
         "orientation": "h",
         "type": "bar",
         "x": [
          0.0249036528182513,
          0.026759028154635305,
          0.027245574369374137,
          0.028779049847375858,
          0.03239460611306294
         ],
         "xaxis": "x8",
         "y": [
          "投资  ",
          "建设  ",
          "河洛  ",
          "集团  ",
          "工作  "
         ],
         "yaxis": "y8"
        }
       ],
       "layout": {
        "annotations": [
         {
          "font": {
           "size": 16
          },
          "showarrow": false,
          "text": "Topic 0",
          "x": 0.0875,
          "xanchor": "center",
          "xref": "paper",
          "y": 1,
          "yanchor": "bottom",
          "yref": "paper"
         },
         {
          "font": {
           "size": 16
          },
          "showarrow": false,
          "text": "Topic 1",
          "x": 0.36250000000000004,
          "xanchor": "center",
          "xref": "paper",
          "y": 1,
          "yanchor": "bottom",
          "yref": "paper"
         },
         {
          "font": {
           "size": 16
          },
          "showarrow": false,
          "text": "Topic 2",
          "x": 0.6375000000000001,
          "xanchor": "center",
          "xref": "paper",
          "y": 1,
          "yanchor": "bottom",
          "yref": "paper"
         },
         {
          "font": {
           "size": 16
          },
          "showarrow": false,
          "text": "Topic 3",
          "x": 0.9125,
          "xanchor": "center",
          "xref": "paper",
          "y": 1,
          "yanchor": "bottom",
          "yref": "paper"
         },
         {
          "font": {
           "size": 16
          },
          "showarrow": false,
          "text": "Topic 4",
          "x": 0.0875,
          "xanchor": "center",
          "xref": "paper",
          "y": 0.4,
          "yanchor": "bottom",
          "yref": "paper"
         },
         {
          "font": {
           "size": 16
          },
          "showarrow": false,
          "text": "Topic 5",
          "x": 0.36250000000000004,
          "xanchor": "center",
          "xref": "paper",
          "y": 0.4,
          "yanchor": "bottom",
          "yref": "paper"
         },
         {
          "font": {
           "size": 16
          },
          "showarrow": false,
          "text": "Topic 6",
          "x": 0.6375000000000001,
          "xanchor": "center",
          "xref": "paper",
          "y": 0.4,
          "yanchor": "bottom",
          "yref": "paper"
         },
         {
          "font": {
           "size": 16
          },
          "showarrow": false,
          "text": "Topic 7",
          "x": 0.9125,
          "xanchor": "center",
          "xref": "paper",
          "y": 0.4,
          "yanchor": "bottom",
          "yref": "paper"
         }
        ],
        "height": 500,
        "hoverlabel": {
         "bgcolor": "white",
         "font": {
          "family": "Rockwell",
          "size": 16
         }
        },
        "showlegend": false,
        "template": {
         "data": {
          "bar": [
           {
            "error_x": {
             "color": "#2a3f5f"
            },
            "error_y": {
             "color": "#2a3f5f"
            },
            "marker": {
             "line": {
              "color": "white",
              "width": 0.5
             },
             "pattern": {
              "fillmode": "overlay",
              "size": 10,
              "solidity": 0.2
             }
            },
            "type": "bar"
           }
          ],
          "barpolar": [
           {
            "marker": {
             "line": {
              "color": "white",
              "width": 0.5
             },
             "pattern": {
              "fillmode": "overlay",
              "size": 10,
              "solidity": 0.2
             }
            },
            "type": "barpolar"
           }
          ],
          "carpet": [
           {
            "aaxis": {
             "endlinecolor": "#2a3f5f",
             "gridcolor": "#C8D4E3",
             "linecolor": "#C8D4E3",
             "minorgridcolor": "#C8D4E3",
             "startlinecolor": "#2a3f5f"
            },
            "baxis": {
             "endlinecolor": "#2a3f5f",
             "gridcolor": "#C8D4E3",
             "linecolor": "#C8D4E3",
             "minorgridcolor": "#C8D4E3",
             "startlinecolor": "#2a3f5f"
            },
            "type": "carpet"
           }
          ],
          "choropleth": [
           {
            "colorbar": {
             "outlinewidth": 0,
             "ticks": ""
            },
            "type": "choropleth"
           }
          ],
          "contour": [
           {
            "colorbar": {
             "outlinewidth": 0,
             "ticks": ""
            },
            "colorscale": [
             [
              0,
              "#0d0887"
             ],
             [
              0.1111111111111111,
              "#46039f"
             ],
             [
              0.2222222222222222,
              "#7201a8"
             ],
             [
              0.3333333333333333,
              "#9c179e"
             ],
             [
              0.4444444444444444,
              "#bd3786"
             ],
             [
              0.5555555555555556,
              "#d8576b"
             ],
             [
              0.6666666666666666,
              "#ed7953"
             ],
             [
              0.7777777777777778,
              "#fb9f3a"
             ],
             [
              0.8888888888888888,
              "#fdca26"
             ],
             [
              1,
              "#f0f921"
             ]
            ],
            "type": "contour"
           }
          ],
          "contourcarpet": [
           {
            "colorbar": {
             "outlinewidth": 0,
             "ticks": ""
            },
            "type": "contourcarpet"
           }
          ],
          "heatmap": [
           {
            "colorbar": {
             "outlinewidth": 0,
             "ticks": ""
            },
            "colorscale": [
             [
              0,
              "#0d0887"
             ],
             [
              0.1111111111111111,
              "#46039f"
             ],
             [
              0.2222222222222222,
              "#7201a8"
             ],
             [
              0.3333333333333333,
              "#9c179e"
             ],
             [
              0.4444444444444444,
              "#bd3786"
             ],
             [
              0.5555555555555556,
              "#d8576b"
             ],
             [
              0.6666666666666666,
              "#ed7953"
             ],
             [
              0.7777777777777778,
              "#fb9f3a"
             ],
             [
              0.8888888888888888,
              "#fdca26"
             ],
             [
              1,
              "#f0f921"
             ]
            ],
            "type": "heatmap"
           }
          ],
          "heatmapgl": [
           {
            "colorbar": {
             "outlinewidth": 0,
             "ticks": ""
            },
            "colorscale": [
             [
              0,
              "#0d0887"
             ],
             [
              0.1111111111111111,
              "#46039f"
             ],
             [
              0.2222222222222222,
              "#7201a8"
             ],
             [
              0.3333333333333333,
              "#9c179e"
             ],
             [
              0.4444444444444444,
              "#bd3786"
             ],
             [
              0.5555555555555556,
              "#d8576b"
             ],
             [
              0.6666666666666666,
              "#ed7953"
             ],
             [
              0.7777777777777778,
              "#fb9f3a"
             ],
             [
              0.8888888888888888,
              "#fdca26"
             ],
             [
              1,
              "#f0f921"
             ]
            ],
            "type": "heatmapgl"
           }
          ],
          "histogram": [
           {
            "marker": {
             "pattern": {
              "fillmode": "overlay",
              "size": 10,
              "solidity": 0.2
             }
            },
            "type": "histogram"
           }
          ],
          "histogram2d": [
           {
            "colorbar": {
             "outlinewidth": 0,
             "ticks": ""
            },
            "colorscale": [
             [
              0,
              "#0d0887"
             ],
             [
              0.1111111111111111,
              "#46039f"
             ],
             [
              0.2222222222222222,
              "#7201a8"
             ],
             [
              0.3333333333333333,
              "#9c179e"
             ],
             [
              0.4444444444444444,
              "#bd3786"
             ],
             [
              0.5555555555555556,
              "#d8576b"
             ],
             [
              0.6666666666666666,
              "#ed7953"
             ],
             [
              0.7777777777777778,
              "#fb9f3a"
             ],
             [
              0.8888888888888888,
              "#fdca26"
             ],
             [
              1,
              "#f0f921"
             ]
            ],
            "type": "histogram2d"
           }
          ],
          "histogram2dcontour": [
           {
            "colorbar": {
             "outlinewidth": 0,
             "ticks": ""
            },
            "colorscale": [
             [
              0,
              "#0d0887"
             ],
             [
              0.1111111111111111,
              "#46039f"
             ],
             [
              0.2222222222222222,
              "#7201a8"
             ],
             [
              0.3333333333333333,
              "#9c179e"
             ],
             [
              0.4444444444444444,
              "#bd3786"
             ],
             [
              0.5555555555555556,
              "#d8576b"
             ],
             [
              0.6666666666666666,
              "#ed7953"
             ],
             [
              0.7777777777777778,
              "#fb9f3a"
             ],
             [
              0.8888888888888888,
              "#fdca26"
             ],
             [
              1,
              "#f0f921"
             ]
            ],
            "type": "histogram2dcontour"
           }
          ],
          "mesh3d": [
           {
            "colorbar": {
             "outlinewidth": 0,
             "ticks": ""
            },
            "type": "mesh3d"
           }
          ],
          "parcoords": [
           {
            "line": {
             "colorbar": {
              "outlinewidth": 0,
              "ticks": ""
             }
            },
            "type": "parcoords"
           }
          ],
          "pie": [
           {
            "automargin": true,
            "type": "pie"
           }
          ],
          "scatter": [
           {
            "fillpattern": {
             "fillmode": "overlay",
             "size": 10,
             "solidity": 0.2
            },
            "type": "scatter"
           }
          ],
          "scatter3d": [
           {
            "line": {
             "colorbar": {
              "outlinewidth": 0,
              "ticks": ""
             }
            },
            "marker": {
             "colorbar": {
              "outlinewidth": 0,
              "ticks": ""
             }
            },
            "type": "scatter3d"
           }
          ],
          "scattercarpet": [
           {
            "marker": {
             "colorbar": {
              "outlinewidth": 0,
              "ticks": ""
             }
            },
            "type": "scattercarpet"
           }
          ],
          "scattergeo": [
           {
            "marker": {
             "colorbar": {
              "outlinewidth": 0,
              "ticks": ""
             }
            },
            "type": "scattergeo"
           }
          ],
          "scattergl": [
           {
            "marker": {
             "colorbar": {
              "outlinewidth": 0,
              "ticks": ""
             }
            },
            "type": "scattergl"
           }
          ],
          "scattermapbox": [
           {
            "marker": {
             "colorbar": {
              "outlinewidth": 0,
              "ticks": ""
             }
            },
            "type": "scattermapbox"
           }
          ],
          "scatterpolar": [
           {
            "marker": {
             "colorbar": {
              "outlinewidth": 0,
              "ticks": ""
             }
            },
            "type": "scatterpolar"
           }
          ],
          "scatterpolargl": [
           {
            "marker": {
             "colorbar": {
              "outlinewidth": 0,
              "ticks": ""
             }
            },
            "type": "scatterpolargl"
           }
          ],
          "scatterternary": [
           {
            "marker": {
             "colorbar": {
              "outlinewidth": 0,
              "ticks": ""
             }
            },
            "type": "scatterternary"
           }
          ],
          "surface": [
           {
            "colorbar": {
             "outlinewidth": 0,
             "ticks": ""
            },
            "colorscale": [
             [
              0,
              "#0d0887"
             ],
             [
              0.1111111111111111,
              "#46039f"
             ],
             [
              0.2222222222222222,
              "#7201a8"
             ],
             [
              0.3333333333333333,
              "#9c179e"
             ],
             [
              0.4444444444444444,
              "#bd3786"
             ],
             [
              0.5555555555555556,
              "#d8576b"
             ],
             [
              0.6666666666666666,
              "#ed7953"
             ],
             [
              0.7777777777777778,
              "#fb9f3a"
             ],
             [
              0.8888888888888888,
              "#fdca26"
             ],
             [
              1,
              "#f0f921"
             ]
            ],
            "type": "surface"
           }
          ],
          "table": [
           {
            "cells": {
             "fill": {
              "color": "#EBF0F8"
             },
             "line": {
              "color": "white"
             }
            },
            "header": {
             "fill": {
              "color": "#C8D4E3"
             },
             "line": {
              "color": "white"
             }
            },
            "type": "table"
           }
          ]
         },
         "layout": {
          "annotationdefaults": {
           "arrowcolor": "#2a3f5f",
           "arrowhead": 0,
           "arrowwidth": 1
          },
          "autotypenumbers": "strict",
          "coloraxis": {
           "colorbar": {
            "outlinewidth": 0,
            "ticks": ""
           }
          },
          "colorscale": {
           "diverging": [
            [
             0,
             "#8e0152"
            ],
            [
             0.1,
             "#c51b7d"
            ],
            [
             0.2,
             "#de77ae"
            ],
            [
             0.3,
             "#f1b6da"
            ],
            [
             0.4,
             "#fde0ef"
            ],
            [
             0.5,
             "#f7f7f7"
            ],
            [
             0.6,
             "#e6f5d0"
            ],
            [
             0.7,
             "#b8e186"
            ],
            [
             0.8,
             "#7fbc41"
            ],
            [
             0.9,
             "#4d9221"
            ],
            [
             1,
             "#276419"
            ]
           ],
           "sequential": [
            [
             0,
             "#0d0887"
            ],
            [
             0.1111111111111111,
             "#46039f"
            ],
            [
             0.2222222222222222,
             "#7201a8"
            ],
            [
             0.3333333333333333,
             "#9c179e"
            ],
            [
             0.4444444444444444,
             "#bd3786"
            ],
            [
             0.5555555555555556,
             "#d8576b"
            ],
            [
             0.6666666666666666,
             "#ed7953"
            ],
            [
             0.7777777777777778,
             "#fb9f3a"
            ],
            [
             0.8888888888888888,
             "#fdca26"
            ],
            [
             1,
             "#f0f921"
            ]
           ],
           "sequentialminus": [
            [
             0,
             "#0d0887"
            ],
            [
             0.1111111111111111,
             "#46039f"
            ],
            [
             0.2222222222222222,
             "#7201a8"
            ],
            [
             0.3333333333333333,
             "#9c179e"
            ],
            [
             0.4444444444444444,
             "#bd3786"
            ],
            [
             0.5555555555555556,
             "#d8576b"
            ],
            [
             0.6666666666666666,
             "#ed7953"
            ],
            [
             0.7777777777777778,
             "#fb9f3a"
            ],
            [
             0.8888888888888888,
             "#fdca26"
            ],
            [
             1,
             "#f0f921"
            ]
           ]
          },
          "colorway": [
           "#636efa",
           "#EF553B",
           "#00cc96",
           "#ab63fa",
           "#FFA15A",
           "#19d3f3",
           "#FF6692",
           "#B6E880",
           "#FF97FF",
           "#FECB52"
          ],
          "font": {
           "color": "#2a3f5f"
          },
          "geo": {
           "bgcolor": "white",
           "lakecolor": "white",
           "landcolor": "white",
           "showlakes": true,
           "showland": true,
           "subunitcolor": "#C8D4E3"
          },
          "hoverlabel": {
           "align": "left"
          },
          "hovermode": "closest",
          "mapbox": {
           "style": "light"
          },
          "paper_bgcolor": "white",
          "plot_bgcolor": "white",
          "polar": {
           "angularaxis": {
            "gridcolor": "#EBF0F8",
            "linecolor": "#EBF0F8",
            "ticks": ""
           },
           "bgcolor": "white",
           "radialaxis": {
            "gridcolor": "#EBF0F8",
            "linecolor": "#EBF0F8",
            "ticks": ""
           }
          },
          "scene": {
           "xaxis": {
            "backgroundcolor": "white",
            "gridcolor": "#DFE8F3",
            "gridwidth": 2,
            "linecolor": "#EBF0F8",
            "showbackground": true,
            "ticks": "",
            "zerolinecolor": "#EBF0F8"
           },
           "yaxis": {
            "backgroundcolor": "white",
            "gridcolor": "#DFE8F3",
            "gridwidth": 2,
            "linecolor": "#EBF0F8",
            "showbackground": true,
            "ticks": "",
            "zerolinecolor": "#EBF0F8"
           },
           "zaxis": {
            "backgroundcolor": "white",
            "gridcolor": "#DFE8F3",
            "gridwidth": 2,
            "linecolor": "#EBF0F8",
            "showbackground": true,
            "ticks": "",
            "zerolinecolor": "#EBF0F8"
           }
          },
          "shapedefaults": {
           "line": {
            "color": "#2a3f5f"
           }
          },
          "ternary": {
           "aaxis": {
            "gridcolor": "#DFE8F3",
            "linecolor": "#A2B1C6",
            "ticks": ""
           },
           "baxis": {
            "gridcolor": "#DFE8F3",
            "linecolor": "#A2B1C6",
            "ticks": ""
           },
           "bgcolor": "white",
           "caxis": {
            "gridcolor": "#DFE8F3",
            "linecolor": "#A2B1C6",
            "ticks": ""
           }
          },
          "title": {
           "x": 0.05
          },
          "xaxis": {
           "automargin": true,
           "gridcolor": "#EBF0F8",
           "linecolor": "#EBF0F8",
           "ticks": "",
           "title": {
            "standoff": 15
           },
           "zerolinecolor": "#EBF0F8",
           "zerolinewidth": 2
          },
          "yaxis": {
           "automargin": true,
           "gridcolor": "#EBF0F8",
           "linecolor": "#EBF0F8",
           "ticks": "",
           "title": {
            "standoff": 15
           },
           "zerolinecolor": "#EBF0F8",
           "zerolinewidth": 2
          }
         }
        },
        "title": {
         "font": {
          "color": "Black",
          "size": 22
         },
         "text": "Topic Word Scores",
         "x": 0.5,
         "xanchor": "center",
         "yanchor": "top"
        },
        "width": 1000,
        "xaxis": {
         "anchor": "y",
         "domain": [
          0,
          0.175
         ],
         "showgrid": true
        },
        "xaxis2": {
         "anchor": "y2",
         "domain": [
          0.275,
          0.45
         ],
         "showgrid": true
        },
        "xaxis3": {
         "anchor": "y3",
         "domain": [
          0.55,
          0.7250000000000001
         ],
         "showgrid": true
        },
        "xaxis4": {
         "anchor": "y4",
         "domain": [
          0.825,
          1
         ],
         "showgrid": true
        },
        "xaxis5": {
         "anchor": "y5",
         "domain": [
          0,
          0.175
         ],
         "showgrid": true
        },
        "xaxis6": {
         "anchor": "y6",
         "domain": [
          0.275,
          0.45
         ],
         "showgrid": true
        },
        "xaxis7": {
         "anchor": "y7",
         "domain": [
          0.55,
          0.7250000000000001
         ],
         "showgrid": true
        },
        "xaxis8": {
         "anchor": "y8",
         "domain": [
          0.825,
          1
         ],
         "showgrid": true
        },
        "yaxis": {
         "anchor": "x",
         "domain": [
          0.6000000000000001,
          1
         ],
         "showgrid": true
        },
        "yaxis2": {
         "anchor": "x2",
         "domain": [
          0.6000000000000001,
          1
         ],
         "showgrid": true
        },
        "yaxis3": {
         "anchor": "x3",
         "domain": [
          0.6000000000000001,
          1
         ],
         "showgrid": true
        },
        "yaxis4": {
         "anchor": "x4",
         "domain": [
          0.6000000000000001,
          1
         ],
         "showgrid": true
        },
        "yaxis5": {
         "anchor": "x5",
         "domain": [
          0,
          0.4
         ],
         "showgrid": true
        },
        "yaxis6": {
         "anchor": "x6",
         "domain": [
          0,
          0.4
         ],
         "showgrid": true
        },
        "yaxis7": {
         "anchor": "x7",
         "domain": [
          0,
          0.4
         ],
         "showgrid": true
        },
        "yaxis8": {
         "anchor": "x8",
         "domain": [
          0,
          0.4
         ],
         "showgrid": true
        }
       }
      }
     },
     "metadata": {},
     "output_type": "display_data"
    }
   ],
   "source": [
    "topic_model.visualize_barchart()"
   ]
  },
  {
   "cell_type": "code",
   "execution_count": null,
   "metadata": {},
   "outputs": [
    {
     "data": {
      "application/vnd.plotly.v1+json": {
       "config": {
        "plotlyServerURL": "https://plot.ly"
       },
       "data": [
        {
         "customdata": [
          [
           0,
           "活动 | 门票 | 景区 | 免费 | 时间",
           60
          ],
          [
           1,
           "王府 | 竹海 | 旅行 | 河南 | 景区",
           58
          ],
          [
           2,
           "石窟 | 中国 | 龙门石窟 | 艺术 | 世界",
           50
          ],
          [
           3,
           "旅客 | 年票 | 客流 | 郑州 | 列车",
           47
          ],
          [
           4,
           "机场 | 建设 | 规划 | 项目 | 自驾车",
           43
          ],
          [
           5,
           "地方 | 很多 | 一天 | 一点 | 已经",
           42
          ],
          [
           6,
           "泉州 | 洛阳桥 | 旅行 | 历史 | 济南",
           41
          ],
          [
           7,
           "工作 | 集团 | 河洛 | 建设 | 投资",
           34
          ],
          [
           8,
           "游客 | 景区 | 午餐 | 老君山 | 网友",
           32
          ],
          [
           9,
           "河南 | 造纸 | 巩义 | 历史 | 龙亭",
           31
          ],
          [
           10,
           "项目 | 消费 | 文旅 | 发展 | 建设",
           30
          ],
          [
           11,
           "银杏 | 文旅文创 | 发展 | 大会 | 中国",
           28
          ],
          [
           12,
           "广济桥 | 位于 | 白马寺 | 建筑 | 鸡冠",
           28
          ],
          [
           13,
           "防控 | 疫情 | 景区 | 开放 | 场所",
           27
          ],
          [
           14,
           "五一 | 数据 | 预订 | 增长 | 热门",
           20
          ],
          [
           15,
           "写真 | 发团 | 成人 | 儿童 | 地点",
           20
          ],
          [
           16,
           "博物馆 | 历史 | 停车场 | 白马寺 | 建设",
           19
          ],
          [
           17,
           "景区 | 度假区 | 公示 | 等级 | 评定",
           19
          ],
          [
           18,
           "话题 | 大寒 | 隋唐洛阳城 | 同安 | 风起",
           14
          ],
          [
           19,
           "福昌 | 龙门石窟 | 城隍庙 | 龙门 | 博物馆",
           12
          ],
          [
           20,
           "民宿 | 酒店 | 巧克力 | 孩子 | 余舍",
           10
          ]
         ],
         "hovertemplate": "<b>Topic %{customdata[0]}</b><br>%{customdata[1]}<br>Size: %{customdata[2]}",
         "legendgroup": "",
         "marker": {
          "color": "#B0BEC5",
          "line": {
           "color": "DarkSlateGrey",
           "width": 2
          },
          "size": [
           60,
           58,
           50,
           47,
           43,
           42,
           41,
           34,
           32,
           31,
           30,
           28,
           28,
           27,
           20,
           20,
           19,
           19,
           14,
           12,
           10
          ],
          "sizemode": "area",
          "sizeref": 0.0375,
          "symbol": "circle"
         },
         "mode": "markers",
         "name": "",
         "orientation": "v",
         "showlegend": false,
         "type": "scatter",
         "x": [
          -5.852321147918701,
          0.8513925075531006,
          -0.3208235800266266,
          -9.571861267089844,
          0.8898679614067078,
          1.31777024269104,
          1.0634263753890991,
          1.6474283933639526,
          1.0573816299438477,
          0.19104675948619843,
          1.3953362703323364,
          1.8389334678649902,
          0.3271413743495941,
          -9.658721923828125,
          1.498645544052124,
          -5.987936973571777,
          1.2333797216415405,
          1.2377787828445435,
          -5.615574836730957,
          -0.5156480669975281,
          1.273054599761963
         ],
         "xaxis": "x",
         "y": [
          17.825756072998047,
          14.473180770874023,
          12.995307922363281,
          4.964669704437256,
          8.48203182220459,
          15.241839408874512,
          15.013848304748535,
          8.838081359863281,
          7.1174516677856445,
          13.349452018737793,
          8.780660629272461,
          8.208345413208008,
          13.637876510620117,
          4.877803325653076,
          7.174328327178955,
          17.688955307006836,
          7.361320972442627,
          8.524827003479004,
          18.060211181640625,
          12.795270919799805,
          14.464800834655762
         ],
         "yaxis": "y"
        }
       ],
       "layout": {
        "annotations": [
         {
          "showarrow": false,
          "text": "D1",
          "x": -11.107530212402343,
          "y": 12.457687842845917,
          "yshift": 10
         },
         {
          "showarrow": false,
          "text": "D2",
          "x": -4.4963783621788025,
          "xshift": 10,
          "y": 20.76924285888672
         }
        ],
        "height": 650,
        "hoverlabel": {
         "bgcolor": "white",
         "font": {
          "family": "Rockwell",
          "size": 16
         }
        },
        "legend": {
         "itemsizing": "constant",
         "tracegroupgap": 0
        },
        "margin": {
         "t": 60
        },
        "shapes": [
         {
          "line": {
           "color": "#CFD8DC",
           "width": 2
          },
          "type": "line",
          "x0": -4.4963783621788025,
          "x1": -4.4963783621788025,
          "y0": 4.146132826805115,
          "y1": 20.76924285888672
         },
         {
          "line": {
           "color": "#9E9E9E",
           "width": 2
          },
          "type": "line",
          "x0": -11.107530212402343,
          "x1": 2.114773488044739,
          "y0": 12.457687842845917,
          "y1": 12.457687842845917
         }
        ],
        "sliders": [
         {
          "active": 0,
          "pad": {
           "t": 50
          },
          "steps": [
           {
            "args": [
             {
              "marker.color": [
               [
                "red",
                "#B0BEC5",
                "#B0BEC5",
                "#B0BEC5",
                "#B0BEC5",
                "#B0BEC5",
                "#B0BEC5",
                "#B0BEC5",
                "#B0BEC5",
                "#B0BEC5",
                "#B0BEC5",
                "#B0BEC5",
                "#B0BEC5",
                "#B0BEC5",
                "#B0BEC5",
                "#B0BEC5",
                "#B0BEC5",
                "#B0BEC5",
                "#B0BEC5",
                "#B0BEC5",
                "#B0BEC5"
               ]
              ]
             }
            ],
            "label": "Topic 0",
            "method": "update"
           },
           {
            "args": [
             {
              "marker.color": [
               [
                "#B0BEC5",
                "red",
                "#B0BEC5",
                "#B0BEC5",
                "#B0BEC5",
                "#B0BEC5",
                "#B0BEC5",
                "#B0BEC5",
                "#B0BEC5",
                "#B0BEC5",
                "#B0BEC5",
                "#B0BEC5",
                "#B0BEC5",
                "#B0BEC5",
                "#B0BEC5",
                "#B0BEC5",
                "#B0BEC5",
                "#B0BEC5",
                "#B0BEC5",
                "#B0BEC5",
                "#B0BEC5"
               ]
              ]
             }
            ],
            "label": "Topic 1",
            "method": "update"
           },
           {
            "args": [
             {
              "marker.color": [
               [
                "#B0BEC5",
                "#B0BEC5",
                "red",
                "#B0BEC5",
                "#B0BEC5",
                "#B0BEC5",
                "#B0BEC5",
                "#B0BEC5",
                "#B0BEC5",
                "#B0BEC5",
                "#B0BEC5",
                "#B0BEC5",
                "#B0BEC5",
                "#B0BEC5",
                "#B0BEC5",
                "#B0BEC5",
                "#B0BEC5",
                "#B0BEC5",
                "#B0BEC5",
                "#B0BEC5",
                "#B0BEC5"
               ]
              ]
             }
            ],
            "label": "Topic 2",
            "method": "update"
           },
           {
            "args": [
             {
              "marker.color": [
               [
                "#B0BEC5",
                "#B0BEC5",
                "#B0BEC5",
                "red",
                "#B0BEC5",
                "#B0BEC5",
                "#B0BEC5",
                "#B0BEC5",
                "#B0BEC5",
                "#B0BEC5",
                "#B0BEC5",
                "#B0BEC5",
                "#B0BEC5",
                "#B0BEC5",
                "#B0BEC5",
                "#B0BEC5",
                "#B0BEC5",
                "#B0BEC5",
                "#B0BEC5",
                "#B0BEC5",
                "#B0BEC5"
               ]
              ]
             }
            ],
            "label": "Topic 3",
            "method": "update"
           },
           {
            "args": [
             {
              "marker.color": [
               [
                "#B0BEC5",
                "#B0BEC5",
                "#B0BEC5",
                "#B0BEC5",
                "red",
                "#B0BEC5",
                "#B0BEC5",
                "#B0BEC5",
                "#B0BEC5",
                "#B0BEC5",
                "#B0BEC5",
                "#B0BEC5",
                "#B0BEC5",
                "#B0BEC5",
                "#B0BEC5",
                "#B0BEC5",
                "#B0BEC5",
                "#B0BEC5",
                "#B0BEC5",
                "#B0BEC5",
                "#B0BEC5"
               ]
              ]
             }
            ],
            "label": "Topic 4",
            "method": "update"
           },
           {
            "args": [
             {
              "marker.color": [
               [
                "#B0BEC5",
                "#B0BEC5",
                "#B0BEC5",
                "#B0BEC5",
                "#B0BEC5",
                "red",
                "#B0BEC5",
                "#B0BEC5",
                "#B0BEC5",
                "#B0BEC5",
                "#B0BEC5",
                "#B0BEC5",
                "#B0BEC5",
                "#B0BEC5",
                "#B0BEC5",
                "#B0BEC5",
                "#B0BEC5",
                "#B0BEC5",
                "#B0BEC5",
                "#B0BEC5",
                "#B0BEC5"
               ]
              ]
             }
            ],
            "label": "Topic 5",
            "method": "update"
           },
           {
            "args": [
             {
              "marker.color": [
               [
                "#B0BEC5",
                "#B0BEC5",
                "#B0BEC5",
                "#B0BEC5",
                "#B0BEC5",
                "#B0BEC5",
                "red",
                "#B0BEC5",
                "#B0BEC5",
                "#B0BEC5",
                "#B0BEC5",
                "#B0BEC5",
                "#B0BEC5",
                "#B0BEC5",
                "#B0BEC5",
                "#B0BEC5",
                "#B0BEC5",
                "#B0BEC5",
                "#B0BEC5",
                "#B0BEC5",
                "#B0BEC5"
               ]
              ]
             }
            ],
            "label": "Topic 6",
            "method": "update"
           },
           {
            "args": [
             {
              "marker.color": [
               [
                "#B0BEC5",
                "#B0BEC5",
                "#B0BEC5",
                "#B0BEC5",
                "#B0BEC5",
                "#B0BEC5",
                "#B0BEC5",
                "red",
                "#B0BEC5",
                "#B0BEC5",
                "#B0BEC5",
                "#B0BEC5",
                "#B0BEC5",
                "#B0BEC5",
                "#B0BEC5",
                "#B0BEC5",
                "#B0BEC5",
                "#B0BEC5",
                "#B0BEC5",
                "#B0BEC5",
                "#B0BEC5"
               ]
              ]
             }
            ],
            "label": "Topic 7",
            "method": "update"
           },
           {
            "args": [
             {
              "marker.color": [
               [
                "#B0BEC5",
                "#B0BEC5",
                "#B0BEC5",
                "#B0BEC5",
                "#B0BEC5",
                "#B0BEC5",
                "#B0BEC5",
                "#B0BEC5",
                "red",
                "#B0BEC5",
                "#B0BEC5",
                "#B0BEC5",
                "#B0BEC5",
                "#B0BEC5",
                "#B0BEC5",
                "#B0BEC5",
                "#B0BEC5",
                "#B0BEC5",
                "#B0BEC5",
                "#B0BEC5",
                "#B0BEC5"
               ]
              ]
             }
            ],
            "label": "Topic 8",
            "method": "update"
           },
           {
            "args": [
             {
              "marker.color": [
               [
                "#B0BEC5",
                "#B0BEC5",
                "#B0BEC5",
                "#B0BEC5",
                "#B0BEC5",
                "#B0BEC5",
                "#B0BEC5",
                "#B0BEC5",
                "#B0BEC5",
                "red",
                "#B0BEC5",
                "#B0BEC5",
                "#B0BEC5",
                "#B0BEC5",
                "#B0BEC5",
                "#B0BEC5",
                "#B0BEC5",
                "#B0BEC5",
                "#B0BEC5",
                "#B0BEC5",
                "#B0BEC5"
               ]
              ]
             }
            ],
            "label": "Topic 9",
            "method": "update"
           },
           {
            "args": [
             {
              "marker.color": [
               [
                "#B0BEC5",
                "#B0BEC5",
                "#B0BEC5",
                "#B0BEC5",
                "#B0BEC5",
                "#B0BEC5",
                "#B0BEC5",
                "#B0BEC5",
                "#B0BEC5",
                "#B0BEC5",
                "red",
                "#B0BEC5",
                "#B0BEC5",
                "#B0BEC5",
                "#B0BEC5",
                "#B0BEC5",
                "#B0BEC5",
                "#B0BEC5",
                "#B0BEC5",
                "#B0BEC5",
                "#B0BEC5"
               ]
              ]
             }
            ],
            "label": "Topic 10",
            "method": "update"
           },
           {
            "args": [
             {
              "marker.color": [
               [
                "#B0BEC5",
                "#B0BEC5",
                "#B0BEC5",
                "#B0BEC5",
                "#B0BEC5",
                "#B0BEC5",
                "#B0BEC5",
                "#B0BEC5",
                "#B0BEC5",
                "#B0BEC5",
                "#B0BEC5",
                "red",
                "#B0BEC5",
                "#B0BEC5",
                "#B0BEC5",
                "#B0BEC5",
                "#B0BEC5",
                "#B0BEC5",
                "#B0BEC5",
                "#B0BEC5",
                "#B0BEC5"
               ]
              ]
             }
            ],
            "label": "Topic 11",
            "method": "update"
           },
           {
            "args": [
             {
              "marker.color": [
               [
                "#B0BEC5",
                "#B0BEC5",
                "#B0BEC5",
                "#B0BEC5",
                "#B0BEC5",
                "#B0BEC5",
                "#B0BEC5",
                "#B0BEC5",
                "#B0BEC5",
                "#B0BEC5",
                "#B0BEC5",
                "#B0BEC5",
                "red",
                "#B0BEC5",
                "#B0BEC5",
                "#B0BEC5",
                "#B0BEC5",
                "#B0BEC5",
                "#B0BEC5",
                "#B0BEC5",
                "#B0BEC5"
               ]
              ]
             }
            ],
            "label": "Topic 12",
            "method": "update"
           },
           {
            "args": [
             {
              "marker.color": [
               [
                "#B0BEC5",
                "#B0BEC5",
                "#B0BEC5",
                "#B0BEC5",
                "#B0BEC5",
                "#B0BEC5",
                "#B0BEC5",
                "#B0BEC5",
                "#B0BEC5",
                "#B0BEC5",
                "#B0BEC5",
                "#B0BEC5",
                "#B0BEC5",
                "red",
                "#B0BEC5",
                "#B0BEC5",
                "#B0BEC5",
                "#B0BEC5",
                "#B0BEC5",
                "#B0BEC5",
                "#B0BEC5"
               ]
              ]
             }
            ],
            "label": "Topic 13",
            "method": "update"
           },
           {
            "args": [
             {
              "marker.color": [
               [
                "#B0BEC5",
                "#B0BEC5",
                "#B0BEC5",
                "#B0BEC5",
                "#B0BEC5",
                "#B0BEC5",
                "#B0BEC5",
                "#B0BEC5",
                "#B0BEC5",
                "#B0BEC5",
                "#B0BEC5",
                "#B0BEC5",
                "#B0BEC5",
                "#B0BEC5",
                "red",
                "#B0BEC5",
                "#B0BEC5",
                "#B0BEC5",
                "#B0BEC5",
                "#B0BEC5",
                "#B0BEC5"
               ]
              ]
             }
            ],
            "label": "Topic 14",
            "method": "update"
           },
           {
            "args": [
             {
              "marker.color": [
               [
                "#B0BEC5",
                "#B0BEC5",
                "#B0BEC5",
                "#B0BEC5",
                "#B0BEC5",
                "#B0BEC5",
                "#B0BEC5",
                "#B0BEC5",
                "#B0BEC5",
                "#B0BEC5",
                "#B0BEC5",
                "#B0BEC5",
                "#B0BEC5",
                "#B0BEC5",
                "#B0BEC5",
                "red",
                "#B0BEC5",
                "#B0BEC5",
                "#B0BEC5",
                "#B0BEC5",
                "#B0BEC5"
               ]
              ]
             }
            ],
            "label": "Topic 15",
            "method": "update"
           },
           {
            "args": [
             {
              "marker.color": [
               [
                "#B0BEC5",
                "#B0BEC5",
                "#B0BEC5",
                "#B0BEC5",
                "#B0BEC5",
                "#B0BEC5",
                "#B0BEC5",
                "#B0BEC5",
                "#B0BEC5",
                "#B0BEC5",
                "#B0BEC5",
                "#B0BEC5",
                "#B0BEC5",
                "#B0BEC5",
                "#B0BEC5",
                "#B0BEC5",
                "red",
                "#B0BEC5",
                "#B0BEC5",
                "#B0BEC5",
                "#B0BEC5"
               ]
              ]
             }
            ],
            "label": "Topic 16",
            "method": "update"
           },
           {
            "args": [
             {
              "marker.color": [
               [
                "#B0BEC5",
                "#B0BEC5",
                "#B0BEC5",
                "#B0BEC5",
                "#B0BEC5",
                "#B0BEC5",
                "#B0BEC5",
                "#B0BEC5",
                "#B0BEC5",
                "#B0BEC5",
                "#B0BEC5",
                "#B0BEC5",
                "#B0BEC5",
                "#B0BEC5",
                "#B0BEC5",
                "#B0BEC5",
                "#B0BEC5",
                "red",
                "#B0BEC5",
                "#B0BEC5",
                "#B0BEC5"
               ]
              ]
             }
            ],
            "label": "Topic 17",
            "method": "update"
           },
           {
            "args": [
             {
              "marker.color": [
               [
                "#B0BEC5",
                "#B0BEC5",
                "#B0BEC5",
                "#B0BEC5",
                "#B0BEC5",
                "#B0BEC5",
                "#B0BEC5",
                "#B0BEC5",
                "#B0BEC5",
                "#B0BEC5",
                "#B0BEC5",
                "#B0BEC5",
                "#B0BEC5",
                "#B0BEC5",
                "#B0BEC5",
                "#B0BEC5",
                "#B0BEC5",
                "#B0BEC5",
                "red",
                "#B0BEC5",
                "#B0BEC5"
               ]
              ]
             }
            ],
            "label": "Topic 18",
            "method": "update"
           },
           {
            "args": [
             {
              "marker.color": [
               [
                "#B0BEC5",
                "#B0BEC5",
                "#B0BEC5",
                "#B0BEC5",
                "#B0BEC5",
                "#B0BEC5",
                "#B0BEC5",
                "#B0BEC5",
                "#B0BEC5",
                "#B0BEC5",
                "#B0BEC5",
                "#B0BEC5",
                "#B0BEC5",
                "#B0BEC5",
                "#B0BEC5",
                "#B0BEC5",
                "#B0BEC5",
                "#B0BEC5",
                "#B0BEC5",
                "red",
                "#B0BEC5"
               ]
              ]
             }
            ],
            "label": "Topic 19",
            "method": "update"
           },
           {
            "args": [
             {
              "marker.color": [
               [
                "#B0BEC5",
                "#B0BEC5",
                "#B0BEC5",
                "#B0BEC5",
                "#B0BEC5",
                "#B0BEC5",
                "#B0BEC5",
                "#B0BEC5",
                "#B0BEC5",
                "#B0BEC5",
                "#B0BEC5",
                "#B0BEC5",
                "#B0BEC5",
                "#B0BEC5",
                "#B0BEC5",
                "#B0BEC5",
                "#B0BEC5",
                "#B0BEC5",
                "#B0BEC5",
                "#B0BEC5",
                "red"
               ]
              ]
             }
            ],
            "label": "Topic 20",
            "method": "update"
           }
          ]
         }
        ],
        "template": {
         "data": {
          "bar": [
           {
            "error_x": {
             "color": "rgb(36,36,36)"
            },
            "error_y": {
             "color": "rgb(36,36,36)"
            },
            "marker": {
             "line": {
              "color": "white",
              "width": 0.5
             },
             "pattern": {
              "fillmode": "overlay",
              "size": 10,
              "solidity": 0.2
             }
            },
            "type": "bar"
           }
          ],
          "barpolar": [
           {
            "marker": {
             "line": {
              "color": "white",
              "width": 0.5
             },
             "pattern": {
              "fillmode": "overlay",
              "size": 10,
              "solidity": 0.2
             }
            },
            "type": "barpolar"
           }
          ],
          "carpet": [
           {
            "aaxis": {
             "endlinecolor": "rgb(36,36,36)",
             "gridcolor": "white",
             "linecolor": "white",
             "minorgridcolor": "white",
             "startlinecolor": "rgb(36,36,36)"
            },
            "baxis": {
             "endlinecolor": "rgb(36,36,36)",
             "gridcolor": "white",
             "linecolor": "white",
             "minorgridcolor": "white",
             "startlinecolor": "rgb(36,36,36)"
            },
            "type": "carpet"
           }
          ],
          "choropleth": [
           {
            "colorbar": {
             "outlinewidth": 1,
             "tickcolor": "rgb(36,36,36)",
             "ticks": "outside"
            },
            "type": "choropleth"
           }
          ],
          "contour": [
           {
            "colorbar": {
             "outlinewidth": 1,
             "tickcolor": "rgb(36,36,36)",
             "ticks": "outside"
            },
            "colorscale": [
             [
              0,
              "#440154"
             ],
             [
              0.1111111111111111,
              "#482878"
             ],
             [
              0.2222222222222222,
              "#3e4989"
             ],
             [
              0.3333333333333333,
              "#31688e"
             ],
             [
              0.4444444444444444,
              "#26828e"
             ],
             [
              0.5555555555555556,
              "#1f9e89"
             ],
             [
              0.6666666666666666,
              "#35b779"
             ],
             [
              0.7777777777777778,
              "#6ece58"
             ],
             [
              0.8888888888888888,
              "#b5de2b"
             ],
             [
              1,
              "#fde725"
             ]
            ],
            "type": "contour"
           }
          ],
          "contourcarpet": [
           {
            "colorbar": {
             "outlinewidth": 1,
             "tickcolor": "rgb(36,36,36)",
             "ticks": "outside"
            },
            "type": "contourcarpet"
           }
          ],
          "heatmap": [
           {
            "colorbar": {
             "outlinewidth": 1,
             "tickcolor": "rgb(36,36,36)",
             "ticks": "outside"
            },
            "colorscale": [
             [
              0,
              "#440154"
             ],
             [
              0.1111111111111111,
              "#482878"
             ],
             [
              0.2222222222222222,
              "#3e4989"
             ],
             [
              0.3333333333333333,
              "#31688e"
             ],
             [
              0.4444444444444444,
              "#26828e"
             ],
             [
              0.5555555555555556,
              "#1f9e89"
             ],
             [
              0.6666666666666666,
              "#35b779"
             ],
             [
              0.7777777777777778,
              "#6ece58"
             ],
             [
              0.8888888888888888,
              "#b5de2b"
             ],
             [
              1,
              "#fde725"
             ]
            ],
            "type": "heatmap"
           }
          ],
          "heatmapgl": [
           {
            "colorbar": {
             "outlinewidth": 1,
             "tickcolor": "rgb(36,36,36)",
             "ticks": "outside"
            },
            "colorscale": [
             [
              0,
              "#440154"
             ],
             [
              0.1111111111111111,
              "#482878"
             ],
             [
              0.2222222222222222,
              "#3e4989"
             ],
             [
              0.3333333333333333,
              "#31688e"
             ],
             [
              0.4444444444444444,
              "#26828e"
             ],
             [
              0.5555555555555556,
              "#1f9e89"
             ],
             [
              0.6666666666666666,
              "#35b779"
             ],
             [
              0.7777777777777778,
              "#6ece58"
             ],
             [
              0.8888888888888888,
              "#b5de2b"
             ],
             [
              1,
              "#fde725"
             ]
            ],
            "type": "heatmapgl"
           }
          ],
          "histogram": [
           {
            "marker": {
             "line": {
              "color": "white",
              "width": 0.6
             }
            },
            "type": "histogram"
           }
          ],
          "histogram2d": [
           {
            "colorbar": {
             "outlinewidth": 1,
             "tickcolor": "rgb(36,36,36)",
             "ticks": "outside"
            },
            "colorscale": [
             [
              0,
              "#440154"
             ],
             [
              0.1111111111111111,
              "#482878"
             ],
             [
              0.2222222222222222,
              "#3e4989"
             ],
             [
              0.3333333333333333,
              "#31688e"
             ],
             [
              0.4444444444444444,
              "#26828e"
             ],
             [
              0.5555555555555556,
              "#1f9e89"
             ],
             [
              0.6666666666666666,
              "#35b779"
             ],
             [
              0.7777777777777778,
              "#6ece58"
             ],
             [
              0.8888888888888888,
              "#b5de2b"
             ],
             [
              1,
              "#fde725"
             ]
            ],
            "type": "histogram2d"
           }
          ],
          "histogram2dcontour": [
           {
            "colorbar": {
             "outlinewidth": 1,
             "tickcolor": "rgb(36,36,36)",
             "ticks": "outside"
            },
            "colorscale": [
             [
              0,
              "#440154"
             ],
             [
              0.1111111111111111,
              "#482878"
             ],
             [
              0.2222222222222222,
              "#3e4989"
             ],
             [
              0.3333333333333333,
              "#31688e"
             ],
             [
              0.4444444444444444,
              "#26828e"
             ],
             [
              0.5555555555555556,
              "#1f9e89"
             ],
             [
              0.6666666666666666,
              "#35b779"
             ],
             [
              0.7777777777777778,
              "#6ece58"
             ],
             [
              0.8888888888888888,
              "#b5de2b"
             ],
             [
              1,
              "#fde725"
             ]
            ],
            "type": "histogram2dcontour"
           }
          ],
          "mesh3d": [
           {
            "colorbar": {
             "outlinewidth": 1,
             "tickcolor": "rgb(36,36,36)",
             "ticks": "outside"
            },
            "type": "mesh3d"
           }
          ],
          "parcoords": [
           {
            "line": {
             "colorbar": {
              "outlinewidth": 1,
              "tickcolor": "rgb(36,36,36)",
              "ticks": "outside"
             }
            },
            "type": "parcoords"
           }
          ],
          "pie": [
           {
            "automargin": true,
            "type": "pie"
           }
          ],
          "scatter": [
           {
            "fillpattern": {
             "fillmode": "overlay",
             "size": 10,
             "solidity": 0.2
            },
            "type": "scatter"
           }
          ],
          "scatter3d": [
           {
            "line": {
             "colorbar": {
              "outlinewidth": 1,
              "tickcolor": "rgb(36,36,36)",
              "ticks": "outside"
             }
            },
            "marker": {
             "colorbar": {
              "outlinewidth": 1,
              "tickcolor": "rgb(36,36,36)",
              "ticks": "outside"
             }
            },
            "type": "scatter3d"
           }
          ],
          "scattercarpet": [
           {
            "marker": {
             "colorbar": {
              "outlinewidth": 1,
              "tickcolor": "rgb(36,36,36)",
              "ticks": "outside"
             }
            },
            "type": "scattercarpet"
           }
          ],
          "scattergeo": [
           {
            "marker": {
             "colorbar": {
              "outlinewidth": 1,
              "tickcolor": "rgb(36,36,36)",
              "ticks": "outside"
             }
            },
            "type": "scattergeo"
           }
          ],
          "scattergl": [
           {
            "marker": {
             "colorbar": {
              "outlinewidth": 1,
              "tickcolor": "rgb(36,36,36)",
              "ticks": "outside"
             }
            },
            "type": "scattergl"
           }
          ],
          "scattermapbox": [
           {
            "marker": {
             "colorbar": {
              "outlinewidth": 1,
              "tickcolor": "rgb(36,36,36)",
              "ticks": "outside"
             }
            },
            "type": "scattermapbox"
           }
          ],
          "scatterpolar": [
           {
            "marker": {
             "colorbar": {
              "outlinewidth": 1,
              "tickcolor": "rgb(36,36,36)",
              "ticks": "outside"
             }
            },
            "type": "scatterpolar"
           }
          ],
          "scatterpolargl": [
           {
            "marker": {
             "colorbar": {
              "outlinewidth": 1,
              "tickcolor": "rgb(36,36,36)",
              "ticks": "outside"
             }
            },
            "type": "scatterpolargl"
           }
          ],
          "scatterternary": [
           {
            "marker": {
             "colorbar": {
              "outlinewidth": 1,
              "tickcolor": "rgb(36,36,36)",
              "ticks": "outside"
             }
            },
            "type": "scatterternary"
           }
          ],
          "surface": [
           {
            "colorbar": {
             "outlinewidth": 1,
             "tickcolor": "rgb(36,36,36)",
             "ticks": "outside"
            },
            "colorscale": [
             [
              0,
              "#440154"
             ],
             [
              0.1111111111111111,
              "#482878"
             ],
             [
              0.2222222222222222,
              "#3e4989"
             ],
             [
              0.3333333333333333,
              "#31688e"
             ],
             [
              0.4444444444444444,
              "#26828e"
             ],
             [
              0.5555555555555556,
              "#1f9e89"
             ],
             [
              0.6666666666666666,
              "#35b779"
             ],
             [
              0.7777777777777778,
              "#6ece58"
             ],
             [
              0.8888888888888888,
              "#b5de2b"
             ],
             [
              1,
              "#fde725"
             ]
            ],
            "type": "surface"
           }
          ],
          "table": [
           {
            "cells": {
             "fill": {
              "color": "rgb(237,237,237)"
             },
             "line": {
              "color": "white"
             }
            },
            "header": {
             "fill": {
              "color": "rgb(217,217,217)"
             },
             "line": {
              "color": "white"
             }
            },
            "type": "table"
           }
          ]
         },
         "layout": {
          "annotationdefaults": {
           "arrowhead": 0,
           "arrowwidth": 1
          },
          "autotypenumbers": "strict",
          "coloraxis": {
           "colorbar": {
            "outlinewidth": 1,
            "tickcolor": "rgb(36,36,36)",
            "ticks": "outside"
           }
          },
          "colorscale": {
           "diverging": [
            [
             0,
             "rgb(103,0,31)"
            ],
            [
             0.1,
             "rgb(178,24,43)"
            ],
            [
             0.2,
             "rgb(214,96,77)"
            ],
            [
             0.3,
             "rgb(244,165,130)"
            ],
            [
             0.4,
             "rgb(253,219,199)"
            ],
            [
             0.5,
             "rgb(247,247,247)"
            ],
            [
             0.6,
             "rgb(209,229,240)"
            ],
            [
             0.7,
             "rgb(146,197,222)"
            ],
            [
             0.8,
             "rgb(67,147,195)"
            ],
            [
             0.9,
             "rgb(33,102,172)"
            ],
            [
             1,
             "rgb(5,48,97)"
            ]
           ],
           "sequential": [
            [
             0,
             "#440154"
            ],
            [
             0.1111111111111111,
             "#482878"
            ],
            [
             0.2222222222222222,
             "#3e4989"
            ],
            [
             0.3333333333333333,
             "#31688e"
            ],
            [
             0.4444444444444444,
             "#26828e"
            ],
            [
             0.5555555555555556,
             "#1f9e89"
            ],
            [
             0.6666666666666666,
             "#35b779"
            ],
            [
             0.7777777777777778,
             "#6ece58"
            ],
            [
             0.8888888888888888,
             "#b5de2b"
            ],
            [
             1,
             "#fde725"
            ]
           ],
           "sequentialminus": [
            [
             0,
             "#440154"
            ],
            [
             0.1111111111111111,
             "#482878"
            ],
            [
             0.2222222222222222,
             "#3e4989"
            ],
            [
             0.3333333333333333,
             "#31688e"
            ],
            [
             0.4444444444444444,
             "#26828e"
            ],
            [
             0.5555555555555556,
             "#1f9e89"
            ],
            [
             0.6666666666666666,
             "#35b779"
            ],
            [
             0.7777777777777778,
             "#6ece58"
            ],
            [
             0.8888888888888888,
             "#b5de2b"
            ],
            [
             1,
             "#fde725"
            ]
           ]
          },
          "colorway": [
           "#1F77B4",
           "#FF7F0E",
           "#2CA02C",
           "#D62728",
           "#9467BD",
           "#8C564B",
           "#E377C2",
           "#7F7F7F",
           "#BCBD22",
           "#17BECF"
          ],
          "font": {
           "color": "rgb(36,36,36)"
          },
          "geo": {
           "bgcolor": "white",
           "lakecolor": "white",
           "landcolor": "white",
           "showlakes": true,
           "showland": true,
           "subunitcolor": "white"
          },
          "hoverlabel": {
           "align": "left"
          },
          "hovermode": "closest",
          "mapbox": {
           "style": "light"
          },
          "paper_bgcolor": "white",
          "plot_bgcolor": "white",
          "polar": {
           "angularaxis": {
            "gridcolor": "rgb(232,232,232)",
            "linecolor": "rgb(36,36,36)",
            "showgrid": false,
            "showline": true,
            "ticks": "outside"
           },
           "bgcolor": "white",
           "radialaxis": {
            "gridcolor": "rgb(232,232,232)",
            "linecolor": "rgb(36,36,36)",
            "showgrid": false,
            "showline": true,
            "ticks": "outside"
           }
          },
          "scene": {
           "xaxis": {
            "backgroundcolor": "white",
            "gridcolor": "rgb(232,232,232)",
            "gridwidth": 2,
            "linecolor": "rgb(36,36,36)",
            "showbackground": true,
            "showgrid": false,
            "showline": true,
            "ticks": "outside",
            "zeroline": false,
            "zerolinecolor": "rgb(36,36,36)"
           },
           "yaxis": {
            "backgroundcolor": "white",
            "gridcolor": "rgb(232,232,232)",
            "gridwidth": 2,
            "linecolor": "rgb(36,36,36)",
            "showbackground": true,
            "showgrid": false,
            "showline": true,
            "ticks": "outside",
            "zeroline": false,
            "zerolinecolor": "rgb(36,36,36)"
           },
           "zaxis": {
            "backgroundcolor": "white",
            "gridcolor": "rgb(232,232,232)",
            "gridwidth": 2,
            "linecolor": "rgb(36,36,36)",
            "showbackground": true,
            "showgrid": false,
            "showline": true,
            "ticks": "outside",
            "zeroline": false,
            "zerolinecolor": "rgb(36,36,36)"
           }
          },
          "shapedefaults": {
           "fillcolor": "black",
           "line": {
            "width": 0
           },
           "opacity": 0.3
          },
          "ternary": {
           "aaxis": {
            "gridcolor": "rgb(232,232,232)",
            "linecolor": "rgb(36,36,36)",
            "showgrid": false,
            "showline": true,
            "ticks": "outside"
           },
           "baxis": {
            "gridcolor": "rgb(232,232,232)",
            "linecolor": "rgb(36,36,36)",
            "showgrid": false,
            "showline": true,
            "ticks": "outside"
           },
           "bgcolor": "white",
           "caxis": {
            "gridcolor": "rgb(232,232,232)",
            "linecolor": "rgb(36,36,36)",
            "showgrid": false,
            "showline": true,
            "ticks": "outside"
           }
          },
          "title": {
           "x": 0.05
          },
          "xaxis": {
           "automargin": true,
           "gridcolor": "rgb(232,232,232)",
           "linecolor": "rgb(36,36,36)",
           "showgrid": false,
           "showline": true,
           "ticks": "outside",
           "title": {
            "standoff": 15
           },
           "zeroline": false,
           "zerolinecolor": "rgb(36,36,36)"
          },
          "yaxis": {
           "automargin": true,
           "gridcolor": "rgb(232,232,232)",
           "linecolor": "rgb(36,36,36)",
           "showgrid": false,
           "showline": true,
           "ticks": "outside",
           "title": {
            "standoff": 15
           },
           "zeroline": false,
           "zerolinecolor": "rgb(36,36,36)"
          }
         }
        },
        "title": {
         "font": {
          "color": "Black",
          "size": 22
         },
         "text": "<b>Intertopic Distance Map</b>",
         "x": 0.5,
         "xanchor": "center",
         "y": 0.95,
         "yanchor": "top"
        },
        "width": 650,
        "xaxis": {
         "anchor": "y",
         "domain": [
          0,
          1
         ],
         "range": [
          -11.107530212402343,
          2.114773488044739
         ],
         "title": {
          "text": ""
         },
         "visible": false
        },
        "yaxis": {
         "anchor": "x",
         "domain": [
          0,
          1
         ],
         "range": [
          4.146132826805115,
          20.76924285888672
         ],
         "title": {
          "text": ""
         },
         "visible": false
        }
       }
      }
     },
     "metadata": {},
     "output_type": "display_data"
    }
   ],
   "source": [
    "topic_model.visualize_topics()"
   ]
  },
  {
   "cell_type": "code",
   "execution_count": null,
   "metadata": {},
   "outputs": [
    {
     "data": {
      "application/vnd.plotly.v1+json": {
       "config": {
        "plotlyServerURL": "https://plot.ly"
       },
       "data": [
        {
         "hoverinfo": "text",
         "marker": {
          "color": "#CFD8DC",
          "opacity": 0.5,
          "size": 5
         },
         "mode": "markers+text",
         "name": "other",
         "showlegend": false,
         "type": "scattergl",
         "x": [
          5.526303291320801,
          8.217156410217285,
          4.741944789886475,
          9.256746292114258,
          4.697474002838135,
          8.488250732421875,
          3.643404006958008,
          3.260897397994995,
          5.926416397094727,
          5.801600933074951,
          3.7839105129241943,
          6.846815586090088,
          5.566155910491943,
          6.667552947998047,
          7.265388011932373,
          8.49433708190918,
          5.907464981079102,
          4.238245487213135,
          7.534278392791748,
          3.8667008876800537,
          7.524105072021484,
          9.543858528137207,
          5.897052764892578,
          4.818735599517822,
          7.133914470672607,
          5.817061424255371,
          7.5990519523620605,
          4.515990257263184,
          1.1710602045059204,
          5.289597511291504,
          7.114450454711914,
          5.249847412109375,
          4.964486598968506,
          5.749370574951172,
          3.9183032512664795,
          4.061821937561035,
          6.750038146972656,
          3.6105029582977295,
          6.891159534454346,
          8.073604583740234,
          5.235567569732666,
          4.938497066497803,
          4.929624557495117,
          5.868494033813477,
          6.477334022521973,
          2.907881736755371,
          5.41019868850708,
          7.229335784912109,
          5.46042537689209,
          6.707580089569092,
          3.9070403575897217,
          3.8788416385650635,
          5.027734756469727,
          3.6640920639038086,
          6.506182670593262,
          4.529050350189209,
          6.50201940536499,
          6.201910972595215,
          4.336735248565674,
          5.897762775421143,
          7.036866664886475,
          6.889345645904541,
          6.505794525146484,
          6.902985095977783,
          6.907643795013428,
          4.467960834503174,
          4.9169206619262695,
          6.506193161010742,
          8.798832893371582,
          6.706644058227539,
          3.339700222015381,
          8.892388343811035,
          7.142002105712891,
          8.069273948669434,
          4.496175289154053,
          8.531364440917969,
          7.187486171722412,
          8.935342788696289,
          3.2936387062072754,
          8.09565258026123,
          3.302785634994507,
          7.665145397186279,
          8.316312789916992,
          9.12674617767334,
          8.372679710388184,
          7.146884918212891,
          8.584464073181152,
          6.653480529785156,
          8.977469444274902,
          5.33427095413208,
          4.902585506439209,
          7.180281162261963,
          6.5194268226623535,
          5.38292932510376,
          3.2834432125091553,
          1.8289105892181396,
          8.600052833557129,
          5.8396525382995605,
          6.955645561218262,
          6.290489673614502,
          5.674269676208496,
          5.368927001953125,
          1.243270993232727,
          5.891499996185303,
          8.556119918823242,
          4.234388828277588,
          7.278104782104492,
          8.054031372070312,
          5.805901527404785,
          4.86843204498291,
          2.818967819213867,
          8.821497917175293,
          8.677738189697266,
          3.846855640411377,
          6.576674938201904,
          3.9394216537475586,
          8.846735954284668,
          8.755778312683105,
          6.897341728210449,
          6.864983081817627,
          4.026228904724121,
          3.7774486541748047,
          8.199677467346191,
          7.255279064178467,
          9.232583045959473,
          5.300975799560547,
          5.402904987335205,
          9.239888191223145,
          6.532423496246338,
          3.325956106185913,
          3.841524839401245,
          6.547497749328613,
          8.803351402282715,
          3.141265630722046,
          8.504921913146973,
          6.579605579376221,
          6.794124126434326,
          9.082200050354004,
          4.428464889526367,
          5.567762851715088,
          5.258378028869629,
          5.160322189331055,
          7.068754196166992,
          7.396862506866455,
          7.2927565574646,
          4.006114959716797,
          7.183399677276611,
          7.9159345626831055,
          3.2262561321258545,
          8.934670448303223,
          6.7728352546691895,
          4.749424934387207,
          6.656566143035889,
          8.166284561157227,
          6.850586414337158,
          4.759632110595703,
          7.688554286956787,
          8.748126029968262,
          3.4981346130371094,
          9.245841026306152,
          8.510237693786621,
          7.274539470672607,
          6.6775994300842285,
          3.799281358718872,
          3.255711555480957,
          3.1963016986846924,
          1.9946650266647339,
          6.559142589569092,
          8.709822654724121,
          3.4697933197021484,
          7.881104946136475,
          4.654658794403076,
          3.6816160678863525,
          5.603449821472168,
          8.159863471984863,
          6.353724956512451,
          7.075937747955322,
          3.816448211669922,
          5.4840989112854,
          7.758538722991943,
          6.507087230682373,
          6.515737056732178,
          4.688150882720947,
          4.02224063873291,
          7.3260955810546875,
          6.241693496704102,
          6.682318210601807,
          8.061559677124023,
          6.244102954864502,
          6.914251804351807,
          9.22126293182373,
          6.243677139282227,
          9.140475273132324,
          6.152366638183594,
          6.514829158782959,
          7.1508564949035645,
          5.19896936416626,
          5.303551197052002,
          3.950248956680298,
          9.152420997619629,
          6.088337421417236,
          5.783923149108887,
          1.1751844882965088,
          3.8347654342651367,
          8.527045249938965,
          4.826610088348389,
          6.747204780578613,
          2.8706843852996826,
          1.1724880933761597,
          6.11431360244751,
          7.204219818115234,
          6.335128307342529,
          6.31069803237915,
          4.131248950958252,
          5.094033718109131,
          7.4927897453308105,
          7.177201271057129,
          9.012117385864258,
          5.34261417388916,
          8.117502212524414,
          8.105491638183594,
          8.75755786895752,
          5.177659034729004,
          6.042201519012451,
          7.271636486053467,
          5.194996356964111,
          7.908355236053467,
          1.1727992296218872,
          8.875590324401855,
          4.871816158294678,
          6.757145404815674,
          7.288834571838379,
          8.59400749206543,
          3.3616816997528076,
          3.968844413757324,
          3.1196393966674805,
          7.293902397155762,
          3.9384655952453613,
          8.9530611038208,
          7.031493186950684,
          9.566852569580078,
          8.872678756713867,
          6.633718013763428,
          6.680390357971191,
          5.347243785858154,
          9.075043678283691,
          5.291227340698242,
          4.053151607513428,
          6.26025390625,
          3.8791632652282715,
          3.951716661453247,
          4.047081470489502,
          4.505780220031738,
          7.214621067047119,
          5.070217609405518,
          7.7732462882995605,
          5.868710517883301,
          6.508452892303467,
          7.79205846786499,
          7.684786796569824,
          8.929272651672363,
          3.4220218658447266,
          7.291743278503418,
          3.9740257263183594,
          8.083617210388184,
          6.101471424102783,
          8.983551025390625,
          7.496443748474121,
          8.547818183898926,
          5.8975090980529785,
          1.1760976314544678,
          6.673437595367432,
          3.320410966873169,
          4.09597110748291,
          5.99648904800415,
          3.7390060424804688,
          9.270740509033203,
          6.7659077644348145,
          3.7754130363464355,
          4.145087718963623,
          7.448996543884277,
          6.496002674102783,
          6.2427520751953125,
          3.9529356956481934,
          4.418719291687012,
          8.956594467163086,
          5.366873741149902,
          6.783274173736572,
          7.053854942321777,
          7.791569709777832,
          3.6122210025787354,
          8.987312316894531,
          7.751911163330078,
          8.698124885559082,
          9.554697036743164,
          5.232914447784424,
          4.396060943603516,
          5.2878031730651855,
          9.290767669677734,
          3.766012668609619,
          4.615931034088135,
          5.899090766906738,
          4.452070713043213,
          3.642249345779419,
          3.111720323562622,
          5.373503684997559,
          6.161013126373291,
          6.644650459289551,
          7.033817768096924,
          3.153953790664673,
          4.672178268432617,
          7.675906658172607,
          4.674594879150391,
          6.676274299621582,
          7.215872764587402,
          3.537167549133301,
          8.768060684204102,
          8.417545318603516,
          6.596243381500244,
          4.6569318771362305,
          5.859639644622803,
          9.036617279052734,
          7.1532697677612305,
          7.291433811187744,
          8.853825569152832,
          4.7796950340271,
          5.41392183303833,
          5.57152795791626,
          5.2123613357543945,
          8.992480278015137,
          6.49821662902832,
          1.1702293157577515,
          8.979218482971191,
          6.856784343719482,
          8.921734809875488,
          6.13350772857666
         ],
         "y": [
          2.8196041584014893,
          6.746204376220703,
          4.779612064361572,
          6.074820518493652,
          4.513831615447998,
          4.100560665130615,
          5.181349754333496,
          5.819841384887695,
          4.299211502075195,
          4.315757751464844,
          6.1587042808532715,
          3.8275485038757324,
          2.717097043991089,
          2.770632028579712,
          4.547169208526611,
          3.6235315799713135,
          3.225179433822632,
          4.803835868835449,
          6.261980056762695,
          6.777556896209717,
          5.058150768280029,
          6.4360761642456055,
          4.326911926269531,
          5.887847900390625,
          4.539436340332031,
          4.189209461212158,
          2.720686912536621,
          5.3745880126953125,
          3.485839605331421,
          4.290132999420166,
          3.9649546146392822,
          4.863347053527832,
          5.264888286590576,
          4.298215389251709,
          5.860913276672363,
          4.983368873596191,
          3.949258327484131,
          4.004461288452148,
          5.2086968421936035,
          6.737310409545898,
          3.6776232719421387,
          5.912742614746094,
          5.335216999053955,
          5.572659015655518,
          1.0047588348388672,
          6.37638521194458,
          4.017763614654541,
          5.756962776184082,
          5.51460599899292,
          3.677039384841919,
          5.5486626625061035,
          5.313803672790527,
          3.3088576793670654,
          6.003681659698486,
          0.975942075252533,
          4.38299560546875,
          4.133821487426758,
          4.139639854431152,
          4.372891902923584,
          4.244333744049072,
          3.0450148582458496,
          5.24464225769043,
          0.9772321581840515,
          5.917456150054932,
          3.767902135848999,
          4.546237945556641,
          5.568751335144043,
          0.9757453799247742,
          4.6025848388671875,
          4.051030158996582,
          5.518321514129639,
          3.467719793319702,
          3.352747917175293,
          5.201025009155273,
          4.415782928466797,
          4.304262638092041,
          5.750911712646484,
          3.4149839878082275,
          5.05024528503418,
          6.714317321777344,
          4.20290470123291,
          2.6549127101898193,
          6.271394729614258,
          6.14204216003418,
          4.051301002502441,
          2.900590181350708,
          5.337705612182617,
          1.8055404424667358,
          3.3142881393432617,
          3.846203327178955,
          5.240744590759277,
          2.900750160217285,
          0.9637210965156555,
          4.000564098358154,
          5.058039665222168,
          5.075385093688965,
          6.5251922607421875,
          4.583409309387207,
          3.724910259246826,
          6.10465669631958,
          4.042097568511963,
          3.983505964279175,
          3.4156997203826904,
          5.179469108581543,
          4.710178852081299,
          5.603693962097168,
          6.361947059631348,
          4.863070487976074,
          3.522890329360962,
          5.545189380645752,
          4.610106468200684,
          4.814767837524414,
          6.853204727172852,
          5.922305583953857,
          4.299318313598633,
          5.138027667999268,
          3.8991236686706543,
          5.921878337860107,
          3.8021750450134277,
          5.956225872039795,
          4.000302314758301,
          4.843825817108154,
          3.3288028240203857,
          4.3470540046691895,
          5.486912250518799,
          3.6420702934265137,
          4.533541679382324,
          6.937142372131348,
          3.919389009475708,
          5.534931659698486,
          4.461206436157227,
          3.5752694606781006,
          6.772982120513916,
          6.0270609855651855,
          5.575904369354248,
          2.936192750930786,
          3.368830442428589,
          6.5852460861206055,
          6.26376485824585,
          4.2491774559021,
          3.971342086791992,
          5.608240604400635,
          5.774051666259766,
          4.161290168762207,
          6.386708736419678,
          6.014526844024658,
          2.662118911743164,
          6.445599555969238,
          5.112048625946045,
          3.3709192276000977,
          5.811848163604736,
          4.869954586029053,
          1.8133565187454224,
          6.665956974029541,
          5.153655052185059,
          4.176156520843506,
          2.6462454795837402,
          5.043191909790039,
          5.994677543640137,
          6.119797706604004,
          2.6208555698394775,
          4.987924098968506,
          1.805667757987976,
          5.775331974029541,
          5.114729881286621,
          4.835225582122803,
          5.010320663452148,
          2.3014931678771973,
          5.73416805267334,
          5.3747076988220215,
          3.5642733573913574,
          5.485764980316162,
          4.026214599609375,
          3.896538257598877,
          6.745700359344482,
          4.465662002563477,
          3.959872007369995,
          5.793227672576904,
          5.756153106689453,
          6.345710277557373,
          0.9726536273956299,
          3.579435110092163,
          5.132772445678711,
          6.031016826629639,
          4.709869861602783,
          6.096390247344971,
          5.420107841491699,
          6.713572978973389,
          3.824754238128662,
          5.270486831665039,
          6.229226112365723,
          4.8950300216674805,
          6.195961952209473,
          2.557263135910034,
          1.0036863088607788,
          3.9185757637023926,
          3.0964388847351074,
          3.83864426612854,
          4.771242141723633,
          6.214901924133301,
          4.023894309997559,
          3.792804002761841,
          3.479658365249634,
          5.683752059936523,
          5.076693534851074,
          4.753198146820068,
          3.572499990463257,
          5.1976823806762695,
          3.4888217449188232,
          2.907339572906494,
          3.493896007537842,
          4.418530464172363,
          4.181346416473389,
          4.300568103790283,
          5.093227863311768,
          3.7149925231933594,
          4.112644195556641,
          6.482548236846924,
          3.9196720123291016,
          4.641829490661621,
          3.1894068717956543,
          3.94183349609375,
          4.746391296386719,
          4.984699249267578,
          4.269444942474365,
          4.28925085067749,
          6.546836853027344,
          3.4876792430877686,
          3.707106828689575,
          3.5952308177948,
          5.624616622924805,
          6.380084991455078,
          6.681300640106201,
          4.866540431976318,
          5.065120697021484,
          5.171103477478027,
          6.387779712677002,
          4.728951454162598,
          7.030614376068115,
          4.645935535430908,
          6.668869495391846,
          3.342235565185547,
          3.9076154232025146,
          2.316502809524536,
          4.444286346435547,
          3.787687301635742,
          2.5350520610809326,
          5.06958532333374,
          2.795679807662964,
          6.781306266784668,
          5.009639263153076,
          6.001786231994629,
          4.457086563110352,
          5.631936550140381,
          5.678333759307861,
          5.810670375823975,
          5.557095527648926,
          0.9756126999855042,
          5.892220973968506,
          4.697625160217285,
          3.641904592514038,
          5.636173725128174,
          6.381444931030273,
          6.774357318878174,
          4.854376792907715,
          4.230743885040283,
          3.643364906311035,
          3.6660966873168945,
          4.867490768432617,
          5.5794854164123535,
          3.4903647899627686,
          3.631436824798584,
          5.573154926300049,
          5.098572254180908,
          4.129709720611572,
          6.754467964172363,
          6.106510639190674,
          3.7763683795928955,
          4.632461071014404,
          5.941279888153076,
          5.071375846862793,
          2.3675098419189453,
          3.193911075592041,
          5.491677284240723,
          6.300014019012451,
          3.3733103275299072,
          2.6299667358398438,
          2.6752965450286865,
          3.386411666870117,
          6.371821403503418,
          5.112095355987549,
          5.546858787536621,
          4.399302959442139,
          6.091158390045166,
          6.4577436447143555,
          4.232052803039551,
          6.296574115753174,
          4.528997421264648,
          6.009882926940918,
          5.883410930633545,
          5.322735786437988,
          3.4021573066711426,
          4.443264007568359,
          3.9869747161865234,
          5.8913469314575195,
          3.904735565185547,
          2.8506453037261963,
          1.8131182193756104,
          3.3676304817199707,
          5.945751190185547,
          3.643197774887085,
          4.944805145263672,
          5.9999494552612305,
          3.2463159561157227,
          4.260446071624756,
          5.837639808654785,
          4.506323337554932,
          4.73264217376709,
          5.5808563232421875,
          6.012905597686768,
          4.78960657119751,
          5.14755392074585,
          2.7873494625091553,
          6.381989479064941,
          4.714167594909668,
          4.965522766113281,
          4.492247581481934,
          3.881944179534912,
          5.249370098114014,
          6.5330305099487305,
          4.823032379150391,
          3.4799320697784424,
          3.364325761795044,
          5.729170322418213,
          3.6566576957702637,
          4.644574165344238
         ]
        },
        {
         "hoverinfo": "text",
         "marker": {
          "opacity": 0.5,
          "size": 5
         },
         "mode": "markers+text",
         "name": "0_活动_门票_景区",
         "text": [
          "",
          "",
          "",
          "",
          "",
          "",
          "",
          "",
          "",
          "",
          "",
          "",
          "",
          "",
          "",
          "",
          "",
          "",
          "",
          "",
          "",
          "",
          "",
          "",
          "",
          "",
          "",
          "",
          "",
          "",
          "",
          "",
          "",
          "",
          "",
          "",
          "",
          "",
          "",
          "",
          "",
          "",
          "",
          "",
          "",
          "",
          "",
          "",
          "",
          "",
          "",
          "",
          "",
          "",
          "",
          "",
          "",
          "",
          "",
          "",
          "0_活动_门票_景区"
         ],
         "textfont": {
          "size": 12
         },
         "type": "scattergl",
         "x": [
          5.957271099090576,
          6.378121852874756,
          5.602568626403809,
          5.558059215545654,
          6.421083450317383,
          6.079645156860352,
          5.275223731994629,
          5.946080684661865,
          6.240499496459961,
          5.426037788391113,
          6.3656325340271,
          6.261782169342041,
          5.682602882385254,
          5.800893783569336,
          6.164422035217285,
          5.488744258880615,
          5.969743728637695,
          6.365923881530762,
          6.368772506713867,
          5.956076622009277,
          5.54713773727417,
          5.249001979827881,
          6.0657734870910645,
          5.630474090576172,
          5.6482977867126465,
          6.4197258949279785,
          5.365677356719971,
          5.580979347229004,
          6.377856254577637,
          6.519860744476318,
          5.668797969818115,
          6.205602645874023,
          6.22141170501709,
          5.618696689605713,
          6.498656749725342,
          6.247054100036621,
          5.548007011413574,
          6.026223659515381,
          5.240485191345215,
          5.254315376281738,
          5.9933013916015625,
          6.024650573730469,
          5.933287620544434,
          5.702331066131592,
          6.398441791534424,
          6.234804153442383,
          5.6011962890625,
          5.582832336425781,
          6.376389980316162,
          5.672350883483887,
          5.355024814605713,
          5.818123817443848,
          5.253365516662598,
          5.506688117980957,
          5.265291213989258,
          5.603082656860352,
          6.367499351501465,
          6.3230791091918945,
          5.65199613571167,
          5.534600257873535,
          5.874026298522949
         ],
         "y": [
          2.175323009490967,
          3.106412887573242,
          2.4214727878570557,
          2.4325475692749023,
          3.406010627746582,
          2.265392303466797,
          2.524216413497925,
          2.1698198318481445,
          2.376943826675415,
          2.577117681503296,
          3.084688425064087,
          2.4736440181732178,
          2.4675979614257812,
          2.422258138656616,
          2.8815131187438965,
          2.875157356262207,
          2.782959461212158,
          2.571650266647339,
          2.944885730743408,
          2.5860755443573,
          2.366608142852783,
          2.995701551437378,
          2.388688564300537,
          2.31437087059021,
          2.3430111408233643,
          2.9822773933410645,
          2.4605958461761475,
          2.3229715824127197,
          2.7215003967285156,
          2.715688467025757,
          2.38508939743042,
          2.4043405055999756,
          2.8513333797454834,
          2.397094488143921,
          2.749561309814453,
          2.444657802581787,
          2.2873215675354004,
          2.5645029544830322,
          2.9970271587371826,
          2.9669322967529297,
          2.2965543270111084,
          2.8160417079925537,
          2.143118143081665,
          2.3396263122558594,
          2.521571636199951,
          2.3795149326324463,
          2.4755754470825195,
          2.4350788593292236,
          2.9430603981018066,
          2.3850343227386475,
          2.475234270095825,
          2.4884321689605713,
          2.9680097103118896,
          2.3531813621520996,
          2.4762353897094727,
          2.5282092094421387,
          2.564525842666626,
          3.2853660583496094,
          2.4106926918029785,
          2.3086345195770264,
          2.5799777507781982
         ]
        },
        {
         "hoverinfo": "text",
         "marker": {
          "opacity": 0.5,
          "size": 5
         },
         "mode": "markers+text",
         "name": "1_王府_竹海_旅行",
         "text": [
          "",
          "",
          "",
          "",
          "",
          "",
          "",
          "",
          "",
          "",
          "",
          "",
          "",
          "",
          "",
          "",
          "",
          "",
          "",
          "",
          "",
          "",
          "",
          "",
          "",
          "",
          "",
          "",
          "",
          "",
          "",
          "",
          "",
          "",
          "",
          "",
          "",
          "",
          "",
          "",
          "",
          "",
          "",
          "",
          "",
          "",
          "",
          "",
          "",
          "",
          "",
          "",
          "",
          "",
          "",
          "",
          "",
          "",
          "1_王府_竹海_旅行"
         ],
         "textfont": {
          "size": 12
         },
         "type": "scattergl",
         "x": [
          8.345288276672363,
          7.291831016540527,
          7.234550952911377,
          7.779780387878418,
          8.851846694946289,
          7.615128993988037,
          7.582210063934326,
          7.827779769897461,
          8.373675346374512,
          7.629434108734131,
          9.231675148010254,
          7.720223903656006,
          7.851740837097168,
          7.300209999084473,
          8.891921043395996,
          8.508426666259766,
          7.765526294708252,
          7.935436725616455,
          7.9422454833984375,
          7.743553161621094,
          7.667143821716309,
          7.420604228973389,
          8.455053329467773,
          8.930520057678223,
          7.61769437789917,
          8.601605415344238,
          7.550709247589111,
          7.7489705085754395,
          7.704868793487549,
          7.764766216278076,
          8.6867094039917,
          8.927127838134766,
          7.798488616943359,
          7.570559024810791,
          7.52902364730835,
          7.631913661956787,
          8.879066467285156,
          9.102931022644043,
          7.769562244415283,
          8.862910270690918,
          8.891167640686035,
          7.7345499992370605,
          8.923876762390137,
          7.698663711547852,
          7.522974967956543,
          9.004767417907715,
          8.159619331359863,
          8.813183784484863,
          8.982172012329102,
          7.865824222564697,
          7.549316883087158,
          7.6114702224731445,
          8.043981552124023,
          8.962240219116211,
          7.758698463439941,
          7.756673812866211,
          8.923704147338867,
          7.817171573638916,
          8.097633361816406
         ],
         "y": [
          4.151594638824463,
          5.881951808929443,
          5.668896198272705,
          5.077089786529541,
          4.316662311553955,
          5.24821138381958,
          4.663454055786133,
          5.005006313323975,
          4.122169017791748,
          5.078708648681641,
          4.408382415771484,
          4.446622371673584,
          4.70074987411499,
          5.539139747619629,
          4.228841781616211,
          3.9691219329833984,
          5.101269721984863,
          4.345077991485596,
          3.3348801136016846,
          4.879356861114502,
          5.452793121337891,
          5.301375865936279,
          3.9827969074249268,
          4.171510696411133,
          4.99310827255249,
          3.9617726802825928,
          5.375884056091309,
          4.249152183532715,
          4.765663146972656,
          5.082944393157959,
          3.966224193572998,
          4.146678447723389,
          4.908971786499023,
          5.004305839538574,
          5.328790187835693,
          5.463104248046875,
          4.08212423324585,
          4.088695526123047,
          4.221960544586182,
          3.806018352508545,
          4.241786003112793,
          4.571715354919434,
          4.231564044952393,
          4.58333683013916,
          5.253827095031738,
          4.239125728607178,
          4.245964527130127,
          4.1045145988464355,
          4.122623443603516,
          4.406857013702393,
          5.835526466369629,
          4.826480388641357,
          4.87668514251709,
          4.22677755355835,
          4.774991512298584,
          4.245835781097412,
          4.148993968963623,
          5.124534606933594,
          4.630727291107178
         ]
        },
        {
         "hoverinfo": "text",
         "marker": {
          "opacity": 0.5,
          "size": 5
         },
         "mode": "markers+text",
         "name": "2_石窟_中国_龙门石窟",
         "text": [
          "",
          "",
          "",
          "",
          "",
          "",
          "",
          "",
          "",
          "",
          "",
          "",
          "",
          "",
          "",
          "",
          "",
          "",
          "",
          "",
          "",
          "",
          "",
          "",
          "",
          "",
          "",
          "",
          "",
          "",
          "",
          "",
          "",
          "",
          "",
          "",
          "",
          "",
          "",
          "",
          "",
          "",
          "",
          "",
          "",
          "",
          "",
          "",
          "",
          "",
          "2_石窟_中国_龙门石窟"
         ],
         "textfont": {
          "size": 12
         },
         "type": "scattergl",
         "x": [
          9.220609664916992,
          9.286019325256348,
          9.284793853759766,
          9.132898330688477,
          9.658568382263184,
          9.377464294433594,
          9.677931785583496,
          8.9530029296875,
          9.125083923339844,
          9.194319725036621,
          9.007076263427734,
          9.646283149719238,
          9.703868865966797,
          9.415617942810059,
          8.984390258789062,
          9.099543571472168,
          9.670560836791992,
          9.356846809387207,
          8.941356658935547,
          9.265363693237305,
          9.021600723266602,
          9.398143768310547,
          9.018464088439941,
          9.55852222442627,
          9.057376861572266,
          9.52689266204834,
          9.519304275512695,
          9.12856388092041,
          9.121912002563477,
          9.256535530090332,
          9.09004020690918,
          9.111968040466309,
          9.00595474243164,
          9.182877540588379,
          9.559612274169922,
          9.68734073638916,
          9.683327674865723,
          9.056408882141113,
          9.05016803741455,
          9.151870727539062,
          9.196880340576172,
          9.045716285705566,
          9.121788024902344,
          9.183225631713867,
          9.385390281677246,
          9.049409866333008,
          9.224574089050293,
          9.562698364257812,
          9.056984901428223,
          9.268396377563477,
          9.265671730041504
         ],
         "y": [
          7.046180248260498,
          7.12246036529541,
          7.16102409362793,
          7.240621089935303,
          6.834018707275391,
          7.09315824508667,
          6.8597612380981445,
          7.001358985900879,
          6.989620685577393,
          6.862990379333496,
          7.338846206665039,
          6.837622165679932,
          6.820584297180176,
          6.830542087554932,
          7.408820152282715,
          7.084344387054443,
          6.866255760192871,
          7.185035228729248,
          7.354124069213867,
          7.129255771636963,
          7.372486114501953,
          7.155313968658447,
          7.074227809906006,
          6.982842922210693,
          6.955784797668457,
          6.540980339050293,
          6.804206848144531,
          7.263266086578369,
          6.767125129699707,
          7.11185359954834,
          7.293722152709961,
          6.8024067878723145,
          7.320536136627197,
          7.009730815887451,
          6.938437461853027,
          6.8199310302734375,
          6.8341965675354,
          7.279952049255371,
          7.296095371246338,
          7.155808448791504,
          6.807514667510986,
          7.131903648376465,
          6.932041645050049,
          7.000345706939697,
          7.079413890838623,
          7.250222206115723,
          6.961817264556885,
          6.981492042541504,
          7.3380584716796875,
          6.710623741149902,
          7.040780067443848
         ]
        },
        {
         "hoverinfo": "text",
         "marker": {
          "opacity": 0.5,
          "size": 5
         },
         "mode": "markers+text",
         "name": "3_旅客_年票_客流",
         "text": [
          "",
          "",
          "",
          "",
          "",
          "",
          "",
          "",
          "",
          "",
          "",
          "",
          "",
          "",
          "",
          "",
          "",
          "",
          "",
          "",
          "",
          "",
          "",
          "",
          "",
          "",
          "",
          "",
          "",
          "",
          "",
          "",
          "",
          "",
          "",
          "",
          "",
          "",
          "",
          "",
          "",
          "",
          "",
          "",
          "",
          "",
          "",
          "3_旅客_年票_客流"
         ],
         "textfont": {
          "size": 12
         },
         "type": "scattergl",
         "x": [
          2.0045006275177,
          1.681695580482483,
          1.6176937818527222,
          1.7398934364318848,
          1.8034305572509766,
          2.5367696285247803,
          2.1445131301879883,
          2.607591390609741,
          2.580857276916504,
          1.845370888710022,
          1.992208480834961,
          2.1280431747436523,
          2.647982597351074,
          2.0036563873291016,
          1.606837511062622,
          2.0249457359313965,
          2.5831196308135986,
          1.9904162883758545,
          2.5175294876098633,
          1.992250919342041,
          1.84900963306427,
          2.5500693321228027,
          2.5633981227874756,
          2.0155558586120605,
          1.6169747114181519,
          2.055741310119629,
          2.009976863861084,
          2.6685268878936768,
          2.5027148723602295,
          2.502371072769165,
          1.6381096839904785,
          2.256387710571289,
          2.139808177947998,
          2.080064296722412,
          2.495668649673462,
          2.5745790004730225,
          2.351396322250366,
          1.9723578691482544,
          1.857809066772461,
          2.325735569000244,
          2.8226163387298584,
          2.0096073150634766,
          2.5798251628875732,
          1.885012149810791,
          2.2062442302703857,
          2.533823251724243,
          1.9797691106796265,
          2.172179937362671
         ],
         "y": [
          4.546421527862549,
          4.689792633056641,
          4.7802348136901855,
          4.64030122756958,
          4.438770771026611,
          4.828526496887207,
          4.57375955581665,
          4.872179985046387,
          4.84663200378418,
          4.426304340362549,
          5.050311088562012,
          4.57503604888916,
          4.772854804992676,
          4.585038661956787,
          4.811596393585205,
          4.518036365509033,
          4.821525573730469,
          5.36687707901001,
          4.815595626831055,
          4.572359561920166,
          4.502849102020264,
          4.827068328857422,
          4.8304243087768555,
          4.532847881317139,
          4.770319938659668,
          4.5155768394470215,
          4.538456439971924,
          5.010448932647705,
          4.898308277130127,
          4.854426860809326,
          4.824706077575684,
          4.913079261779785,
          4.616185665130615,
          4.620491027832031,
          4.936751365661621,
          4.850758075714111,
          5.066323280334473,
          5.044883728027344,
          4.399702548980713,
          4.527512550354004,
          5.02414608001709,
          4.561511039733887,
          4.699439525604248,
          4.463799476623535,
          4.999936103820801,
          4.844480037689209,
          5.389340400695801,
          4.757359981536865
         ]
        },
        {
         "hoverinfo": "text",
         "marker": {
          "opacity": 0.5,
          "size": 5
         },
         "mode": "markers+text",
         "name": "4_机场_建设_规划",
         "text": [
          "",
          "",
          "",
          "",
          "",
          "",
          "",
          "",
          "",
          "",
          "",
          "",
          "",
          "",
          "",
          "",
          "",
          "",
          "",
          "",
          "",
          "",
          "",
          "",
          "",
          "",
          "",
          "",
          "",
          "",
          "",
          "",
          "",
          "",
          "",
          "",
          "",
          "",
          "",
          "",
          "",
          "",
          "",
          "4_机场_建设_规划"
         ],
         "textfont": {
          "size": 12
         },
         "type": "scattergl",
         "x": [
          4.298522472381592,
          4.992970943450928,
          4.688204288482666,
          5.10759973526001,
          5.260927200317383,
          4.453089237213135,
          4.729823112487793,
          5.228466510772705,
          4.767132759094238,
          5.157369136810303,
          4.8606414794921875,
          5.227768421173096,
          4.827268600463867,
          4.956058502197266,
          4.308340549468994,
          4.255935192108154,
          5.305130958557129,
          5.353930950164795,
          4.8264360427856445,
          5.220529556274414,
          4.31953763961792,
          5.069489479064941,
          5.493557453155518,
          4.750609874725342,
          4.574342727661133,
          5.540859222412109,
          5.198715686798096,
          5.046021461486816,
          4.721216678619385,
          4.854650020599365,
          5.3379130363464355,
          5.332365036010742,
          4.9824018478393555,
          4.889286518096924,
          4.726027011871338,
          5.328051567077637,
          5.350468635559082,
          5.33480167388916,
          5.440603733062744,
          5.181682109832764,
          4.627391338348389,
          5.275616645812988,
          4.540308475494385,
          4.97074556350708
         ],
         "y": [
          3.8592965602874756,
          6.317487716674805,
          6.400788307189941,
          6.358576774597168,
          6.387481212615967,
          3.7690887451171875,
          6.443615436553955,
          6.2123894691467285,
          6.4344072341918945,
          6.087167739868164,
          6.1939496994018555,
          6.546432018280029,
          4.23103141784668,
          6.351032257080078,
          3.856208086013794,
          3.908358335494995,
          6.325850486755371,
          5.891418933868408,
          6.3559956550598145,
          6.206291675567627,
          3.831129312515259,
          6.47183084487915,
          6.149674892425537,
          6.412742614746094,
          3.7195935249328613,
          6.138803958892822,
          6.110217094421387,
          5.853394508361816,
          4.150178909301758,
          5.8784918785095215,
          6.309223651885986,
          6.330056667327881,
          6.315126895904541,
          6.077786922454834,
          6.3850555419921875,
          6.260778427124023,
          6.286981105804443,
          6.3152079582214355,
          6.070754528045654,
          6.068304061889648,
          3.851665496826172,
          6.217730522155762,
          3.803884983062744,
          5.701057434082031
         ]
        },
        {
         "hoverinfo": "text",
         "marker": {
          "opacity": 0.5,
          "size": 5
         },
         "mode": "markers+text",
         "name": "5_地方_很多_一天",
         "text": [
          "",
          "",
          "",
          "",
          "",
          "",
          "",
          "",
          "",
          "",
          "",
          "",
          "",
          "",
          "",
          "",
          "",
          "",
          "",
          "",
          "",
          "",
          "",
          "",
          "",
          "",
          "",
          "",
          "",
          "",
          "",
          "",
          "",
          "",
          "",
          "",
          "",
          "",
          "",
          "",
          "",
          "",
          "5_地方_很多_一天"
         ],
         "textfont": {
          "size": 12
         },
         "type": "scattergl",
         "x": [
          9.551403999328613,
          9.565241813659668,
          9.955846786499023,
          9.473334312438965,
          9.375662803649902,
          9.089189529418945,
          9.518845558166504,
          9.54119873046875,
          9.131851196289062,
          9.401324272155762,
          9.617361068725586,
          9.441526412963867,
          9.500697135925293,
          9.336332321166992,
          9.413780212402344,
          9.43271255493164,
          9.59244441986084,
          9.449604034423828,
          9.096569061279297,
          9.513663291931152,
          9.285014152526855,
          9.492752075195312,
          8.905638694763184,
          9.839930534362793,
          9.394688606262207,
          9.52566146850586,
          8.980629920959473,
          9.12206745147705,
          9.464423179626465,
          10.024755477905273,
          9.450944900512695,
          9.461859703063965,
          10.00220012664795,
          9.296932220458984,
          9.556806564331055,
          10.00436019897461,
          9.4447021484375,
          9.583697319030762,
          9.496780395507812,
          9.532944679260254,
          9.313615798950195,
          10.017444610595703,
          9.480868339538574
         ],
         "y": [
          2.464904308319092,
          2.4035444259643555,
          2.8253672122955322,
          2.436554193496704,
          2.3697516918182373,
          2.63348126411438,
          2.4595465660095215,
          2.468683958053589,
          2.509614944458008,
          2.57810115814209,
          2.6287286281585693,
          2.4631969928741455,
          2.4105172157287598,
          2.989924669265747,
          2.8193132877349854,
          2.908234119415283,
          2.5240578651428223,
          2.4950664043426514,
          2.85886812210083,
          2.4335830211639404,
          2.7128357887268066,
          2.5893959999084473,
          2.688659191131592,
          2.6814181804656982,
          2.8427248001098633,
          2.475311279296875,
          2.6253819465637207,
          2.6491103172302246,
          2.4214723110198975,
          2.8796603679656982,
          2.5352442264556885,
          2.819973945617676,
          2.8602802753448486,
          2.4213273525238037,
          2.4952523708343506,
          2.8703091144561768,
          2.549964427947998,
          2.4977171421051025,
          2.559943437576294,
          2.430509328842163,
          2.549926519393921,
          2.866689443588257,
          2.6120035648345947
         ]
        },
        {
         "hoverinfo": "text",
         "marker": {
          "opacity": 0.5,
          "size": 5
         },
         "mode": "markers+text",
         "name": "6_泉州_洛阳桥_旅行",
         "text": [
          "",
          "",
          "",
          "",
          "",
          "",
          "",
          "",
          "",
          "",
          "",
          "",
          "",
          "",
          "",
          "",
          "",
          "",
          "",
          "",
          "",
          "",
          "",
          "",
          "",
          "",
          "",
          "",
          "",
          "",
          "",
          "",
          "",
          "",
          "",
          "",
          "",
          "",
          "",
          "",
          "",
          "6_泉州_洛阳桥_旅行"
         ],
         "textfont": {
          "size": 12
         },
         "type": "scattergl",
         "x": [
          8.142833709716797,
          8.171003341674805,
          8.081480979919434,
          7.924628257751465,
          8.20479679107666,
          7.871167182922363,
          8.007916450500488,
          8.129843711853027,
          7.938905715942383,
          7.882867336273193,
          8.426998138427734,
          7.908671855926514,
          8.089110374450684,
          8.031888008117676,
          8.097759246826172,
          7.734020709991455,
          8.31466293334961,
          8.0857572555542,
          7.903355598449707,
          8.146236419677734,
          7.86895227432251,
          7.909265995025635,
          8.110945701599121,
          7.909187316894531,
          8.059796333312988,
          8.243356704711914,
          8.333090782165527,
          7.9733805656433105,
          7.945721626281738,
          7.907125949859619,
          8.226459503173828,
          8.301138877868652,
          8.084418296813965,
          8.291359901428223,
          7.85737419128418,
          7.905738353729248,
          7.806373119354248,
          8.412514686584473,
          8.113228797912598,
          8.009156227111816,
          8.297174453735352,
          8.06486988067627
         ],
         "y": [
          4.031772136688232,
          3.8473711013793945,
          3.973907947540283,
          4.192371368408203,
          4.432020664215088,
          4.070989608764648,
          3.513361930847168,
          4.293655872344971,
          3.690666913986206,
          4.096409797668457,
          3.622934579849243,
          3.9059629440307617,
          3.873518943786621,
          4.4532928466796875,
          4.523210048675537,
          3.7956509590148926,
          4.5782575607299805,
          3.5693275928497314,
          3.849843978881836,
          3.785696506500244,
          3.8186330795288086,
          3.6501035690307617,
          3.8276751041412354,
          3.717714548110962,
          4.559260845184326,
          3.430398941040039,
          4.130699634552002,
          3.76393985748291,
          3.637747287750244,
          3.748331308364868,
          3.6421031951904297,
          3.6214449405670166,
          3.992419719696045,
          3.58160400390625,
          3.6347763538360596,
          3.6059741973876953,
          3.5533604621887207,
          3.6323060989379883,
          3.524728536605835,
          3.5765380859375,
          4.764003753662109,
          3.89058518409729
         ]
        },
        {
         "hoverinfo": "text",
         "marker": {
          "opacity": 0.5,
          "size": 5
         },
         "mode": "markers+text",
         "name": "7_工作_集团_河洛",
         "text": [
          "",
          "",
          "",
          "",
          "",
          "",
          "",
          "",
          "",
          "",
          "",
          "",
          "",
          "",
          "",
          "",
          "",
          "",
          "",
          "",
          "",
          "",
          "",
          "",
          "",
          "",
          "",
          "",
          "",
          "",
          "",
          "",
          "",
          "",
          "7_工作_集团_河洛"
         ],
         "textfont": {
          "size": 12
         },
         "type": "scattergl",
         "x": [
          3.905043125152588,
          3.131154775619507,
          3.0694284439086914,
          3.838454484939575,
          3.462700843811035,
          3.277651071548462,
          3.418581247329712,
          3.085728645324707,
          3.759856939315796,
          3.458963394165039,
          3.7474515438079834,
          3.044257164001465,
          3.028569459915161,
          3.658081293106079,
          3.4505016803741455,
          3.470489025115967,
          3.2302324771881104,
          3.3607075214385986,
          3.821091651916504,
          3.0456960201263428,
          3.4968137741088867,
          3.4513790607452393,
          3.862516403198242,
          3.599522352218628,
          3.0289669036865234,
          3.306104898452759,
          3.2704010009765625,
          3.4706413745880127,
          3.791870594024658,
          3.8383522033691406,
          3.2730422019958496,
          3.460315227508545,
          2.966463565826416,
          3.053828001022339,
          3.4157309532165527
         ],
         "y": [
          5.226579666137695,
          6.5891852378845215,
          6.615355968475342,
          5.215118408203125,
          5.346987724304199,
          6.32444429397583,
          6.1639885902404785,
          6.597761154174805,
          5.255807399749756,
          6.328093528747559,
          5.313631534576416,
          6.625425338745117,
          6.628227233886719,
          5.235036373138428,
          6.428073406219482,
          6.406768321990967,
          6.52094030380249,
          5.449879169464111,
          5.217594146728516,
          6.587007999420166,
          6.34446382522583,
          6.450408458709717,
          5.2937541007995605,
          6.580682277679443,
          6.593613624572754,
          6.462718963623047,
          6.322870254516602,
          6.106156826019287,
          5.274858474731445,
          5.362403869628906,
          6.305556774139404,
          6.090126037597656,
          6.588184833526611,
          6.605496883392334,
          6.072270393371582
         ]
        },
        {
         "hoverinfo": "text",
         "marker": {
          "opacity": 0.5,
          "size": 5
         },
         "mode": "markers+text",
         "name": "8_游客_景区_午餐",
         "text": [
          "",
          "",
          "",
          "",
          "",
          "",
          "",
          "",
          "",
          "",
          "",
          "",
          "",
          "",
          "",
          "",
          "",
          "",
          "",
          "",
          "",
          "",
          "",
          "",
          "",
          "",
          "",
          "",
          "",
          "",
          "",
          "",
          "8_游客_景区_午餐"
         ],
         "textfont": {
          "size": 12
         },
         "type": "scattergl",
         "x": [
          2.4061408042907715,
          2.4724843502044678,
          3.14966082572937,
          2.553997039794922,
          2.564950704574585,
          2.404836893081665,
          2.410799026489258,
          2.5690090656280518,
          2.4096927642822266,
          2.9875648021698,
          2.4889490604400635,
          2.420804500579834,
          2.6283180713653564,
          2.5390961170196533,
          2.5584423542022705,
          2.4834234714508057,
          2.4435698986053467,
          2.404353618621826,
          2.5116498470306396,
          2.5795350074768066,
          3.027184247970581,
          2.4891655445098877,
          2.3995463848114014,
          4.262577056884766,
          2.5748658180236816,
          2.5955560207366943,
          2.3894917964935303,
          2.5605971813201904,
          2.4002156257629395,
          2.41444730758667,
          2.3695712089538574,
          2.3969669342041016,
          2.5896081924438477
         ],
         "y": [
          2.9238922595977783,
          3.395050287246704,
          5.067242622375488,
          3.088254451751709,
          3.1037659645080566,
          3.4122166633605957,
          2.9287171363830566,
          3.1294491291046143,
          3.331631898880005,
          4.199739456176758,
          3.232581377029419,
          2.95358943939209,
          3.5271430015563965,
          3.155458927154541,
          3.3960208892822266,
          3.2043259143829346,
          3.3690102100372314,
          2.95025897026062,
          3.579723834991455,
          3.1411285400390625,
          4.193424701690674,
          3.0615322589874268,
          2.912480115890503,
          4.621358394622803,
          3.1500308513641357,
          3.128032684326172,
          3.419119358062744,
          3.103886842727661,
          2.916383743286133,
          3.2889177799224854,
          2.8601131439208984,
          3.4032464027404785,
          3.3483664989471436
         ]
        },
        {
         "hoverinfo": "text",
         "marker": {
          "opacity": 0.5,
          "size": 5
         },
         "mode": "markers+text",
         "name": "9_河南_造纸_巩义",
         "text": [
          "",
          "",
          "",
          "",
          "",
          "",
          "",
          "",
          "",
          "",
          "",
          "",
          "",
          "",
          "",
          "",
          "",
          "",
          "",
          "",
          "",
          "",
          "",
          "",
          "",
          "",
          "",
          "",
          "",
          "",
          "",
          "9_河南_造纸_巩义"
         ],
         "textfont": {
          "size": 12
         },
         "type": "scattergl",
         "x": [
          8.520476341247559,
          8.574764251708984,
          8.17029094696045,
          8.133973121643066,
          8.564837455749512,
          8.558161735534668,
          8.35079574584961,
          8.632156372070312,
          8.708915710449219,
          8.274401664733887,
          8.307701110839844,
          7.155128479003906,
          8.471719741821289,
          8.014006614685059,
          8.258727073669434,
          8.147964477539062,
          8.400866508483887,
          8.138185501098633,
          8.116772651672363,
          8.243573188781738,
          8.421774864196777,
          8.366703987121582,
          8.485910415649414,
          8.574196815490723,
          8.193735122680664,
          8.042081832885742,
          8.378717422485352,
          8.827221870422363,
          8.713523864746094,
          8.484326362609863,
          8.54948616027832,
          8.3477783203125
         ],
         "y": [
          5.17036247253418,
          5.946333408355713,
          5.666488170623779,
          5.660378456115723,
          5.854654312133789,
          5.880725860595703,
          5.706081390380859,
          5.805175304412842,
          5.055251598358154,
          5.208291530609131,
          5.338309288024902,
          5.294476509094238,
          5.401201248168945,
          5.553379058837891,
          5.542965412139893,
          5.653025150299072,
          5.381638526916504,
          5.672087669372559,
          5.611786365509033,
          5.314979076385498,
          5.42264986038208,
          5.311595439910889,
          5.912630081176758,
          5.17875337600708,
          5.677032947540283,
          5.631035327911377,
          5.447203636169434,
          5.311117172241211,
          5.193676471710205,
          5.240213871002197,
          5.168309688568115,
          5.49070405960083
         ]
        },
        {
         "hoverinfo": "text",
         "marker": {
          "opacity": 0.5,
          "size": 5
         },
         "mode": "markers+text",
         "name": "10_项目_消费_文旅",
         "text": [
          "",
          "",
          "",
          "",
          "",
          "",
          "",
          "",
          "",
          "",
          "",
          "",
          "",
          "",
          "",
          "",
          "",
          "",
          "",
          "",
          "",
          "",
          "",
          "",
          "",
          "",
          "",
          "",
          "",
          "",
          "10_项目_消费_文旅"
         ],
         "textfont": {
          "size": 12
         },
         "type": "scattergl",
         "x": [
          4.357316493988037,
          4.472302436828613,
          3.706049919128418,
          3.7254202365875244,
          4.356621742248535,
          4.50433349609375,
          3.755830764770508,
          4.3124871253967285,
          4.152693271636963,
          3.807389736175537,
          4.099025726318359,
          4.545183181762695,
          4.4932379722595215,
          4.391939640045166,
          4.597129821777344,
          4.480551719665527,
          4.422638416290283,
          4.246665954589844,
          3.962299346923828,
          4.431406021118164,
          3.8934619426727295,
          4.069029808044434,
          4.217288494110107,
          4.441094875335693,
          4.260566234588623,
          4.22428560256958,
          4.146968364715576,
          4.127138137817383,
          4.41059684753418,
          4.3594231605529785,
          4.232346057891846
         ],
         "y": [
          5.56980562210083,
          5.350483417510986,
          5.770792484283447,
          5.752917766571045,
          5.434455394744873,
          5.571611404418945,
          5.718946933746338,
          5.062517166137695,
          5.371479034423828,
          5.880434513092041,
          5.88757848739624,
          5.608430862426758,
          5.329800605773926,
          5.067087173461914,
          5.584392547607422,
          5.575311660766602,
          4.8738017082214355,
          6.050795555114746,
          5.857931613922119,
          5.693872451782227,
          5.8779215812683105,
          5.994361400604248,
          5.529178142547607,
          5.578032493591309,
          5.76244592666626,
          5.147017002105713,
          5.567593574523926,
          5.774407863616943,
          5.920303821563721,
          5.384340763092041,
          5.584935665130615
         ]
        },
        {
         "hoverinfo": "text",
         "marker": {
          "opacity": 0.5,
          "size": 5
         },
         "mode": "markers+text",
         "name": "11_银杏_文旅文创_发展",
         "text": [
          "",
          "",
          "",
          "",
          "",
          "",
          "",
          "",
          "",
          "",
          "",
          "",
          "",
          "",
          "",
          "",
          "",
          "",
          "",
          "",
          "",
          "",
          "",
          "",
          "",
          "",
          "",
          "",
          "11_银杏_文旅文创_发展"
         ],
         "textfont": {
          "size": 12
         },
         "type": "scattergl",
         "x": [
          5.335103988647461,
          4.812068462371826,
          4.59657096862793,
          4.5127339363098145,
          4.659794807434082,
          4.91774320602417,
          5.438011646270752,
          5.194530963897705,
          4.761606216430664,
          4.749217987060547,
          4.646883487701416,
          4.519515037536621,
          5.034946918487549,
          5.122745037078857,
          4.835464954376221,
          5.153332710266113,
          4.463389873504639,
          4.545999526977539,
          4.892757415771484,
          4.881442546844482,
          5.20606803894043,
          4.533902645111084,
          4.531490325927734,
          5.403044700622559,
          4.527801513671875,
          4.998135089874268,
          4.978745937347412,
          4.497889518737793,
          4.84824800491333
         ],
         "y": [
          5.090303421020508,
          5.016890525817871,
          4.961749076843262,
          4.865439414978027,
          4.768187522888184,
          4.990818023681641,
          5.087263584136963,
          5.028028964996338,
          5.162432670593262,
          5.157585620880127,
          4.77033805847168,
          4.889157295227051,
          5.04274320602417,
          5.062150955200195,
          5.074099540710449,
          4.868339538574219,
          4.761145114898682,
          4.755436897277832,
          5.031295299530029,
          4.99026346206665,
          5.11830472946167,
          4.800567150115967,
          4.861325740814209,
          4.964994430541992,
          4.88173246383667,
          5.0637431144714355,
          5.054210662841797,
          5.013148784637451,
          4.968989372253418
         ]
        },
        {
         "hoverinfo": "text",
         "marker": {
          "opacity": 0.5,
          "size": 5
         },
         "mode": "markers+text",
         "name": "12_广济桥_位于_白马寺",
         "text": [
          "",
          "",
          "",
          "",
          "",
          "",
          "",
          "",
          "",
          "",
          "",
          "",
          "",
          "",
          "",
          "",
          "",
          "",
          "",
          "",
          "",
          "",
          "",
          "",
          "",
          "",
          "",
          "",
          "12_广济桥_位于_白马寺"
         ],
         "textfont": {
          "size": 12
         },
         "type": "scattergl",
         "x": [
          9.05614948272705,
          9.07489013671875,
          9.047246932983398,
          8.71930980682373,
          9.156309127807617,
          9.00819206237793,
          9.157844543457031,
          8.982028007507324,
          8.967742919921875,
          8.91688346862793,
          8.932785034179688,
          9.171319007873535,
          9.057146072387695,
          9.0738525390625,
          8.847002983093262,
          8.472869873046875,
          9.069920539855957,
          8.895746231079102,
          8.783966064453125,
          8.87485408782959,
          8.742949485778809,
          8.828706741333008,
          9.127205848693848,
          8.979413032531738,
          8.946776390075684,
          8.949700355529785,
          8.642953872680664,
          8.986295700073242,
          8.94536018371582
         ],
         "y": [
          5.2394795417785645,
          5.434515476226807,
          5.504295349121094,
          4.839820861816406,
          5.0969343185424805,
          5.45966911315918,
          5.189905643463135,
          5.526285648345947,
          5.575891494750977,
          4.605884552001953,
          5.591695785522461,
          5.000194549560547,
          5.486479759216309,
          5.547520160675049,
          4.801708221435547,
          4.696032524108887,
          5.076899528503418,
          4.979719161987305,
          4.8560614585876465,
          4.940568923950195,
          5.1212873458862305,
          5.046535968780518,
          5.310879230499268,
          5.420141220092773,
          5.134635925292969,
          5.626452922821045,
          4.741009712219238,
          5.545089244842529,
          5.192699432373047
         ]
        },
        {
         "hoverinfo": "text",
         "marker": {
          "opacity": 0.5,
          "size": 5
         },
         "mode": "markers+text",
         "name": "13_防控_疫情_景区",
         "text": [
          "",
          "",
          "",
          "",
          "",
          "",
          "",
          "",
          "",
          "",
          "",
          "",
          "",
          "",
          "",
          "",
          "",
          "",
          "",
          "",
          "",
          "",
          "",
          "",
          "",
          "",
          "",
          "13_防控_疫情_景区"
         ],
         "textfont": {
          "size": 12
         },
         "type": "scattergl",
         "x": [
          1.446915864944458,
          1.8439306020736694,
          1.52262282371521,
          1.5027951002120972,
          1.8285852670669556,
          1.8219654560089111,
          1.6915467977523804,
          1.4738283157348633,
          1.5005714893341064,
          1.6539807319641113,
          1.8157652616500854,
          1.5621191263198853,
          1.473657488822937,
          1.515844464302063,
          1.8334383964538574,
          1.438723087310791,
          1.505898356437683,
          1.734483242034912,
          1.4875693321228027,
          1.6630877256393433,
          1.4611326456069946,
          2.0812625885009766,
          1.8722329139709473,
          2.126970052719116,
          1.4898804426193237,
          1.4745891094207764,
          1.426501750946045,
          1.6388850212097168
         ],
         "y": [
          5.372674942016602,
          5.397854804992676,
          5.2810869216918945,
          5.388256072998047,
          5.27571964263916,
          5.338982105255127,
          5.379693031311035,
          5.353312015533447,
          5.270157337188721,
          5.474812030792236,
          5.359034538269043,
          5.371002674102783,
          5.365922927856445,
          5.361715316772461,
          5.350046634674072,
          5.2883501052856445,
          5.3375043869018555,
          5.426108360290527,
          5.388016223907471,
          5.414364337921143,
          5.229952812194824,
          5.41321325302124,
          5.337884426116943,
          5.476047515869141,
          5.317139625549316,
          5.159034252166748,
          5.281349182128906,
          5.348489284515381
         ]
        },
        {
         "hoverinfo": "text",
         "marker": {
          "opacity": 0.5,
          "size": 5
         },
         "mode": "markers+text",
         "name": "14_五一_数据_预订",
         "text": [
          "",
          "",
          "",
          "",
          "",
          "",
          "",
          "",
          "",
          "",
          "",
          "",
          "",
          "",
          "",
          "",
          "",
          "",
          "",
          "",
          "14_五一_数据_预订"
         ],
         "textfont": {
          "size": 12
         },
         "type": "scattergl",
         "x": [
          3.826659679412842,
          3.520918130874634,
          3.2095398902893066,
          3.2830138206481934,
          3.3915023803710938,
          3.3774802684783936,
          3.452613353729248,
          3.3614537715911865,
          3.362696886062622,
          3.3503289222717285,
          3.316573143005371,
          3.5277633666992188,
          3.5834438800811768,
          3.5218803882598877,
          3.5817453861236572,
          3.4668173789978027,
          3.3484060764312744,
          3.258667230606079,
          3.1986753940582275,
          3.550687313079834,
          3.4245433807373047
         ],
         "y": [
          4.610865592956543,
          4.2618255615234375,
          4.594497203826904,
          4.594607830047607,
          4.593974590301514,
          4.512062072753906,
          4.194325923919678,
          4.370733261108398,
          4.5021538734436035,
          4.514584541320801,
          4.5553741455078125,
          4.262807369232178,
          4.317745685577393,
          4.117295742034912,
          4.427945137023926,
          4.214295864105225,
          4.486950397491455,
          4.5500383377075195,
          4.605804443359375,
          4.122323513031006,
          4.420510768890381
         ]
        },
        {
         "hoverinfo": "text",
         "marker": {
          "opacity": 0.5,
          "size": 5
         },
         "mode": "markers+text",
         "name": "15_写真_发团_成人",
         "text": [
          "",
          "",
          "",
          "",
          "",
          "",
          "",
          "",
          "",
          "",
          "",
          "",
          "",
          "",
          "",
          "",
          "",
          "",
          "",
          "",
          "15_写真_发团_成人"
         ],
         "textfont": {
          "size": 12
         },
         "type": "scattergl",
         "x": [
          7.3246870040893555,
          6.907682418823242,
          7.422621726989746,
          6.580284118652344,
          7.218803405761719,
          7.030145168304443,
          7.4633965492248535,
          6.51538610458374,
          7.024296760559082,
          6.414505481719971,
          7.427769184112549,
          7.302078723907471,
          6.91069221496582,
          7.4964752197265625,
          7.059905052185059,
          7.3165364265441895,
          7.470952987670898,
          6.965420246124268,
          7.340014457702637,
          7.196880340576172,
          7.119427680969238
         ],
         "y": [
          2.5388004779815674,
          2.5022525787353516,
          2.3496057987213135,
          2.3373804092407227,
          2.82336688041687,
          2.537416934967041,
          2.3322877883911133,
          2.3171329498291016,
          2.6032052040100098,
          2.6399950981140137,
          2.312960386276245,
          2.571758270263672,
          2.5733227729797363,
          2.333111524581909,
          2.7148730754852295,
          2.588064193725586,
          2.396392583847046,
          2.5112428665161133,
          2.566605567932129,
          2.537529706954956,
          2.5043652057647705
         ]
        },
        {
         "hoverinfo": "text",
         "marker": {
          "opacity": 0.5,
          "size": 5
         },
         "mode": "markers+text",
         "name": "16_博物馆_历史_停车场",
         "text": [
          "",
          "",
          "",
          "",
          "",
          "",
          "",
          "",
          "",
          "",
          "",
          "",
          "",
          "",
          "",
          "",
          "",
          "",
          "",
          "16_博物馆_历史_停车场"
         ],
         "textfont": {
          "size": 12
         },
         "type": "scattergl",
         "x": [
          4.828696250915527,
          5.628003120422363,
          5.670637607574463,
          5.387110233306885,
          5.634362697601318,
          5.0490498542785645,
          5.658871650695801,
          3.9228663444519043,
          3.855529546737671,
          5.712911128997803,
          5.087578296661377,
          5.133862018585205,
          5.628927230834961,
          5.685258388519287,
          5.109243392944336,
          5.706485748291016,
          4.831235885620117,
          5.786844253540039,
          5.617988109588623,
          5.259761333465576
         ],
         "y": [
          5.564206600189209,
          4.932540416717529,
          4.928578853607178,
          5.268109321594238,
          5.267579078674316,
          5.662055015563965,
          4.922303676605225,
          4.904141902923584,
          4.431448936462402,
          4.898036479949951,
          5.639368534088135,
          5.576855182647705,
          4.906280994415283,
          4.885848045349121,
          5.412593841552734,
          5.256344318389893,
          5.47907829284668,
          4.925017833709717,
          4.958405017852783,
          5.148357391357422
         ]
        },
        {
         "hoverinfo": "text",
         "marker": {
          "opacity": 0.5,
          "size": 5
         },
         "mode": "markers+text",
         "name": "17_景区_度假区_公示",
         "text": [
          "",
          "",
          "",
          "",
          "",
          "",
          "",
          "",
          "",
          "",
          "",
          "",
          "",
          "",
          "",
          "",
          "",
          "",
          "",
          "17_景区_度假区_公示"
         ],
         "textfont": {
          "size": 12
         },
         "type": "scattergl",
         "x": [
          2.6978843212127686,
          2.7757139205932617,
          2.466686725616455,
          3.020996570587158,
          2.4511773586273193,
          2.3382480144500732,
          2.6504037380218506,
          3.0826194286346436,
          2.7570362091064453,
          2.682892084121704,
          2.428884267807007,
          2.7631022930145264,
          2.45943021774292,
          2.6980040073394775,
          2.5720102787017822,
          2.2634997367858887,
          2.78275465965271,
          2.687702178955078,
          2.513132095336914,
          2.636430501937866
         ],
         "y": [
          5.725234031677246,
          5.8404645919799805,
          5.701379299163818,
          5.871796131134033,
          5.704889297485352,
          5.597261905670166,
          5.797352313995361,
          5.828533172607422,
          5.772944450378418,
          5.723540306091309,
          5.405816555023193,
          5.751920700073242,
          5.697775840759277,
          5.84011697769165,
          5.769374847412109,
          5.526004314422607,
          5.6783342361450195,
          5.524890899658203,
          5.7484846115112305,
          5.710847854614258
         ]
        },
        {
         "hoverinfo": "text",
         "marker": {
          "opacity": 0.5,
          "size": 5
         },
         "mode": "markers+text",
         "name": "18_话题_大寒_隋唐洛阳城",
         "text": [
          "",
          "",
          "",
          "",
          "",
          "",
          "",
          "",
          "",
          "",
          "",
          "",
          "",
          "",
          "18_话题_大寒_隋唐洛阳城"
         ],
         "textfont": {
          "size": 12
         },
         "type": "scattergl",
         "x": [
          6.600496768951416,
          6.26556396484375,
          6.064058303833008,
          5.921627044677734,
          6.305091857910156,
          6.093343734741211,
          6.225705623626709,
          5.965707778930664,
          6.399816989898682,
          6.1553449630737305,
          6.0277581214904785,
          5.963434219360352,
          6.0422043800354,
          6.060120105743408,
          6.149305820465088
         ],
         "y": [
          3.6949121952056885,
          3.652243137359619,
          3.7094693183898926,
          3.651129961013794,
          3.732017993927002,
          3.8071770668029785,
          3.7393317222595215,
          4.074891567230225,
          3.6037261486053467,
          3.8157382011413574,
          4.201826095581055,
          3.985757350921631,
          3.7016687393188477,
          3.7899224758148193,
          3.7971291542053223
         ]
        },
        {
         "hoverinfo": "text",
         "marker": {
          "opacity": 0.5,
          "size": 5
         },
         "mode": "markers+text",
         "name": "19_福昌_龙门石窟_城隍庙",
         "text": [
          "",
          "",
          "",
          "",
          "",
          "",
          "",
          "",
          "",
          "",
          "",
          "",
          "19_福昌_龙门石窟_城隍庙"
         ],
         "textfont": {
          "size": 12
         },
         "type": "scattergl",
         "x": [
          8.631444931030273,
          8.46132755279541,
          8.578102111816406,
          8.999102592468262,
          8.428266525268555,
          8.638566970825195,
          8.415367126464844,
          8.430126190185547,
          8.488490104675293,
          8.518746376037598,
          8.47905158996582,
          8.48095989227295,
          8.545795440673828
         ],
         "y": [
          6.810706615447998,
          6.836308479309082,
          6.689469814300537,
          6.596704006195068,
          6.708387851715088,
          6.720664024353027,
          6.959628582000732,
          6.715673923492432,
          6.87340784072876,
          6.965183258056641,
          6.7299909591674805,
          6.892577648162842,
          6.791558742523193
         ]
        },
        {
         "hoverinfo": "text",
         "marker": {
          "opacity": 0.5,
          "size": 5
         },
         "mode": "markers+text",
         "name": "20_民宿_酒店_巧克力",
         "text": [
          "",
          "",
          "",
          "",
          "",
          "",
          "",
          "",
          "",
          "",
          "20_民宿_酒店_巧克力"
         ],
         "textfont": {
          "size": 12
         },
         "type": "scattergl",
         "x": [
          7.825933456420898,
          7.964387893676758,
          7.901817321777344,
          7.7805495262146,
          7.875784873962402,
          7.699871063232422,
          7.907020568847656,
          7.664669513702393,
          7.8112711906433105,
          7.89622163772583,
          7.8327531814575195
         ],
         "y": [
          2.691876173019409,
          2.710419178009033,
          2.6822385787963867,
          2.8518667221069336,
          2.631770610809326,
          2.916548728942871,
          2.6798906326293945,
          2.9582698345184326,
          2.7016258239746094,
          2.6481547355651855,
          2.7472660541534424
         ]
        }
       ],
       "layout": {
        "annotations": [
         {
          "showarrow": false,
          "text": "D1",
          "x": 0.9946949183940887,
          "y": 4.6696530535817145,
          "yshift": 10
         },
         {
          "showarrow": false,
          "text": "D2",
          "x": 6.261581858992576,
          "xshift": 10,
          "y": 8.520143175125122
         }
        ],
        "height": 750,
        "shapes": [
         {
          "line": {
           "color": "#CFD8DC",
           "width": 2
          },
          "type": "line",
          "x0": 6.261581858992576,
          "x1": 6.261581858992576,
          "y0": 0.8191629320383071,
          "y1": 8.520143175125122
         },
         {
          "line": {
           "color": "#9E9E9E",
           "width": 2
          },
          "type": "line",
          "x0": 0.9946949183940887,
          "x1": 11.528468799591064,
          "y0": 4.6696530535817145,
          "y1": 4.6696530535817145
         }
        ],
        "template": {
         "data": {
          "bar": [
           {
            "error_x": {
             "color": "rgb(36,36,36)"
            },
            "error_y": {
             "color": "rgb(36,36,36)"
            },
            "marker": {
             "line": {
              "color": "white",
              "width": 0.5
             },
             "pattern": {
              "fillmode": "overlay",
              "size": 10,
              "solidity": 0.2
             }
            },
            "type": "bar"
           }
          ],
          "barpolar": [
           {
            "marker": {
             "line": {
              "color": "white",
              "width": 0.5
             },
             "pattern": {
              "fillmode": "overlay",
              "size": 10,
              "solidity": 0.2
             }
            },
            "type": "barpolar"
           }
          ],
          "carpet": [
           {
            "aaxis": {
             "endlinecolor": "rgb(36,36,36)",
             "gridcolor": "white",
             "linecolor": "white",
             "minorgridcolor": "white",
             "startlinecolor": "rgb(36,36,36)"
            },
            "baxis": {
             "endlinecolor": "rgb(36,36,36)",
             "gridcolor": "white",
             "linecolor": "white",
             "minorgridcolor": "white",
             "startlinecolor": "rgb(36,36,36)"
            },
            "type": "carpet"
           }
          ],
          "choropleth": [
           {
            "colorbar": {
             "outlinewidth": 1,
             "tickcolor": "rgb(36,36,36)",
             "ticks": "outside"
            },
            "type": "choropleth"
           }
          ],
          "contour": [
           {
            "colorbar": {
             "outlinewidth": 1,
             "tickcolor": "rgb(36,36,36)",
             "ticks": "outside"
            },
            "colorscale": [
             [
              0,
              "#440154"
             ],
             [
              0.1111111111111111,
              "#482878"
             ],
             [
              0.2222222222222222,
              "#3e4989"
             ],
             [
              0.3333333333333333,
              "#31688e"
             ],
             [
              0.4444444444444444,
              "#26828e"
             ],
             [
              0.5555555555555556,
              "#1f9e89"
             ],
             [
              0.6666666666666666,
              "#35b779"
             ],
             [
              0.7777777777777778,
              "#6ece58"
             ],
             [
              0.8888888888888888,
              "#b5de2b"
             ],
             [
              1,
              "#fde725"
             ]
            ],
            "type": "contour"
           }
          ],
          "contourcarpet": [
           {
            "colorbar": {
             "outlinewidth": 1,
             "tickcolor": "rgb(36,36,36)",
             "ticks": "outside"
            },
            "type": "contourcarpet"
           }
          ],
          "heatmap": [
           {
            "colorbar": {
             "outlinewidth": 1,
             "tickcolor": "rgb(36,36,36)",
             "ticks": "outside"
            },
            "colorscale": [
             [
              0,
              "#440154"
             ],
             [
              0.1111111111111111,
              "#482878"
             ],
             [
              0.2222222222222222,
              "#3e4989"
             ],
             [
              0.3333333333333333,
              "#31688e"
             ],
             [
              0.4444444444444444,
              "#26828e"
             ],
             [
              0.5555555555555556,
              "#1f9e89"
             ],
             [
              0.6666666666666666,
              "#35b779"
             ],
             [
              0.7777777777777778,
              "#6ece58"
             ],
             [
              0.8888888888888888,
              "#b5de2b"
             ],
             [
              1,
              "#fde725"
             ]
            ],
            "type": "heatmap"
           }
          ],
          "heatmapgl": [
           {
            "colorbar": {
             "outlinewidth": 1,
             "tickcolor": "rgb(36,36,36)",
             "ticks": "outside"
            },
            "colorscale": [
             [
              0,
              "#440154"
             ],
             [
              0.1111111111111111,
              "#482878"
             ],
             [
              0.2222222222222222,
              "#3e4989"
             ],
             [
              0.3333333333333333,
              "#31688e"
             ],
             [
              0.4444444444444444,
              "#26828e"
             ],
             [
              0.5555555555555556,
              "#1f9e89"
             ],
             [
              0.6666666666666666,
              "#35b779"
             ],
             [
              0.7777777777777778,
              "#6ece58"
             ],
             [
              0.8888888888888888,
              "#b5de2b"
             ],
             [
              1,
              "#fde725"
             ]
            ],
            "type": "heatmapgl"
           }
          ],
          "histogram": [
           {
            "marker": {
             "line": {
              "color": "white",
              "width": 0.6
             }
            },
            "type": "histogram"
           }
          ],
          "histogram2d": [
           {
            "colorbar": {
             "outlinewidth": 1,
             "tickcolor": "rgb(36,36,36)",
             "ticks": "outside"
            },
            "colorscale": [
             [
              0,
              "#440154"
             ],
             [
              0.1111111111111111,
              "#482878"
             ],
             [
              0.2222222222222222,
              "#3e4989"
             ],
             [
              0.3333333333333333,
              "#31688e"
             ],
             [
              0.4444444444444444,
              "#26828e"
             ],
             [
              0.5555555555555556,
              "#1f9e89"
             ],
             [
              0.6666666666666666,
              "#35b779"
             ],
             [
              0.7777777777777778,
              "#6ece58"
             ],
             [
              0.8888888888888888,
              "#b5de2b"
             ],
             [
              1,
              "#fde725"
             ]
            ],
            "type": "histogram2d"
           }
          ],
          "histogram2dcontour": [
           {
            "colorbar": {
             "outlinewidth": 1,
             "tickcolor": "rgb(36,36,36)",
             "ticks": "outside"
            },
            "colorscale": [
             [
              0,
              "#440154"
             ],
             [
              0.1111111111111111,
              "#482878"
             ],
             [
              0.2222222222222222,
              "#3e4989"
             ],
             [
              0.3333333333333333,
              "#31688e"
             ],
             [
              0.4444444444444444,
              "#26828e"
             ],
             [
              0.5555555555555556,
              "#1f9e89"
             ],
             [
              0.6666666666666666,
              "#35b779"
             ],
             [
              0.7777777777777778,
              "#6ece58"
             ],
             [
              0.8888888888888888,
              "#b5de2b"
             ],
             [
              1,
              "#fde725"
             ]
            ],
            "type": "histogram2dcontour"
           }
          ],
          "mesh3d": [
           {
            "colorbar": {
             "outlinewidth": 1,
             "tickcolor": "rgb(36,36,36)",
             "ticks": "outside"
            },
            "type": "mesh3d"
           }
          ],
          "parcoords": [
           {
            "line": {
             "colorbar": {
              "outlinewidth": 1,
              "tickcolor": "rgb(36,36,36)",
              "ticks": "outside"
             }
            },
            "type": "parcoords"
           }
          ],
          "pie": [
           {
            "automargin": true,
            "type": "pie"
           }
          ],
          "scatter": [
           {
            "fillpattern": {
             "fillmode": "overlay",
             "size": 10,
             "solidity": 0.2
            },
            "type": "scatter"
           }
          ],
          "scatter3d": [
           {
            "line": {
             "colorbar": {
              "outlinewidth": 1,
              "tickcolor": "rgb(36,36,36)",
              "ticks": "outside"
             }
            },
            "marker": {
             "colorbar": {
              "outlinewidth": 1,
              "tickcolor": "rgb(36,36,36)",
              "ticks": "outside"
             }
            },
            "type": "scatter3d"
           }
          ],
          "scattercarpet": [
           {
            "marker": {
             "colorbar": {
              "outlinewidth": 1,
              "tickcolor": "rgb(36,36,36)",
              "ticks": "outside"
             }
            },
            "type": "scattercarpet"
           }
          ],
          "scattergeo": [
           {
            "marker": {
             "colorbar": {
              "outlinewidth": 1,
              "tickcolor": "rgb(36,36,36)",
              "ticks": "outside"
             }
            },
            "type": "scattergeo"
           }
          ],
          "scattergl": [
           {
            "marker": {
             "colorbar": {
              "outlinewidth": 1,
              "tickcolor": "rgb(36,36,36)",
              "ticks": "outside"
             }
            },
            "type": "scattergl"
           }
          ],
          "scattermapbox": [
           {
            "marker": {
             "colorbar": {
              "outlinewidth": 1,
              "tickcolor": "rgb(36,36,36)",
              "ticks": "outside"
             }
            },
            "type": "scattermapbox"
           }
          ],
          "scatterpolar": [
           {
            "marker": {
             "colorbar": {
              "outlinewidth": 1,
              "tickcolor": "rgb(36,36,36)",
              "ticks": "outside"
             }
            },
            "type": "scatterpolar"
           }
          ],
          "scatterpolargl": [
           {
            "marker": {
             "colorbar": {
              "outlinewidth": 1,
              "tickcolor": "rgb(36,36,36)",
              "ticks": "outside"
             }
            },
            "type": "scatterpolargl"
           }
          ],
          "scatterternary": [
           {
            "marker": {
             "colorbar": {
              "outlinewidth": 1,
              "tickcolor": "rgb(36,36,36)",
              "ticks": "outside"
             }
            },
            "type": "scatterternary"
           }
          ],
          "surface": [
           {
            "colorbar": {
             "outlinewidth": 1,
             "tickcolor": "rgb(36,36,36)",
             "ticks": "outside"
            },
            "colorscale": [
             [
              0,
              "#440154"
             ],
             [
              0.1111111111111111,
              "#482878"
             ],
             [
              0.2222222222222222,
              "#3e4989"
             ],
             [
              0.3333333333333333,
              "#31688e"
             ],
             [
              0.4444444444444444,
              "#26828e"
             ],
             [
              0.5555555555555556,
              "#1f9e89"
             ],
             [
              0.6666666666666666,
              "#35b779"
             ],
             [
              0.7777777777777778,
              "#6ece58"
             ],
             [
              0.8888888888888888,
              "#b5de2b"
             ],
             [
              1,
              "#fde725"
             ]
            ],
            "type": "surface"
           }
          ],
          "table": [
           {
            "cells": {
             "fill": {
              "color": "rgb(237,237,237)"
             },
             "line": {
              "color": "white"
             }
            },
            "header": {
             "fill": {
              "color": "rgb(217,217,217)"
             },
             "line": {
              "color": "white"
             }
            },
            "type": "table"
           }
          ]
         },
         "layout": {
          "annotationdefaults": {
           "arrowhead": 0,
           "arrowwidth": 1
          },
          "autotypenumbers": "strict",
          "coloraxis": {
           "colorbar": {
            "outlinewidth": 1,
            "tickcolor": "rgb(36,36,36)",
            "ticks": "outside"
           }
          },
          "colorscale": {
           "diverging": [
            [
             0,
             "rgb(103,0,31)"
            ],
            [
             0.1,
             "rgb(178,24,43)"
            ],
            [
             0.2,
             "rgb(214,96,77)"
            ],
            [
             0.3,
             "rgb(244,165,130)"
            ],
            [
             0.4,
             "rgb(253,219,199)"
            ],
            [
             0.5,
             "rgb(247,247,247)"
            ],
            [
             0.6,
             "rgb(209,229,240)"
            ],
            [
             0.7,
             "rgb(146,197,222)"
            ],
            [
             0.8,
             "rgb(67,147,195)"
            ],
            [
             0.9,
             "rgb(33,102,172)"
            ],
            [
             1,
             "rgb(5,48,97)"
            ]
           ],
           "sequential": [
            [
             0,
             "#440154"
            ],
            [
             0.1111111111111111,
             "#482878"
            ],
            [
             0.2222222222222222,
             "#3e4989"
            ],
            [
             0.3333333333333333,
             "#31688e"
            ],
            [
             0.4444444444444444,
             "#26828e"
            ],
            [
             0.5555555555555556,
             "#1f9e89"
            ],
            [
             0.6666666666666666,
             "#35b779"
            ],
            [
             0.7777777777777778,
             "#6ece58"
            ],
            [
             0.8888888888888888,
             "#b5de2b"
            ],
            [
             1,
             "#fde725"
            ]
           ],
           "sequentialminus": [
            [
             0,
             "#440154"
            ],
            [
             0.1111111111111111,
             "#482878"
            ],
            [
             0.2222222222222222,
             "#3e4989"
            ],
            [
             0.3333333333333333,
             "#31688e"
            ],
            [
             0.4444444444444444,
             "#26828e"
            ],
            [
             0.5555555555555556,
             "#1f9e89"
            ],
            [
             0.6666666666666666,
             "#35b779"
            ],
            [
             0.7777777777777778,
             "#6ece58"
            ],
            [
             0.8888888888888888,
             "#b5de2b"
            ],
            [
             1,
             "#fde725"
            ]
           ]
          },
          "colorway": [
           "#1F77B4",
           "#FF7F0E",
           "#2CA02C",
           "#D62728",
           "#9467BD",
           "#8C564B",
           "#E377C2",
           "#7F7F7F",
           "#BCBD22",
           "#17BECF"
          ],
          "font": {
           "color": "rgb(36,36,36)"
          },
          "geo": {
           "bgcolor": "white",
           "lakecolor": "white",
           "landcolor": "white",
           "showlakes": true,
           "showland": true,
           "subunitcolor": "white"
          },
          "hoverlabel": {
           "align": "left"
          },
          "hovermode": "closest",
          "mapbox": {
           "style": "light"
          },
          "paper_bgcolor": "white",
          "plot_bgcolor": "white",
          "polar": {
           "angularaxis": {
            "gridcolor": "rgb(232,232,232)",
            "linecolor": "rgb(36,36,36)",
            "showgrid": false,
            "showline": true,
            "ticks": "outside"
           },
           "bgcolor": "white",
           "radialaxis": {
            "gridcolor": "rgb(232,232,232)",
            "linecolor": "rgb(36,36,36)",
            "showgrid": false,
            "showline": true,
            "ticks": "outside"
           }
          },
          "scene": {
           "xaxis": {
            "backgroundcolor": "white",
            "gridcolor": "rgb(232,232,232)",
            "gridwidth": 2,
            "linecolor": "rgb(36,36,36)",
            "showbackground": true,
            "showgrid": false,
            "showline": true,
            "ticks": "outside",
            "zeroline": false,
            "zerolinecolor": "rgb(36,36,36)"
           },
           "yaxis": {
            "backgroundcolor": "white",
            "gridcolor": "rgb(232,232,232)",
            "gridwidth": 2,
            "linecolor": "rgb(36,36,36)",
            "showbackground": true,
            "showgrid": false,
            "showline": true,
            "ticks": "outside",
            "zeroline": false,
            "zerolinecolor": "rgb(36,36,36)"
           },
           "zaxis": {
            "backgroundcolor": "white",
            "gridcolor": "rgb(232,232,232)",
            "gridwidth": 2,
            "linecolor": "rgb(36,36,36)",
            "showbackground": true,
            "showgrid": false,
            "showline": true,
            "ticks": "outside",
            "zeroline": false,
            "zerolinecolor": "rgb(36,36,36)"
           }
          },
          "shapedefaults": {
           "fillcolor": "black",
           "line": {
            "width": 0
           },
           "opacity": 0.3
          },
          "ternary": {
           "aaxis": {
            "gridcolor": "rgb(232,232,232)",
            "linecolor": "rgb(36,36,36)",
            "showgrid": false,
            "showline": true,
            "ticks": "outside"
           },
           "baxis": {
            "gridcolor": "rgb(232,232,232)",
            "linecolor": "rgb(36,36,36)",
            "showgrid": false,
            "showline": true,
            "ticks": "outside"
           },
           "bgcolor": "white",
           "caxis": {
            "gridcolor": "rgb(232,232,232)",
            "linecolor": "rgb(36,36,36)",
            "showgrid": false,
            "showline": true,
            "ticks": "outside"
           }
          },
          "title": {
           "x": 0.05
          },
          "xaxis": {
           "automargin": true,
           "gridcolor": "rgb(232,232,232)",
           "linecolor": "rgb(36,36,36)",
           "showgrid": false,
           "showline": true,
           "ticks": "outside",
           "title": {
            "standoff": 15
           },
           "zeroline": false,
           "zerolinecolor": "rgb(36,36,36)"
          },
          "yaxis": {
           "automargin": true,
           "gridcolor": "rgb(232,232,232)",
           "linecolor": "rgb(36,36,36)",
           "showgrid": false,
           "showline": true,
           "ticks": "outside",
           "title": {
            "standoff": 15
           },
           "zeroline": false,
           "zerolinecolor": "rgb(36,36,36)"
          }
         }
        },
        "title": {
         "font": {
          "color": "Black",
          "size": 22
         },
         "text": "<b>Documents and Topics</b>",
         "x": 0.5,
         "xanchor": "center",
         "yanchor": "top"
        },
        "width": 1200,
        "xaxis": {
         "visible": false
        },
        "yaxis": {
         "visible": false
        }
       }
      }
     },
     "metadata": {},
     "output_type": "display_data"
    }
   ],
   "source": [
    "reduced_embeddings = UMAP(n_neighbors=10, n_components=2, min_dist=0.0, metric='cosine').fit_transform(embeddings)\n",
    "topic_model.visualize_documents(docs, reduced_embeddings=reduced_embeddings, hide_document_hover=True)"
   ]
  },
  {
   "cell_type": "markdown",
   "metadata": {},
   "source": [
    "# 层次聚类"
   ]
  },
  {
   "cell_type": "code",
   "execution_count": null,
   "metadata": {},
   "outputs": [
    {
     "name": "stderr",
     "output_type": "stream",
     "text": [
      "100%|██████████| 20/20 [00:00<00:00, 104.07it/s]\n"
     ]
    },
    {
     "data": {
      "application/vnd.plotly.v1+json": {
       "config": {
        "plotlyServerURL": "https://plot.ly"
       },
       "data": [
        {
         "hoverinfo": "text",
         "marker": {
          "color": "rgb(61,153,112)"
         },
         "mode": "lines",
         "text": [
          "福昌_龙门石窟_城隍庙_龙门_博物馆",
          "",
          "",
          "石窟_中国_龙门石窟_艺术_世界"
         ],
         "type": "scatter",
         "x": [
          0,
          0.5057545992385941,
          0.5057545992385941,
          0
         ],
         "xaxis": "x",
         "y": [
          -5,
          -5,
          -15,
          -15
         ],
         "yaxis": "y"
        },
        {
         "hoverinfo": "text",
         "marker": {
          "color": "rgb(255,65,54)"
         },
         "mode": "lines",
         "text": [
          "泉州_洛阳桥_旅行_历史_济南",
          "",
          "",
          "王府_竹海_旅行_河南_景区"
         ],
         "type": "scatter",
         "x": [
          0,
          0.7136400838677608,
          0.7136400838677608,
          0
         ],
         "xaxis": "x",
         "y": [
          -35,
          -35,
          -45,
          -45
         ],
         "yaxis": "y"
        },
        {
         "hoverinfo": "text",
         "marker": {
          "color": "rgb(255,65,54)"
         },
         "mode": "lines",
         "text": [
          "旅行_王府_竹海_泉州_河南",
          "",
          "",
          "广济桥_位于_白马寺_建筑_鸡冠"
         ],
         "type": "scatter",
         "x": [
          0.7136400838677608,
          0.758998907068849,
          0.758998907068849,
          0
         ],
         "xaxis": "x",
         "y": [
          -40,
          -40,
          -55,
          -55
         ],
         "yaxis": "y"
        },
        {
         "hoverinfo": "text",
         "marker": {
          "color": "rgb(255,65,54)"
         },
         "mode": "lines",
         "text": [
          "河南_造纸_巩义_历史_龙亭",
          "",
          "",
          "旅行_历史_河南_中国_泉州"
         ],
         "type": "scatter",
         "x": [
          0,
          0.8692835965278367,
          0.8692835965278367,
          0.758998907068849
         ],
         "xaxis": "x",
         "y": [
          -25,
          -25,
          -47.5,
          -47.5
         ],
         "yaxis": "y"
        },
        {
         "hoverinfo": "text",
         "marker": {
          "color": "rgb(255,65,54)"
         },
         "mode": "lines",
         "text": [
          "地方_很多_一天_一点_已经",
          "",
          "",
          "写真_发团_成人_儿童_地点"
         ],
         "type": "scatter",
         "x": [
          0,
          0.8010566606343938,
          0.8010566606343938,
          0
         ],
         "xaxis": "x",
         "y": [
          -75,
          -75,
          -85,
          -85
         ],
         "yaxis": "y"
        },
        {
         "hoverinfo": "text",
         "marker": {
          "color": "rgb(255,65,54)"
         },
         "mode": "lines",
         "text": [
          "民宿_酒店_巧克力_孩子_余舍",
          "",
          "",
          "地方_西安_很多_一天_写真"
         ],
         "type": "scatter",
         "x": [
          0,
          0.9006034133878535,
          0.9006034133878535,
          0.8010566606343938
         ],
         "xaxis": "x",
         "y": [
          -65,
          -65,
          -80,
          -80
         ],
         "yaxis": "y"
        },
        {
         "hoverinfo": "text",
         "marker": {
          "color": "rgb(255,65,54)"
         },
         "mode": "lines",
         "text": [
          "民宿_酒店_地方_西安_很多",
          "",
          "",
          "话题_大寒_隋唐洛阳城_同安_风起"
         ],
         "type": "scatter",
         "x": [
          0.9006034133878535,
          0.9325433489328923,
          0.9325433489328923,
          0
         ],
         "xaxis": "x",
         "y": [
          -72.5,
          -72.5,
          -95,
          -95
         ],
         "yaxis": "y"
        },
        {
         "hoverinfo": "text",
         "marker": {
          "color": "rgb(255,65,54)"
         },
         "mode": "lines",
         "text": [
          "旅行_历史_河南_中国_泉州",
          "",
          "",
          "酒店_民宿_地方_感受_体验"
         ],
         "type": "scatter",
         "x": [
          0.8692835965278367,
          0.9551646121727781,
          0.9551646121727781,
          0.9325433489328923
         ],
         "xaxis": "x",
         "y": [
          -36.25,
          -36.25,
          -83.75,
          -83.75
         ],
         "yaxis": "y"
        },
        {
         "hoverinfo": "text",
         "marker": {
          "color": "rgb(0,116,217)"
         },
         "mode": "lines",
         "text": [
          "龙门石窟_石窟_中国_艺术_世界",
          "",
          "",
          "旅行_河南_历史_中国_地方"
         ],
         "type": "scatter",
         "x": [
          0.5057545992385941,
          1.1205479190532555,
          1.1205479190532555,
          0.9551646121727781
         ],
         "xaxis": "x",
         "y": [
          -10,
          -10,
          -60,
          -60
         ],
         "yaxis": "y"
        },
        {
         "hoverinfo": "text",
         "marker": {
          "color": "rgb(35,205,205)"
         },
         "mode": "lines",
         "text": [
          "银杏_文旅文创_发展_大会_中国",
          "",
          "",
          "博物馆_历史_停车场_白马寺_建设"
         ],
         "type": "scatter",
         "x": [
          0,
          0.7425811099159476,
          0.7425811099159476,
          0
         ],
         "xaxis": "x",
         "y": [
          -105,
          -105,
          -115,
          -115
         ],
         "yaxis": "y"
        },
        {
         "hoverinfo": "text",
         "marker": {
          "color": "rgb(35,205,205)"
         },
         "mode": "lines",
         "text": [
          "机场_建设_规划_项目_自驾车",
          "",
          "",
          "项目_消费_文旅_发展_建设"
         ],
         "type": "scatter",
         "x": [
          0,
          0.6267200852145871,
          0.6267200852145871,
          0
         ],
         "xaxis": "x",
         "y": [
          -125,
          -125,
          -135,
          -135
         ],
         "yaxis": "y"
        },
        {
         "hoverinfo": "text",
         "marker": {
          "color": "rgb(35,205,205)"
         },
         "mode": "lines",
         "text": [
          "项目_建设_机场_国家_发展",
          "",
          "",
          "工作_集团_河洛_建设_投资"
         ],
         "type": "scatter",
         "x": [
          0.6267200852145871,
          0.7005901732768767,
          0.7005901732768767,
          0
         ],
         "xaxis": "x",
         "y": [
          -130,
          -130,
          -145,
          -145
         ],
         "yaxis": "y"
        },
        {
         "hoverinfo": "text",
         "marker": {
          "color": "rgb(35,205,205)"
         },
         "mode": "lines",
         "text": [
          "博物馆_银杏_发展_中国_文旅文创",
          "",
          "",
          "项目_建设_发展_规划_工作"
         ],
         "type": "scatter",
         "x": [
          0.7425811099159476,
          0.7674165525662214,
          0.7674165525662214,
          0.7005901732768767
         ],
         "xaxis": "x",
         "y": [
          -110,
          -110,
          -137.5,
          -137.5
         ],
         "yaxis": "y"
        },
        {
         "hoverinfo": "text",
         "marker": {
          "color": "rgb(133,20,75)"
         },
         "mode": "lines",
         "text": [
          "景区_度假区_公示_等级_评定",
          "",
          "",
          "防控_疫情_景区_开放_场所"
         ],
         "type": "scatter",
         "x": [
          0,
          0.7908057650730669,
          0.7908057650730669,
          0
         ],
         "xaxis": "x",
         "y": [
          -155,
          -155,
          -165,
          -165
         ],
         "yaxis": "y"
        },
        {
         "hoverinfo": "text",
         "marker": {
          "color": "rgb(133,20,75)"
         },
         "mode": "lines",
         "text": [
          "活动_门票_景区_免费_时间",
          "",
          "",
          "旅客_年票_客流_郑州_列车"
         ],
         "type": "scatter",
         "x": [
          0,
          0.7068023546461416,
          0.7068023546461416,
          0
         ],
         "xaxis": "x",
         "y": [
          -175,
          -175,
          -185,
          -185
         ],
         "yaxis": "y"
        },
        {
         "hoverinfo": "text",
         "marker": {
          "color": "rgb(133,20,75)"
         },
         "mode": "lines",
         "text": [
          "景区_防控_疫情_开放_度假区",
          "",
          "",
          "旅客_景区_高速_门票_年票"
         ],
         "type": "scatter",
         "x": [
          0.7908057650730669,
          0.8615560656892243,
          0.8615560656892243,
          0.7068023546461416
         ],
         "xaxis": "x",
         "y": [
          -160,
          -160,
          -180,
          -180
         ],
         "yaxis": "y"
        },
        {
         "hoverinfo": "text",
         "marker": {
          "color": "rgb(133,20,75)"
         },
         "mode": "lines",
         "text": [
          "游客_景区_午餐_老君山_网友",
          "",
          "",
          "五一_数据_预订_增长_热门"
         ],
         "type": "scatter",
         "x": [
          0,
          0.8217866214335633,
          0.8217866214335633,
          0
         ],
         "xaxis": "x",
         "y": [
          -195,
          -195,
          -205,
          -205
         ],
         "yaxis": "y"
        },
        {
         "hoverinfo": "text",
         "marker": {
          "color": "rgb(133,20,75)"
         },
         "mode": "lines",
         "text": [
          "景区_旅客_郑州_年票_高速",
          "",
          "",
          "游客_景区_显示_假期_五一"
         ],
         "type": "scatter",
         "x": [
          0.8615560656892243,
          0.9151234346297069,
          0.9151234346297069,
          0.8217866214335633
         ],
         "xaxis": "x",
         "y": [
          -170,
          -170,
          -200,
          -200
         ],
         "yaxis": "y"
        },
        {
         "hoverinfo": "text",
         "marker": {
          "color": "rgb(0,116,217)"
         },
         "mode": "lines",
         "text": [
          "建设_项目_发展_博物馆_工作",
          "",
          "",
          "景区_游客_旅客_郑州_门票"
         ],
         "type": "scatter",
         "x": [
          0.7674165525662214,
          1.1310707399068711,
          1.1310707399068711,
          0.9151234346297069
         ],
         "xaxis": "x",
         "y": [
          -123.75,
          -123.75,
          -185,
          -185
         ],
         "yaxis": "y"
        },
        {
         "hoverinfo": "text",
         "marker": {
          "color": "rgb(0,116,217)"
         },
         "mode": "lines",
         "text": [
          "中国_龙门石窟_石窟_旅行_河南",
          "",
          "",
          "景区_游客_项目_活动_发展"
         ],
         "type": "scatter",
         "x": [
          1.1205479190532555,
          1.322405502927335,
          1.322405502927335,
          1.1310707399068711
         ],
         "xaxis": "x",
         "y": [
          -35,
          -35,
          -154.375,
          -154.375
         ],
         "yaxis": "y"
        },
        {
         "hoverinfo": "text",
         "hovertext": [
          "旅行_王府_竹海_泉州_河南",
          "民宿_酒店_地方_西安_很多",
          "旅行_历史_河南_中国_泉州",
          "龙门石窟_石窟_中国_艺术_世界",
          "项目_建设_机场_国家_发展",
          "博物馆_银杏_发展_中国_文旅文创",
          "景区_防控_疫情_开放_度假区",
          "景区_旅客_郑州_年票_高速",
          "建设_项目_发展_博物馆_工作",
          "中国_龙门石窟_石窟_旅行_河南"
         ],
         "marker": {
          "color": "black"
         },
         "mode": "markers",
         "showlegend": false,
         "type": "scatter",
         "x": [
          0.7136400838677608,
          0.9006034133878535,
          0.8692835965278367,
          0.5057545992385941,
          0.6267200852145871,
          0.7425811099159476,
          0.7908057650730669,
          0.8615560656892243,
          0.7674165525662214,
          1.1205479190532555
         ],
         "y": [
          -40,
          -72.5,
          -36.25,
          -10,
          -130,
          -110,
          -160,
          -170,
          -123.75,
          -35
         ]
        },
        {
         "hoverinfo": "text",
         "hovertext": [
          "旅行_历史_河南_中国_泉州",
          "地方_西安_很多_一天_写真",
          "酒店_民宿_地方_感受_体验",
          "旅行_河南_历史_中国_地方",
          "项目_建设_发展_规划_工作",
          "旅客_景区_高速_门票_年票",
          "游客_景区_显示_假期_五一",
          "景区_游客_旅客_郑州_门票",
          "景区_游客_项目_活动_发展"
         ],
         "marker": {
          "color": "black"
         },
         "mode": "markers",
         "showlegend": false,
         "type": "scatter",
         "x": [
          0.758998907068849,
          0.8010566606343938,
          0.9325433489328923,
          0.9551646121727781,
          0.7005901732768767,
          0.7068023546461416,
          0.8217866214335633,
          0.9151234346297069,
          1.1310707399068711
         ],
         "y": [
          -47.5,
          -80,
          -83.75,
          -60,
          -137.5,
          -180,
          -200,
          -185,
          -154.375
         ]
        }
       ],
       "layout": {
        "autosize": false,
        "height": 515,
        "hoverlabel": {
         "bgcolor": "white",
         "font": {
          "family": "Rockwell",
          "size": 16
         }
        },
        "hovermode": "closest",
        "plot_bgcolor": "#ECEFF1",
        "showlegend": false,
        "template": {
         "data": {
          "bar": [
           {
            "error_x": {
             "color": "#2a3f5f"
            },
            "error_y": {
             "color": "#2a3f5f"
            },
            "marker": {
             "line": {
              "color": "white",
              "width": 0.5
             },
             "pattern": {
              "fillmode": "overlay",
              "size": 10,
              "solidity": 0.2
             }
            },
            "type": "bar"
           }
          ],
          "barpolar": [
           {
            "marker": {
             "line": {
              "color": "white",
              "width": 0.5
             },
             "pattern": {
              "fillmode": "overlay",
              "size": 10,
              "solidity": 0.2
             }
            },
            "type": "barpolar"
           }
          ],
          "carpet": [
           {
            "aaxis": {
             "endlinecolor": "#2a3f5f",
             "gridcolor": "#C8D4E3",
             "linecolor": "#C8D4E3",
             "minorgridcolor": "#C8D4E3",
             "startlinecolor": "#2a3f5f"
            },
            "baxis": {
             "endlinecolor": "#2a3f5f",
             "gridcolor": "#C8D4E3",
             "linecolor": "#C8D4E3",
             "minorgridcolor": "#C8D4E3",
             "startlinecolor": "#2a3f5f"
            },
            "type": "carpet"
           }
          ],
          "choropleth": [
           {
            "colorbar": {
             "outlinewidth": 0,
             "ticks": ""
            },
            "type": "choropleth"
           }
          ],
          "contour": [
           {
            "colorbar": {
             "outlinewidth": 0,
             "ticks": ""
            },
            "colorscale": [
             [
              0,
              "#0d0887"
             ],
             [
              0.1111111111111111,
              "#46039f"
             ],
             [
              0.2222222222222222,
              "#7201a8"
             ],
             [
              0.3333333333333333,
              "#9c179e"
             ],
             [
              0.4444444444444444,
              "#bd3786"
             ],
             [
              0.5555555555555556,
              "#d8576b"
             ],
             [
              0.6666666666666666,
              "#ed7953"
             ],
             [
              0.7777777777777778,
              "#fb9f3a"
             ],
             [
              0.8888888888888888,
              "#fdca26"
             ],
             [
              1,
              "#f0f921"
             ]
            ],
            "type": "contour"
           }
          ],
          "contourcarpet": [
           {
            "colorbar": {
             "outlinewidth": 0,
             "ticks": ""
            },
            "type": "contourcarpet"
           }
          ],
          "heatmap": [
           {
            "colorbar": {
             "outlinewidth": 0,
             "ticks": ""
            },
            "colorscale": [
             [
              0,
              "#0d0887"
             ],
             [
              0.1111111111111111,
              "#46039f"
             ],
             [
              0.2222222222222222,
              "#7201a8"
             ],
             [
              0.3333333333333333,
              "#9c179e"
             ],
             [
              0.4444444444444444,
              "#bd3786"
             ],
             [
              0.5555555555555556,
              "#d8576b"
             ],
             [
              0.6666666666666666,
              "#ed7953"
             ],
             [
              0.7777777777777778,
              "#fb9f3a"
             ],
             [
              0.8888888888888888,
              "#fdca26"
             ],
             [
              1,
              "#f0f921"
             ]
            ],
            "type": "heatmap"
           }
          ],
          "heatmapgl": [
           {
            "colorbar": {
             "outlinewidth": 0,
             "ticks": ""
            },
            "colorscale": [
             [
              0,
              "#0d0887"
             ],
             [
              0.1111111111111111,
              "#46039f"
             ],
             [
              0.2222222222222222,
              "#7201a8"
             ],
             [
              0.3333333333333333,
              "#9c179e"
             ],
             [
              0.4444444444444444,
              "#bd3786"
             ],
             [
              0.5555555555555556,
              "#d8576b"
             ],
             [
              0.6666666666666666,
              "#ed7953"
             ],
             [
              0.7777777777777778,
              "#fb9f3a"
             ],
             [
              0.8888888888888888,
              "#fdca26"
             ],
             [
              1,
              "#f0f921"
             ]
            ],
            "type": "heatmapgl"
           }
          ],
          "histogram": [
           {
            "marker": {
             "pattern": {
              "fillmode": "overlay",
              "size": 10,
              "solidity": 0.2
             }
            },
            "type": "histogram"
           }
          ],
          "histogram2d": [
           {
            "colorbar": {
             "outlinewidth": 0,
             "ticks": ""
            },
            "colorscale": [
             [
              0,
              "#0d0887"
             ],
             [
              0.1111111111111111,
              "#46039f"
             ],
             [
              0.2222222222222222,
              "#7201a8"
             ],
             [
              0.3333333333333333,
              "#9c179e"
             ],
             [
              0.4444444444444444,
              "#bd3786"
             ],
             [
              0.5555555555555556,
              "#d8576b"
             ],
             [
              0.6666666666666666,
              "#ed7953"
             ],
             [
              0.7777777777777778,
              "#fb9f3a"
             ],
             [
              0.8888888888888888,
              "#fdca26"
             ],
             [
              1,
              "#f0f921"
             ]
            ],
            "type": "histogram2d"
           }
          ],
          "histogram2dcontour": [
           {
            "colorbar": {
             "outlinewidth": 0,
             "ticks": ""
            },
            "colorscale": [
             [
              0,
              "#0d0887"
             ],
             [
              0.1111111111111111,
              "#46039f"
             ],
             [
              0.2222222222222222,
              "#7201a8"
             ],
             [
              0.3333333333333333,
              "#9c179e"
             ],
             [
              0.4444444444444444,
              "#bd3786"
             ],
             [
              0.5555555555555556,
              "#d8576b"
             ],
             [
              0.6666666666666666,
              "#ed7953"
             ],
             [
              0.7777777777777778,
              "#fb9f3a"
             ],
             [
              0.8888888888888888,
              "#fdca26"
             ],
             [
              1,
              "#f0f921"
             ]
            ],
            "type": "histogram2dcontour"
           }
          ],
          "mesh3d": [
           {
            "colorbar": {
             "outlinewidth": 0,
             "ticks": ""
            },
            "type": "mesh3d"
           }
          ],
          "parcoords": [
           {
            "line": {
             "colorbar": {
              "outlinewidth": 0,
              "ticks": ""
             }
            },
            "type": "parcoords"
           }
          ],
          "pie": [
           {
            "automargin": true,
            "type": "pie"
           }
          ],
          "scatter": [
           {
            "fillpattern": {
             "fillmode": "overlay",
             "size": 10,
             "solidity": 0.2
            },
            "type": "scatter"
           }
          ],
          "scatter3d": [
           {
            "line": {
             "colorbar": {
              "outlinewidth": 0,
              "ticks": ""
             }
            },
            "marker": {
             "colorbar": {
              "outlinewidth": 0,
              "ticks": ""
             }
            },
            "type": "scatter3d"
           }
          ],
          "scattercarpet": [
           {
            "marker": {
             "colorbar": {
              "outlinewidth": 0,
              "ticks": ""
             }
            },
            "type": "scattercarpet"
           }
          ],
          "scattergeo": [
           {
            "marker": {
             "colorbar": {
              "outlinewidth": 0,
              "ticks": ""
             }
            },
            "type": "scattergeo"
           }
          ],
          "scattergl": [
           {
            "marker": {
             "colorbar": {
              "outlinewidth": 0,
              "ticks": ""
             }
            },
            "type": "scattergl"
           }
          ],
          "scattermapbox": [
           {
            "marker": {
             "colorbar": {
              "outlinewidth": 0,
              "ticks": ""
             }
            },
            "type": "scattermapbox"
           }
          ],
          "scatterpolar": [
           {
            "marker": {
             "colorbar": {
              "outlinewidth": 0,
              "ticks": ""
             }
            },
            "type": "scatterpolar"
           }
          ],
          "scatterpolargl": [
           {
            "marker": {
             "colorbar": {
              "outlinewidth": 0,
              "ticks": ""
             }
            },
            "type": "scatterpolargl"
           }
          ],
          "scatterternary": [
           {
            "marker": {
             "colorbar": {
              "outlinewidth": 0,
              "ticks": ""
             }
            },
            "type": "scatterternary"
           }
          ],
          "surface": [
           {
            "colorbar": {
             "outlinewidth": 0,
             "ticks": ""
            },
            "colorscale": [
             [
              0,
              "#0d0887"
             ],
             [
              0.1111111111111111,
              "#46039f"
             ],
             [
              0.2222222222222222,
              "#7201a8"
             ],
             [
              0.3333333333333333,
              "#9c179e"
             ],
             [
              0.4444444444444444,
              "#bd3786"
             ],
             [
              0.5555555555555556,
              "#d8576b"
             ],
             [
              0.6666666666666666,
              "#ed7953"
             ],
             [
              0.7777777777777778,
              "#fb9f3a"
             ],
             [
              0.8888888888888888,
              "#fdca26"
             ],
             [
              1,
              "#f0f921"
             ]
            ],
            "type": "surface"
           }
          ],
          "table": [
           {
            "cells": {
             "fill": {
              "color": "#EBF0F8"
             },
             "line": {
              "color": "white"
             }
            },
            "header": {
             "fill": {
              "color": "#C8D4E3"
             },
             "line": {
              "color": "white"
             }
            },
            "type": "table"
           }
          ]
         },
         "layout": {
          "annotationdefaults": {
           "arrowcolor": "#2a3f5f",
           "arrowhead": 0,
           "arrowwidth": 1
          },
          "autotypenumbers": "strict",
          "coloraxis": {
           "colorbar": {
            "outlinewidth": 0,
            "ticks": ""
           }
          },
          "colorscale": {
           "diverging": [
            [
             0,
             "#8e0152"
            ],
            [
             0.1,
             "#c51b7d"
            ],
            [
             0.2,
             "#de77ae"
            ],
            [
             0.3,
             "#f1b6da"
            ],
            [
             0.4,
             "#fde0ef"
            ],
            [
             0.5,
             "#f7f7f7"
            ],
            [
             0.6,
             "#e6f5d0"
            ],
            [
             0.7,
             "#b8e186"
            ],
            [
             0.8,
             "#7fbc41"
            ],
            [
             0.9,
             "#4d9221"
            ],
            [
             1,
             "#276419"
            ]
           ],
           "sequential": [
            [
             0,
             "#0d0887"
            ],
            [
             0.1111111111111111,
             "#46039f"
            ],
            [
             0.2222222222222222,
             "#7201a8"
            ],
            [
             0.3333333333333333,
             "#9c179e"
            ],
            [
             0.4444444444444444,
             "#bd3786"
            ],
            [
             0.5555555555555556,
             "#d8576b"
            ],
            [
             0.6666666666666666,
             "#ed7953"
            ],
            [
             0.7777777777777778,
             "#fb9f3a"
            ],
            [
             0.8888888888888888,
             "#fdca26"
            ],
            [
             1,
             "#f0f921"
            ]
           ],
           "sequentialminus": [
            [
             0,
             "#0d0887"
            ],
            [
             0.1111111111111111,
             "#46039f"
            ],
            [
             0.2222222222222222,
             "#7201a8"
            ],
            [
             0.3333333333333333,
             "#9c179e"
            ],
            [
             0.4444444444444444,
             "#bd3786"
            ],
            [
             0.5555555555555556,
             "#d8576b"
            ],
            [
             0.6666666666666666,
             "#ed7953"
            ],
            [
             0.7777777777777778,
             "#fb9f3a"
            ],
            [
             0.8888888888888888,
             "#fdca26"
            ],
            [
             1,
             "#f0f921"
            ]
           ]
          },
          "colorway": [
           "#636efa",
           "#EF553B",
           "#00cc96",
           "#ab63fa",
           "#FFA15A",
           "#19d3f3",
           "#FF6692",
           "#B6E880",
           "#FF97FF",
           "#FECB52"
          ],
          "font": {
           "color": "#2a3f5f"
          },
          "geo": {
           "bgcolor": "white",
           "lakecolor": "white",
           "landcolor": "white",
           "showlakes": true,
           "showland": true,
           "subunitcolor": "#C8D4E3"
          },
          "hoverlabel": {
           "align": "left"
          },
          "hovermode": "closest",
          "mapbox": {
           "style": "light"
          },
          "paper_bgcolor": "white",
          "plot_bgcolor": "white",
          "polar": {
           "angularaxis": {
            "gridcolor": "#EBF0F8",
            "linecolor": "#EBF0F8",
            "ticks": ""
           },
           "bgcolor": "white",
           "radialaxis": {
            "gridcolor": "#EBF0F8",
            "linecolor": "#EBF0F8",
            "ticks": ""
           }
          },
          "scene": {
           "xaxis": {
            "backgroundcolor": "white",
            "gridcolor": "#DFE8F3",
            "gridwidth": 2,
            "linecolor": "#EBF0F8",
            "showbackground": true,
            "ticks": "",
            "zerolinecolor": "#EBF0F8"
           },
           "yaxis": {
            "backgroundcolor": "white",
            "gridcolor": "#DFE8F3",
            "gridwidth": 2,
            "linecolor": "#EBF0F8",
            "showbackground": true,
            "ticks": "",
            "zerolinecolor": "#EBF0F8"
           },
           "zaxis": {
            "backgroundcolor": "white",
            "gridcolor": "#DFE8F3",
            "gridwidth": 2,
            "linecolor": "#EBF0F8",
            "showbackground": true,
            "ticks": "",
            "zerolinecolor": "#EBF0F8"
           }
          },
          "shapedefaults": {
           "line": {
            "color": "#2a3f5f"
           }
          },
          "ternary": {
           "aaxis": {
            "gridcolor": "#DFE8F3",
            "linecolor": "#A2B1C6",
            "ticks": ""
           },
           "baxis": {
            "gridcolor": "#DFE8F3",
            "linecolor": "#A2B1C6",
            "ticks": ""
           },
           "bgcolor": "white",
           "caxis": {
            "gridcolor": "#DFE8F3",
            "linecolor": "#A2B1C6",
            "ticks": ""
           }
          },
          "title": {
           "x": 0.05
          },
          "xaxis": {
           "automargin": true,
           "gridcolor": "#EBF0F8",
           "linecolor": "#EBF0F8",
           "ticks": "",
           "title": {
            "standoff": 15
           },
           "zerolinecolor": "#EBF0F8",
           "zerolinewidth": 2
          },
          "yaxis": {
           "automargin": true,
           "gridcolor": "#EBF0F8",
           "linecolor": "#EBF0F8",
           "ticks": "",
           "title": {
            "standoff": 15
           },
           "zerolinecolor": "#EBF0F8",
           "zerolinewidth": 2
          }
         }
        },
        "title": {
         "font": {
          "color": "Black",
          "size": 22
         },
         "text": "<b>Hierarchical Clustering</b>",
         "x": 0.5,
         "xanchor": "center",
         "yanchor": "top"
        },
        "width": 1000,
        "xaxis": {
         "mirror": "allticks",
         "rangemode": "tozero",
         "showgrid": false,
         "showline": true,
         "showticklabels": true,
         "ticks": "outside",
         "type": "linear",
         "zeroline": false
        },
        "yaxis": {
         "mirror": "allticks",
         "range": [
          -210,
          0
         ],
         "rangemode": "tozero",
         "showgrid": false,
         "showline": true,
         "showticklabels": true,
         "tickmode": "array",
         "ticks": "outside",
         "ticktext": [
          "19_福昌_龙门石窟_城隍庙",
          "2_石窟_中国_龙门石窟",
          "9_河南_造纸_巩义",
          "6_泉州_洛阳桥_旅行",
          "1_王府_竹海_旅行",
          "12_广济桥_位于_白马寺",
          "20_民宿_酒店_巧克力",
          "5_地方_很多_一天",
          "15_写真_发团_成人",
          "18_话题_大寒_隋唐洛阳城",
          "11_银杏_文旅文创_发展",
          "16_博物馆_历史_停车场",
          "4_机场_建设_规划",
          "10_项目_消费_文旅",
          "7_工作_集团_河洛",
          "17_景区_度假区_公示",
          "13_防控_疫情_景区",
          "0_活动_门票_景区",
          "3_旅客_年票_客流",
          "8_游客_景区_午餐",
          "14_五一_数据_预订"
         ],
         "tickvals": [
          -5,
          -15,
          -25,
          -35,
          -45,
          -55,
          -65,
          -75,
          -85,
          -95,
          -105,
          -115,
          -125,
          -135,
          -145,
          -155,
          -165,
          -175,
          -185,
          -195,
          -205
         ],
         "type": "linear",
         "zeroline": false
        }
       }
      }
     },
     "metadata": {},
     "output_type": "display_data"
    }
   ],
   "source": [
    "hierarchical_topics = topic_model.hierarchical_topics(docs)\n",
    "topic_model.visualize_hierarchy(hierarchical_topics=hierarchical_topics)"
   ]
  },
  {
   "cell_type": "markdown",
   "metadata": {},
   "source": [
    "# 合并主题"
   ]
  },
  {
   "cell_type": "code",
   "execution_count": null,
   "metadata": {},
   "outputs": [
    {
     "data": {
      "text/html": [
       "<div>\n",
       "<style scoped>\n",
       "    .dataframe tbody tr th:only-of-type {\n",
       "        vertical-align: middle;\n",
       "    }\n",
       "\n",
       "    .dataframe tbody tr th {\n",
       "        vertical-align: top;\n",
       "    }\n",
       "\n",
       "    .dataframe thead th {\n",
       "        text-align: right;\n",
       "    }\n",
       "</style>\n",
       "<table border=\"1\" class=\"dataframe\">\n",
       "  <thead>\n",
       "    <tr style=\"text-align: right;\">\n",
       "      <th></th>\n",
       "      <th>Topic</th>\n",
       "      <th>Count</th>\n",
       "      <th>Name</th>\n",
       "      <th>Representation</th>\n",
       "      <th>Representative_Docs</th>\n",
       "    </tr>\n",
       "  </thead>\n",
       "  <tbody>\n",
       "    <tr>\n",
       "      <th>0</th>\n",
       "      <td>-1</td>\n",
       "      <td>335</td>\n",
       "      <td>-1_景区_河南_城市_中国</td>\n",
       "      <td>[景区, 河南, 城市, 中国, 游客, 活动, 洛阳市, 博物馆, 遗址, 发展]</td>\n",
       "      <td>[河南 多家 景区 陆续 发布 开园 公告 台风 杜苏芮 强度 逐渐 减弱 河南 景区 陆续...</td>\n",
       "    </tr>\n",
       "    <tr>\n",
       "      <th>1</th>\n",
       "      <td>0</td>\n",
       "      <td>244</td>\n",
       "      <td>0_河南_旅行_历史_中国</td>\n",
       "      <td>[河南, 旅行, 历史, 中国, 景区, 地方, 古城, 位于, 泉州, 郑州]</td>\n",
       "      <td>[文旅 河南 Hello 世界 外国 嘉宾 河南 印象 河南 历史 文化 圈粉 无数 日本 ...</td>\n",
       "    </tr>\n",
       "    <tr>\n",
       "      <th>2</th>\n",
       "      <td>1</td>\n",
       "      <td>205</td>\n",
       "      <td>1_景区_游客_郑州_旅客</td>\n",
       "      <td>[景区, 游客, 郑州, 旅客, 活动, 门票, 年票, 高速, 假期, 时间]</td>\n",
       "      <td>[洛阳 热门 栾川县 八大 景区 洛阳 市民 门票 第七个 中国 旅游 栾川县 八大 景区 ...</td>\n",
       "    </tr>\n",
       "    <tr>\n",
       "      <th>3</th>\n",
       "      <td>2</td>\n",
       "      <td>154</td>\n",
       "      <td>2_建设_发展_项目_河南</td>\n",
       "      <td>[建设, 发展, 项目, 河南, 博物馆, 国家, 工作, 文旅, 洛阳市, 城市]</td>\n",
       "      <td>[行走 河南 读懂 中国 关注 全省 文旅文创 发展 大会 二十大 报告 指出 坚持 以文塑...</td>\n",
       "    </tr>\n",
       "    <tr>\n",
       "      <th>4</th>\n",
       "      <td>3</td>\n",
       "      <td>62</td>\n",
       "      <td>3_中国_龙门石窟_石窟_艺术</td>\n",
       "      <td>[中国, 龙门石窟, 石窟, 艺术, 世界, 文化遗产, 少林寺, 朝代, 造像, 位于]</td>\n",
       "      <td>[洛阳 周边游 龙门石窟 中国 石刻 艺术 宝库 现为 世界 文化遗产 全国 重点 文物保护...</td>\n",
       "    </tr>\n",
       "  </tbody>\n",
       "</table>\n",
       "</div>"
      ],
      "text/plain": [
       "   Topic  Count             Name  \\\n",
       "0     -1    335   -1_景区_河南_城市_中国   \n",
       "1      0    244    0_河南_旅行_历史_中国   \n",
       "2      1    205    1_景区_游客_郑州_旅客   \n",
       "3      2    154    2_建设_发展_项目_河南   \n",
       "4      3     62  3_中国_龙门石窟_石窟_艺术   \n",
       "\n",
       "                                  Representation  \\\n",
       "0     [景区, 河南, 城市, 中国, 游客, 活动, 洛阳市, 博物馆, 遗址, 发展]   \n",
       "1       [河南, 旅行, 历史, 中国, 景区, 地方, 古城, 位于, 泉州, 郑州]   \n",
       "2       [景区, 游客, 郑州, 旅客, 活动, 门票, 年票, 高速, 假期, 时间]   \n",
       "3     [建设, 发展, 项目, 河南, 博物馆, 国家, 工作, 文旅, 洛阳市, 城市]   \n",
       "4  [中国, 龙门石窟, 石窟, 艺术, 世界, 文化遗产, 少林寺, 朝代, 造像, 位于]   \n",
       "\n",
       "                                 Representative_Docs  \n",
       "0  [河南 多家 景区 陆续 发布 开园 公告 台风 杜苏芮 强度 逐渐 减弱 河南 景区 陆续...  \n",
       "1  [文旅 河南 Hello 世界 外国 嘉宾 河南 印象 河南 历史 文化 圈粉 无数 日本 ...  \n",
       "2  [洛阳 热门 栾川县 八大 景区 洛阳 市民 门票 第七个 中国 旅游 栾川县 八大 景区 ...  \n",
       "3  [行走 河南 读懂 中国 关注 全省 文旅文创 发展 大会 二十大 报告 指出 坚持 以文塑...  \n",
       "4  [洛阳 周边游 龙门石窟 中国 石刻 艺术 宝库 现为 世界 文化遗产 全国 重点 文物保护...  "
      ]
     },
     "execution_count": 10,
     "metadata": {},
     "output_type": "execute_result"
    }
   ],
   "source": [
    "topic_model.merge_topics(docs, [\n",
    " [19, 2],\n",
    " [9, 6, 1, 12, 20, 5, 15, 18],\n",
    " [11, 16, 4, 10, 7],\n",
    " [17, 13, 0, 3, 8, 14]\n",
    "])\n",
    "\n",
    "topic_info = topic_model.get_topic_info()\n",
    "topic_info"
   ]
  },
  {
   "cell_type": "code",
   "execution_count": null,
   "metadata": {},
   "outputs": [
    {
     "data": {
      "application/vnd.plotly.v1+json": {
       "config": {
        "plotlyServerURL": "https://plot.ly"
       },
       "data": [
        {
         "customdata": [
          [
           0,
           "河南 | 旅行 | 历史 | 中国 | 景区",
           244
          ],
          [
           1,
           "景区 | 游客 | 郑州 | 旅客 | 活动",
           205
          ],
          [
           2,
           "建设 | 发展 | 项目 | 河南 | 博物馆",
           154
          ],
          [
           3,
           "中国 | 龙门石窟 | 石窟 | 艺术 | 世界",
           62
          ]
         ],
         "hovertemplate": "<b>Topic %{customdata[0]}</b><br>%{customdata[1]}<br>Size: %{customdata[2]}",
         "legendgroup": "",
         "marker": {
          "color": "#B0BEC5",
          "line": {
           "color": "DarkSlateGrey",
           "width": 2
          },
          "size": [
           244,
           205,
           154,
           62
          ],
          "sizemode": "area",
          "sizeref": 0.1525,
          "symbol": "circle"
         },
         "mode": "markers",
         "name": "",
         "orientation": "v",
         "showlegend": false,
         "type": "scatter",
         "x": [
          14.56245231628418,
          15.58043384552002,
          15.848055839538574,
          14.074591636657715
         ],
         "xaxis": "x",
         "y": [
          20.221525192260742,
          20.243560791015625,
          19.4973201751709,
          19.618770599365234
         ],
         "yaxis": "y"
        }
       ],
       "layout": {
        "annotations": [
         {
          "showarrow": false,
          "text": "D1",
          "x": 11.963402891159058,
          "y": 19.926408529281616,
          "yshift": 10
         },
         {
          "showarrow": false,
          "text": "D2",
          "x": 15.094333553314208,
          "xshift": 10,
          "y": 23.28009490966797
         }
        ],
        "height": 650,
        "hoverlabel": {
         "bgcolor": "white",
         "font": {
          "family": "Rockwell",
          "size": 16
         }
        },
        "legend": {
         "itemsizing": "constant",
         "tracegroupgap": 0
        },
        "margin": {
         "t": 60
        },
        "shapes": [
         {
          "line": {
           "color": "#CFD8DC",
           "width": 2
          },
          "type": "line",
          "x0": 15.094333553314208,
          "x1": 15.094333553314208,
          "y0": 16.572722148895263,
          "y1": 23.28009490966797
         },
         {
          "line": {
           "color": "#9E9E9E",
           "width": 2
          },
          "type": "line",
          "x0": 11.963402891159058,
          "x1": 18.22526421546936,
          "y0": 19.926408529281616,
          "y1": 19.926408529281616
         }
        ],
        "sliders": [
         {
          "active": 0,
          "pad": {
           "t": 50
          },
          "steps": [
           {
            "args": [
             {
              "marker.color": [
               [
                "red",
                "#B0BEC5",
                "#B0BEC5",
                "#B0BEC5"
               ]
              ]
             }
            ],
            "label": "Topic 0",
            "method": "update"
           },
           {
            "args": [
             {
              "marker.color": [
               [
                "#B0BEC5",
                "red",
                "#B0BEC5",
                "#B0BEC5"
               ]
              ]
             }
            ],
            "label": "Topic 1",
            "method": "update"
           },
           {
            "args": [
             {
              "marker.color": [
               [
                "#B0BEC5",
                "#B0BEC5",
                "red",
                "#B0BEC5"
               ]
              ]
             }
            ],
            "label": "Topic 2",
            "method": "update"
           },
           {
            "args": [
             {
              "marker.color": [
               [
                "#B0BEC5",
                "#B0BEC5",
                "#B0BEC5",
                "red"
               ]
              ]
             }
            ],
            "label": "Topic 3",
            "method": "update"
           }
          ]
         }
        ],
        "template": {
         "data": {
          "bar": [
           {
            "error_x": {
             "color": "rgb(36,36,36)"
            },
            "error_y": {
             "color": "rgb(36,36,36)"
            },
            "marker": {
             "line": {
              "color": "white",
              "width": 0.5
             },
             "pattern": {
              "fillmode": "overlay",
              "size": 10,
              "solidity": 0.2
             }
            },
            "type": "bar"
           }
          ],
          "barpolar": [
           {
            "marker": {
             "line": {
              "color": "white",
              "width": 0.5
             },
             "pattern": {
              "fillmode": "overlay",
              "size": 10,
              "solidity": 0.2
             }
            },
            "type": "barpolar"
           }
          ],
          "carpet": [
           {
            "aaxis": {
             "endlinecolor": "rgb(36,36,36)",
             "gridcolor": "white",
             "linecolor": "white",
             "minorgridcolor": "white",
             "startlinecolor": "rgb(36,36,36)"
            },
            "baxis": {
             "endlinecolor": "rgb(36,36,36)",
             "gridcolor": "white",
             "linecolor": "white",
             "minorgridcolor": "white",
             "startlinecolor": "rgb(36,36,36)"
            },
            "type": "carpet"
           }
          ],
          "choropleth": [
           {
            "colorbar": {
             "outlinewidth": 1,
             "tickcolor": "rgb(36,36,36)",
             "ticks": "outside"
            },
            "type": "choropleth"
           }
          ],
          "contour": [
           {
            "colorbar": {
             "outlinewidth": 1,
             "tickcolor": "rgb(36,36,36)",
             "ticks": "outside"
            },
            "colorscale": [
             [
              0,
              "#440154"
             ],
             [
              0.1111111111111111,
              "#482878"
             ],
             [
              0.2222222222222222,
              "#3e4989"
             ],
             [
              0.3333333333333333,
              "#31688e"
             ],
             [
              0.4444444444444444,
              "#26828e"
             ],
             [
              0.5555555555555556,
              "#1f9e89"
             ],
             [
              0.6666666666666666,
              "#35b779"
             ],
             [
              0.7777777777777778,
              "#6ece58"
             ],
             [
              0.8888888888888888,
              "#b5de2b"
             ],
             [
              1,
              "#fde725"
             ]
            ],
            "type": "contour"
           }
          ],
          "contourcarpet": [
           {
            "colorbar": {
             "outlinewidth": 1,
             "tickcolor": "rgb(36,36,36)",
             "ticks": "outside"
            },
            "type": "contourcarpet"
           }
          ],
          "heatmap": [
           {
            "colorbar": {
             "outlinewidth": 1,
             "tickcolor": "rgb(36,36,36)",
             "ticks": "outside"
            },
            "colorscale": [
             [
              0,
              "#440154"
             ],
             [
              0.1111111111111111,
              "#482878"
             ],
             [
              0.2222222222222222,
              "#3e4989"
             ],
             [
              0.3333333333333333,
              "#31688e"
             ],
             [
              0.4444444444444444,
              "#26828e"
             ],
             [
              0.5555555555555556,
              "#1f9e89"
             ],
             [
              0.6666666666666666,
              "#35b779"
             ],
             [
              0.7777777777777778,
              "#6ece58"
             ],
             [
              0.8888888888888888,
              "#b5de2b"
             ],
             [
              1,
              "#fde725"
             ]
            ],
            "type": "heatmap"
           }
          ],
          "heatmapgl": [
           {
            "colorbar": {
             "outlinewidth": 1,
             "tickcolor": "rgb(36,36,36)",
             "ticks": "outside"
            },
            "colorscale": [
             [
              0,
              "#440154"
             ],
             [
              0.1111111111111111,
              "#482878"
             ],
             [
              0.2222222222222222,
              "#3e4989"
             ],
             [
              0.3333333333333333,
              "#31688e"
             ],
             [
              0.4444444444444444,
              "#26828e"
             ],
             [
              0.5555555555555556,
              "#1f9e89"
             ],
             [
              0.6666666666666666,
              "#35b779"
             ],
             [
              0.7777777777777778,
              "#6ece58"
             ],
             [
              0.8888888888888888,
              "#b5de2b"
             ],
             [
              1,
              "#fde725"
             ]
            ],
            "type": "heatmapgl"
           }
          ],
          "histogram": [
           {
            "marker": {
             "line": {
              "color": "white",
              "width": 0.6
             }
            },
            "type": "histogram"
           }
          ],
          "histogram2d": [
           {
            "colorbar": {
             "outlinewidth": 1,
             "tickcolor": "rgb(36,36,36)",
             "ticks": "outside"
            },
            "colorscale": [
             [
              0,
              "#440154"
             ],
             [
              0.1111111111111111,
              "#482878"
             ],
             [
              0.2222222222222222,
              "#3e4989"
             ],
             [
              0.3333333333333333,
              "#31688e"
             ],
             [
              0.4444444444444444,
              "#26828e"
             ],
             [
              0.5555555555555556,
              "#1f9e89"
             ],
             [
              0.6666666666666666,
              "#35b779"
             ],
             [
              0.7777777777777778,
              "#6ece58"
             ],
             [
              0.8888888888888888,
              "#b5de2b"
             ],
             [
              1,
              "#fde725"
             ]
            ],
            "type": "histogram2d"
           }
          ],
          "histogram2dcontour": [
           {
            "colorbar": {
             "outlinewidth": 1,
             "tickcolor": "rgb(36,36,36)",
             "ticks": "outside"
            },
            "colorscale": [
             [
              0,
              "#440154"
             ],
             [
              0.1111111111111111,
              "#482878"
             ],
             [
              0.2222222222222222,
              "#3e4989"
             ],
             [
              0.3333333333333333,
              "#31688e"
             ],
             [
              0.4444444444444444,
              "#26828e"
             ],
             [
              0.5555555555555556,
              "#1f9e89"
             ],
             [
              0.6666666666666666,
              "#35b779"
             ],
             [
              0.7777777777777778,
              "#6ece58"
             ],
             [
              0.8888888888888888,
              "#b5de2b"
             ],
             [
              1,
              "#fde725"
             ]
            ],
            "type": "histogram2dcontour"
           }
          ],
          "mesh3d": [
           {
            "colorbar": {
             "outlinewidth": 1,
             "tickcolor": "rgb(36,36,36)",
             "ticks": "outside"
            },
            "type": "mesh3d"
           }
          ],
          "parcoords": [
           {
            "line": {
             "colorbar": {
              "outlinewidth": 1,
              "tickcolor": "rgb(36,36,36)",
              "ticks": "outside"
             }
            },
            "type": "parcoords"
           }
          ],
          "pie": [
           {
            "automargin": true,
            "type": "pie"
           }
          ],
          "scatter": [
           {
            "fillpattern": {
             "fillmode": "overlay",
             "size": 10,
             "solidity": 0.2
            },
            "type": "scatter"
           }
          ],
          "scatter3d": [
           {
            "line": {
             "colorbar": {
              "outlinewidth": 1,
              "tickcolor": "rgb(36,36,36)",
              "ticks": "outside"
             }
            },
            "marker": {
             "colorbar": {
              "outlinewidth": 1,
              "tickcolor": "rgb(36,36,36)",
              "ticks": "outside"
             }
            },
            "type": "scatter3d"
           }
          ],
          "scattercarpet": [
           {
            "marker": {
             "colorbar": {
              "outlinewidth": 1,
              "tickcolor": "rgb(36,36,36)",
              "ticks": "outside"
             }
            },
            "type": "scattercarpet"
           }
          ],
          "scattergeo": [
           {
            "marker": {
             "colorbar": {
              "outlinewidth": 1,
              "tickcolor": "rgb(36,36,36)",
              "ticks": "outside"
             }
            },
            "type": "scattergeo"
           }
          ],
          "scattergl": [
           {
            "marker": {
             "colorbar": {
              "outlinewidth": 1,
              "tickcolor": "rgb(36,36,36)",
              "ticks": "outside"
             }
            },
            "type": "scattergl"
           }
          ],
          "scattermapbox": [
           {
            "marker": {
             "colorbar": {
              "outlinewidth": 1,
              "tickcolor": "rgb(36,36,36)",
              "ticks": "outside"
             }
            },
            "type": "scattermapbox"
           }
          ],
          "scatterpolar": [
           {
            "marker": {
             "colorbar": {
              "outlinewidth": 1,
              "tickcolor": "rgb(36,36,36)",
              "ticks": "outside"
             }
            },
            "type": "scatterpolar"
           }
          ],
          "scatterpolargl": [
           {
            "marker": {
             "colorbar": {
              "outlinewidth": 1,
              "tickcolor": "rgb(36,36,36)",
              "ticks": "outside"
             }
            },
            "type": "scatterpolargl"
           }
          ],
          "scatterternary": [
           {
            "marker": {
             "colorbar": {
              "outlinewidth": 1,
              "tickcolor": "rgb(36,36,36)",
              "ticks": "outside"
             }
            },
            "type": "scatterternary"
           }
          ],
          "surface": [
           {
            "colorbar": {
             "outlinewidth": 1,
             "tickcolor": "rgb(36,36,36)",
             "ticks": "outside"
            },
            "colorscale": [
             [
              0,
              "#440154"
             ],
             [
              0.1111111111111111,
              "#482878"
             ],
             [
              0.2222222222222222,
              "#3e4989"
             ],
             [
              0.3333333333333333,
              "#31688e"
             ],
             [
              0.4444444444444444,
              "#26828e"
             ],
             [
              0.5555555555555556,
              "#1f9e89"
             ],
             [
              0.6666666666666666,
              "#35b779"
             ],
             [
              0.7777777777777778,
              "#6ece58"
             ],
             [
              0.8888888888888888,
              "#b5de2b"
             ],
             [
              1,
              "#fde725"
             ]
            ],
            "type": "surface"
           }
          ],
          "table": [
           {
            "cells": {
             "fill": {
              "color": "rgb(237,237,237)"
             },
             "line": {
              "color": "white"
             }
            },
            "header": {
             "fill": {
              "color": "rgb(217,217,217)"
             },
             "line": {
              "color": "white"
             }
            },
            "type": "table"
           }
          ]
         },
         "layout": {
          "annotationdefaults": {
           "arrowhead": 0,
           "arrowwidth": 1
          },
          "autotypenumbers": "strict",
          "coloraxis": {
           "colorbar": {
            "outlinewidth": 1,
            "tickcolor": "rgb(36,36,36)",
            "ticks": "outside"
           }
          },
          "colorscale": {
           "diverging": [
            [
             0,
             "rgb(103,0,31)"
            ],
            [
             0.1,
             "rgb(178,24,43)"
            ],
            [
             0.2,
             "rgb(214,96,77)"
            ],
            [
             0.3,
             "rgb(244,165,130)"
            ],
            [
             0.4,
             "rgb(253,219,199)"
            ],
            [
             0.5,
             "rgb(247,247,247)"
            ],
            [
             0.6,
             "rgb(209,229,240)"
            ],
            [
             0.7,
             "rgb(146,197,222)"
            ],
            [
             0.8,
             "rgb(67,147,195)"
            ],
            [
             0.9,
             "rgb(33,102,172)"
            ],
            [
             1,
             "rgb(5,48,97)"
            ]
           ],
           "sequential": [
            [
             0,
             "#440154"
            ],
            [
             0.1111111111111111,
             "#482878"
            ],
            [
             0.2222222222222222,
             "#3e4989"
            ],
            [
             0.3333333333333333,
             "#31688e"
            ],
            [
             0.4444444444444444,
             "#26828e"
            ],
            [
             0.5555555555555556,
             "#1f9e89"
            ],
            [
             0.6666666666666666,
             "#35b779"
            ],
            [
             0.7777777777777778,
             "#6ece58"
            ],
            [
             0.8888888888888888,
             "#b5de2b"
            ],
            [
             1,
             "#fde725"
            ]
           ],
           "sequentialminus": [
            [
             0,
             "#440154"
            ],
            [
             0.1111111111111111,
             "#482878"
            ],
            [
             0.2222222222222222,
             "#3e4989"
            ],
            [
             0.3333333333333333,
             "#31688e"
            ],
            [
             0.4444444444444444,
             "#26828e"
            ],
            [
             0.5555555555555556,
             "#1f9e89"
            ],
            [
             0.6666666666666666,
             "#35b779"
            ],
            [
             0.7777777777777778,
             "#6ece58"
            ],
            [
             0.8888888888888888,
             "#b5de2b"
            ],
            [
             1,
             "#fde725"
            ]
           ]
          },
          "colorway": [
           "#1F77B4",
           "#FF7F0E",
           "#2CA02C",
           "#D62728",
           "#9467BD",
           "#8C564B",
           "#E377C2",
           "#7F7F7F",
           "#BCBD22",
           "#17BECF"
          ],
          "font": {
           "color": "rgb(36,36,36)"
          },
          "geo": {
           "bgcolor": "white",
           "lakecolor": "white",
           "landcolor": "white",
           "showlakes": true,
           "showland": true,
           "subunitcolor": "white"
          },
          "hoverlabel": {
           "align": "left"
          },
          "hovermode": "closest",
          "mapbox": {
           "style": "light"
          },
          "paper_bgcolor": "white",
          "plot_bgcolor": "white",
          "polar": {
           "angularaxis": {
            "gridcolor": "rgb(232,232,232)",
            "linecolor": "rgb(36,36,36)",
            "showgrid": false,
            "showline": true,
            "ticks": "outside"
           },
           "bgcolor": "white",
           "radialaxis": {
            "gridcolor": "rgb(232,232,232)",
            "linecolor": "rgb(36,36,36)",
            "showgrid": false,
            "showline": true,
            "ticks": "outside"
           }
          },
          "scene": {
           "xaxis": {
            "backgroundcolor": "white",
            "gridcolor": "rgb(232,232,232)",
            "gridwidth": 2,
            "linecolor": "rgb(36,36,36)",
            "showbackground": true,
            "showgrid": false,
            "showline": true,
            "ticks": "outside",
            "zeroline": false,
            "zerolinecolor": "rgb(36,36,36)"
           },
           "yaxis": {
            "backgroundcolor": "white",
            "gridcolor": "rgb(232,232,232)",
            "gridwidth": 2,
            "linecolor": "rgb(36,36,36)",
            "showbackground": true,
            "showgrid": false,
            "showline": true,
            "ticks": "outside",
            "zeroline": false,
            "zerolinecolor": "rgb(36,36,36)"
           },
           "zaxis": {
            "backgroundcolor": "white",
            "gridcolor": "rgb(232,232,232)",
            "gridwidth": 2,
            "linecolor": "rgb(36,36,36)",
            "showbackground": true,
            "showgrid": false,
            "showline": true,
            "ticks": "outside",
            "zeroline": false,
            "zerolinecolor": "rgb(36,36,36)"
           }
          },
          "shapedefaults": {
           "fillcolor": "black",
           "line": {
            "width": 0
           },
           "opacity": 0.3
          },
          "ternary": {
           "aaxis": {
            "gridcolor": "rgb(232,232,232)",
            "linecolor": "rgb(36,36,36)",
            "showgrid": false,
            "showline": true,
            "ticks": "outside"
           },
           "baxis": {
            "gridcolor": "rgb(232,232,232)",
            "linecolor": "rgb(36,36,36)",
            "showgrid": false,
            "showline": true,
            "ticks": "outside"
           },
           "bgcolor": "white",
           "caxis": {
            "gridcolor": "rgb(232,232,232)",
            "linecolor": "rgb(36,36,36)",
            "showgrid": false,
            "showline": true,
            "ticks": "outside"
           }
          },
          "title": {
           "x": 0.05
          },
          "xaxis": {
           "automargin": true,
           "gridcolor": "rgb(232,232,232)",
           "linecolor": "rgb(36,36,36)",
           "showgrid": false,
           "showline": true,
           "ticks": "outside",
           "title": {
            "standoff": 15
           },
           "zeroline": false,
           "zerolinecolor": "rgb(36,36,36)"
          },
          "yaxis": {
           "automargin": true,
           "gridcolor": "rgb(232,232,232)",
           "linecolor": "rgb(36,36,36)",
           "showgrid": false,
           "showline": true,
           "ticks": "outside",
           "title": {
            "standoff": 15
           },
           "zeroline": false,
           "zerolinecolor": "rgb(36,36,36)"
          }
         }
        },
        "title": {
         "font": {
          "color": "Black",
          "size": 22
         },
         "text": "<b>Intertopic Distance Map</b>",
         "x": 0.5,
         "xanchor": "center",
         "y": 0.95,
         "yanchor": "top"
        },
        "width": 650,
        "xaxis": {
         "anchor": "y",
         "domain": [
          0,
          1
         ],
         "range": [
          11.963402891159058,
          18.22526421546936
         ],
         "title": {
          "text": ""
         },
         "visible": false
        },
        "yaxis": {
         "anchor": "x",
         "domain": [
          0,
          1
         ],
         "range": [
          16.572722148895263,
          23.28009490966797
         ],
         "title": {
          "text": ""
         },
         "visible": false
        }
       }
      }
     },
     "metadata": {},
     "output_type": "display_data"
    }
   ],
   "source": [
    "topic_model.visualize_topics()"
   ]
  },
  {
   "cell_type": "code",
   "execution_count": null,
   "metadata": {},
   "outputs": [
    {
     "data": {
      "application/vnd.plotly.v1+json": {
       "config": {
        "plotlyServerURL": "https://plot.ly"
       },
       "data": [
        {
         "hoverinfo": "text",
         "marker": {
          "color": "#CFD8DC",
          "opacity": 0.5,
          "size": 5
         },
         "mode": "markers+text",
         "name": "other",
         "showlegend": false,
         "type": "scattergl",
         "x": [
          3.2924747467041016,
          9.179145812988281,
          6.91659688949585,
          3.2985246181488037,
          8.278950691223145,
          6.241509914398193,
          6.567130088806152,
          7.017070770263672,
          3.018968105316162,
          3.487696886062622,
          2.7303030490875244,
          7.970350742340088,
          6.581260681152344,
          3.5829854011535645,
          8.139970779418945,
          8.88240909576416,
          8.590021133422852,
          4.012487411499023,
          3.161731719970703,
          3.0072014331817627,
          3.1758103370666504,
          5.430042266845703,
          6.084103107452393,
          5.98220682144165,
          5.089125633239746,
          5.125863075256348,
          5.191163063049316,
          5.067870616912842,
          7.279625415802002,
          3.495171070098877,
          6.66718053817749,
          6.496708869934082,
          7.753824234008789,
          4.245339870452881,
          4.214811325073242,
          6.761960029602051,
          4.628962516784668,
          6.360348701477051,
          3.731802463531494,
          3.82309627532959,
          6.11100959777832,
          3.7115395069122314,
          7.460698127746582,
          4.2037739753723145,
          6.354007244110107,
          8.805048942565918,
          7.598893165588379,
          8.343488693237305,
          4.330355167388916,
          6.580210208892822,
          4.590954303741455,
          8.716306686401367,
          5.026944160461426,
          4.030074596405029,
          4.78112268447876,
          4.950071334838867,
          5.062759876251221,
          8.560376167297363,
          6.612924575805664,
          8.526185989379883,
          3.9835288524627686,
          4.667868137359619,
          8.251640319824219,
          3.128347396850586,
          5.691696643829346,
          6.56742000579834,
          7.798583030700684,
          8.475458145141602,
          3.7937254905700684,
          8.324146270751953,
          3.022716760635376,
          5.072292804718018,
          6.75170373916626,
          7.442361831665039,
          5.6797027587890625,
          4.184237957000732,
          1.9128055572509766,
          3.4296021461486816,
          3.492424726486206,
          6.719290733337402,
          4.5581889152526855,
          2.9471521377563477,
          6.008521556854248,
          8.136690139770508,
          7.363916397094727,
          4.652021884918213,
          8.717982292175293,
          8.800429344177246,
          5.617295265197754,
          8.810555458068848,
          3.6578869819641113,
          6.974191665649414,
          7.311581134796143,
          4.90485143661499,
          5.258326053619385,
          6.453996658325195,
          4.131080150604248,
          8.355437278747559,
          9.196785926818848,
          3.4954581260681152,
          6.743306636810303,
          5.859424591064453,
          7.078803062438965,
          4.495278358459473,
          6.327046871185303,
          3.8073296546936035,
          3.4004271030426025,
          8.83729076385498,
          6.3380632400512695,
          6.902489185333252,
          4.719895839691162,
          3.1628682613372803,
          6.878481388092041,
          6.794498920440674,
          8.57869815826416,
          4.12471342086792,
          9.189797401428223,
          6.5611186027526855,
          4.0511274337768555,
          4.236077308654785,
          2.475857734680176,
          6.764199256896973,
          5.9208502769470215,
          6.993032932281494,
          5.250658988952637,
          5.57266092300415,
          8.423315048217773,
          3.3097665309906006,
          5.11804723739624,
          7.00596809387207,
          5.03516149520874,
          4.48398494720459,
          5.386477470397949,
          2.8284294605255127,
          8.108353614807129,
          8.099581718444824,
          5.034961223602295,
          3.272061586380005,
          6.367187976837158,
          6.204281330108643,
          3.4412853717803955,
          6.081859588623047,
          8.691214561462402,
          5.309249401092529,
          6.311800479888916,
          7.290458679199219,
          6.130404472351074,
          5.0357346534729,
          8.42724323272705,
          4.069484710693359,
          3.3740243911743164,
          3.377920627593994,
          3.333054780960083,
          8.321842193603516,
          4.128627777099609,
          6.567530632019043,
          6.8068718910217285,
          6.745516300201416,
          7.345371723175049,
          3.949920177459717,
          4.789541244506836,
          4.253077030181885,
          8.604175567626953,
          3.0014593601226807,
          5.135223388671875,
          7.631246566772461,
          4.068237781524658,
          8.616353034973145,
          5.022058963775635,
          4.180081844329834,
          7.243316650390625,
          6.941860198974609,
          6.978917598724365,
          6.32050895690918,
          4.643596172332764,
          5.542098522186279,
          6.362737655639648,
          7.78912878036499,
          8.352286338806152,
          2.8420331478118896,
          8.087264060974121,
          7.930234909057617,
          3.424619674682617,
          3.04247784614563,
          3.0616142749786377,
          4.9983015060424805,
          8.479451179504395,
          6.329206466674805,
          7.166316509246826,
          8.416565895080566,
          6.1740403175354,
          7.366878986358643,
          6.076813220977783,
          3.606783866882324,
          5.605443477630615,
          6.5537872314453125,
          8.038850784301758,
          2.8129467964172363,
          3.998331308364868,
          5.673352241516113,
          7.007078647613525,
          3.7106220722198486,
          6.600983142852783,
          4.986651420593262,
          4.004737854003906,
          5.752233028411865,
          6.132620811462402,
          3.334203004837036,
          3.6062216758728027,
          8.175106048583984,
          3.3491556644439697,
          3.9631264209747314,
          7.975583553314209,
          8.157414436340332,
          3.341870069503784,
          3.758373737335205,
          6.972981929779053,
          3.7801456451416016,
          8.450702667236328,
          6.892968654632568,
          9.150345802307129,
          5.190350532531738,
          4.762782096862793,
          1.99628484249115,
          7.00397253036499,
          8.384188652038574,
          4.758374214172363,
          8.323235511779785,
          6.062385559082031,
          4.9796881675720215,
          6.29083776473999,
          3.586228847503662,
          6.52565860748291,
          3.515977621078491,
          7.434767246246338,
          8.223445892333984,
          9.1900634765625,
          4.328495979309082,
          7.571746826171875,
          6.953775882720947,
          6.6506500244140625,
          3.8446855545043945,
          7.66696834564209,
          3.1903584003448486,
          5.583462238311768,
          7.19907283782959,
          8.069772720336914,
          6.340509414672852,
          3.8746142387390137,
          4.638267993927002,
          4.0569305419921875,
          4.769016742706299,
          4.739473819732666,
          3.500580310821533,
          8.718243598937988,
          6.450701713562012,
          6.487087249755859,
          6.073816776275635,
          4.642573833465576,
          4.233145713806152,
          6.599880695343018,
          6.410516738891602,
          8.56365966796875,
          2.9855639934539795,
          6.813817501068115,
          3.48856520652771,
          7.429630756378174,
          6.828837871551514,
          5.898367404937744,
          6.701029300689697,
          3.382735013961792,
          7.547358512878418,
          8.042625427246094,
          6.199767589569092,
          8.350738525390625,
          8.664872169494629,
          5.530111312866211,
          4.92773962020874,
          6.520765781402588,
          8.29985523223877,
          5.0458083152771,
          5.4455885887146,
          7.92816162109375,
          2.503929853439331,
          4.552623748779297,
          5.8800435066223145,
          6.614940643310547,
          3.644779682159424,
          9.189148902893066,
          5.42308235168457,
          6.567160129547119,
          3.904604911804199,
          5.136074066162109,
          9.199493408203125,
          4.203187942504883,
          6.827765464782715,
          5.972507953643799,
          5.264206409454346,
          2.6718573570251465,
          8.347445487976074,
          6.981006145477295,
          5.770857810974121,
          6.009282112121582,
          8.29769229888916,
          9.15863037109375,
          3.3343236446380615,
          2.7161760330200195,
          6.265935897827148,
          6.564032077789307,
          8.221349716186523,
          3.4877588748931885,
          6.081169605255127,
          8.654655456542969,
          6.1254191398620605,
          2.5850563049316406,
          3.1880526542663574,
          6.578436374664307,
          6.570182800292969,
          9.184876441955566,
          3.0688793659210205,
          8.492549896240234,
          2.958542823791504,
          5.910886287689209,
          6.479579448699951,
          7.158493518829346,
          6.975026607513428,
          7.445470333099365,
          2.9191348552703857,
          5.487252712249756,
          4.887913703918457,
          6.9620208740234375,
          3.0020856857299805,
          5.831739902496338,
          9.178043365478516,
          5.136192798614502,
          5.8340163230896
         ],
         "y": [
          5.1035380363464355,
          5.474602699279785,
          3.6619436740875244,
          4.619041442871094,
          5.2596755027771,
          4.785138130187988,
          0.5196013450622559,
          2.4241409301757812,
          5.458637714385986,
          1.816977620124817,
          5.155306339263916,
          6.054422378540039,
          4.417632102966309,
          5.361875057220459,
          5.539388656616211,
          6.111904144287109,
          4.891960620880127,
          4.230108261108398,
          4.739404201507568,
          4.405666351318359,
          4.713662147521973,
          4.059724807739258,
          1.3519766330718994,
          5.541006088256836,
          3.413132429122925,
          3.438769817352295,
          3.6181869506835938,
          2.1674094200134277,
          4.225507736206055,
          1.8150197267532349,
          3.344350576400757,
          1.8933970928192139,
          4.40026330947876,
          4.41455602645874,
          5.901322841644287,
          2.4003243446350098,
          2.9988651275634766,
          2.874983072280884,
          5.702098369598389,
          5.23223352432251,
          4.886512756347656,
          6.390866756439209,
          3.637237548828125,
          4.251928806304932,
          2.481987953186035,
          5.7675862312316895,
          2.552680253982544,
          2.335216999053955,
          5.54529333114624,
          5.125421047210693,
          1.9653352499008179,
          4.528941631317139,
          3.6622982025146484,
          4.816856861114502,
          2.074291706085205,
          2.7337088584899902,
          3.912867784500122,
          4.72411584854126,
          4.526187419891357,
          5.010194778442383,
          6.348784446716309,
          4.60891056060791,
          3.0019266605377197,
          5.213776111602783,
          3.801199197769165,
          0.5190960168838501,
          4.614250183105469,
          3.9301843643188477,
          4.553242206573486,
          2.4787650108337402,
          4.710967063903809,
          3.868011713027954,
          4.854961395263672,
          4.293213367462158,
          4.34619665145874,
          5.7858195304870605,
          3.6098408699035645,
          4.795587539672852,
          5.471186637878418,
          5.483093738555908,
          4.035241603851318,
          4.477710247039795,
          4.115356922149658,
          5.294099807739258,
          5.574146270751953,
          5.0310959815979,
          5.8160905838012695,
          5.790450572967529,
          3.8817529678344727,
          5.833302021026611,
          4.609872817993164,
          5.620767593383789,
          5.194202423095703,
          2.1468608379364014,
          4.044620990753174,
          3.4266536235809326,
          5.198577880859375,
          3.8751611709594727,
          5.521993637084961,
          1.810013771057129,
          5.41575288772583,
          4.384488105773926,
          4.321321964263916,
          4.062704086303711,
          4.722763538360596,
          3.7956857681274414,
          4.289366722106934,
          3.334667205810547,
          4.730845928192139,
          2.8809900283813477,
          4.819547176361084,
          3.5112762451171875,
          3.788475275039673,
          3.9610748291015625,
          3.0351717472076416,
          4.028101444244385,
          5.254675388336182,
          4.997941017150879,
          4.84517765045166,
          4.933116436004639,
          5.800476551055908,
          3.363997459411621,
          2.4141745567321777,
          5.625601768493652,
          4.0412678718566895,
          3.971709728240967,
          3.959638833999634,
          5.575637340545654,
          3.352570056915283,
          1.9244815111160278,
          4.056371688842773,
          4.851803302764893,
          4.050786018371582,
          4.472616195678711,
          4.644158363342285,
          5.980858325958252,
          5.118916034698486,
          3.463404417037964,
          3.4787988662719727,
          2.32952618598938,
          5.485483169555664,
          3.6502280235290527,
          5.995516300201416,
          3.403958797454834,
          3.713902235031128,
          3.0245935916900635,
          3.5900917053222656,
          3.832907199859619,
          2.291273593902588,
          3.1544735431671143,
          5.112035751342773,
          5.916322231292725,
          3.424452543258667,
          4.531227111816406,
          4.347472190856934,
          0.5195271968841553,
          2.892420530319214,
          2.7531285285949707,
          4.0948100090026855,
          5.175395965576172,
          5.230954170227051,
          4.972665309906006,
          6.474931240081787,
          5.356525897979736,
          3.596107006072998,
          5.738221168518066,
          4.375507354736328,
          6.198180198669434,
          3.0175530910491943,
          4.3816914558410645,
          4.411923408508301,
          1.835517168045044,
          5.629378318786621,
          3.263477325439453,
          4.120161533355713,
          3.6428966522216797,
          3.1718804836273193,
          4.778331756591797,
          2.3312528133392334,
          4.231009006500244,
          4.365530014038086,
          4.116789817810059,
          3.4186978340148926,
          5.645389080047607,
          5.635171890258789,
          3.7237038612365723,
          3.0955896377563477,
          2.8393747806549072,
          4.298059463500977,
          6.26203727722168,
          3.1265995502471924,
          2.964026689529419,
          1.351359486579895,
          6.345232009887695,
          3.8322207927703857,
          0.5271568894386292,
          6.152493000030518,
          5.33949089050293,
          4.40846586227417,
          2.8578195571899414,
          3.257373809814453,
          5.721782684326172,
          2.2207820415496826,
          3.0950100421905518,
          4.91686487197876,
          2.04191517829895,
          4.27476692199707,
          5.6557087898254395,
          3.5935611724853516,
          3.538630962371826,
          3.429821491241455,
          3.923351287841797,
          6.094750881195068,
          4.448359966278076,
          5.6871795654296875,
          6.38501501083374,
          5.621815204620361,
          4.41497278213501,
          3.0221972465515137,
          2.007026195526123,
          5.123480796813965,
          3.576840400695801,
          2.5940029621124268,
          3.493319511413574,
          1.9524160623550415,
          5.772788047790527,
          4.846065521240234,
          3.5300090312957764,
          1.3521486520767212,
          4.045950412750244,
          1.907827615737915,
          4.503747940063477,
          5.178165435791016,
          4.457287311553955,
          5.202591896057129,
          3.850736379623413,
          5.37177848815918,
          4.644702434539795,
          2.501965284347534,
          5.601829528808594,
          3.3727731704711914,
          3.881495237350464,
          4.28252649307251,
          5.355672836303711,
          4.149349689483643,
          5.514951705932617,
          6.200456142425537,
          3.3570806980133057,
          3.9072468280792236,
          4.721231937408447,
          4.371094226837158,
          4.8548688888549805,
          3.9915218353271484,
          1.8135398626327515,
          5.458863258361816,
          1.8398350477218628,
          3.4344935417175293,
          4.175103664398193,
          4.501337051391602,
          4.584157943725586,
          3.3212029933929443,
          5.028323173522949,
          4.088248252868652,
          4.539489269256592,
          5.061679840087891,
          1.8141645193099976,
          5.601910591125488,
          3.558152675628662,
          2.463273525238037,
          2.7184813022613525,
          5.604377746582031,
          5.805678367614746,
          3.424900531768799,
          3.7569193840026855,
          2.3372304439544678,
          6.062272071838379,
          3.059131622314453,
          4.915429592132568,
          3.434617280960083,
          4.281530857086182,
          3.4973440170288086,
          3.360239028930664,
          6.055100917816162,
          3.955221652984619,
          5.184399127960205,
          3.732654571533203,
          0.5960513353347778,
          3.9905853271484375,
          5.516679763793945,
          3.9986019134521484,
          0.5196627378463745,
          5.532654285430908,
          3.8324649333953857,
          6.061588287353516,
          5.375430107116699,
          3.6682450771331787,
          3.8383169174194336,
          4.003360271453857,
          5.127559185028076,
          2.333378791809082,
          5.626912593841553,
          3.378065824508667,
          5.540276527404785,
          2.3367254734039307,
          5.342270851135254,
          5.556725025177002,
          5.017242908477783,
          3.8966543674468994,
          0.5281921029090881,
          4.022459983825684,
          1.8212597370147705,
          1.349632740020752,
          2.3299968242645264,
          3.178309202194214,
          4.458041191101074,
          4.850241661071777,
          5.133981704711914,
          0.5178888440132141,
          5.3692498207092285,
          5.6053996086120605,
          3.016490936279297,
          4.798803329467773,
          2.7787015438079834,
          3.1828582286834717,
          3.1034669876098633,
          2.4168741703033447,
          2.098884105682373,
          4.566327095031738,
          3.157865285873413,
          5.716785430908203,
          3.7312116622924805,
          5.686567783355713,
          2.5322563648223877,
          5.479708194732666,
          2.2665398120880127,
          4.094604015350342
         ]
        },
        {
         "hoverinfo": "text",
         "marker": {
          "opacity": 0.5,
          "size": 5
         },
         "mode": "markers+text",
         "name": "0_河南_旅行_历史",
         "text": [
          "",
          "",
          "",
          "",
          "",
          "",
          "",
          "",
          "",
          "",
          "",
          "",
          "",
          "",
          "",
          "",
          "",
          "",
          "",
          "",
          "",
          "",
          "",
          "",
          "",
          "",
          "",
          "",
          "",
          "",
          "",
          "",
          "",
          "",
          "",
          "",
          "",
          "",
          "",
          "",
          "",
          "",
          "",
          "",
          "",
          "",
          "",
          "",
          "",
          "",
          "",
          "",
          "",
          "",
          "",
          "",
          "",
          "",
          "",
          "",
          "",
          "",
          "",
          "",
          "",
          "",
          "",
          "",
          "",
          "",
          "",
          "",
          "",
          "",
          "",
          "",
          "",
          "",
          "",
          "",
          "",
          "",
          "",
          "",
          "",
          "",
          "",
          "",
          "",
          "",
          "",
          "",
          "",
          "",
          "",
          "",
          "",
          "",
          "",
          "",
          "",
          "",
          "",
          "",
          "",
          "",
          "",
          "",
          "",
          "",
          "",
          "",
          "",
          "",
          "",
          "",
          "",
          "",
          "",
          "",
          "",
          "",
          "",
          "",
          "",
          "",
          "",
          "",
          "",
          "",
          "",
          "",
          "",
          "",
          "",
          "",
          "",
          "",
          "",
          "",
          "",
          "",
          "",
          "",
          "",
          "",
          "",
          "",
          "",
          "",
          "",
          "",
          "",
          "",
          "",
          "",
          "",
          "",
          "",
          "",
          "",
          "",
          "",
          "",
          "",
          "",
          "",
          "",
          "",
          "",
          "",
          "",
          "",
          "",
          "",
          "",
          "",
          "",
          "",
          "",
          "",
          "",
          "",
          "",
          "",
          "",
          "",
          "",
          "",
          "",
          "",
          "",
          "",
          "",
          "",
          "",
          "",
          "",
          "",
          "",
          "",
          "",
          "",
          "",
          "",
          "",
          "",
          "",
          "",
          "",
          "",
          "",
          "",
          "",
          "",
          "",
          "",
          "",
          "",
          "",
          "",
          "",
          "",
          "",
          "",
          "",
          "",
          "",
          "",
          "",
          "",
          "",
          "",
          "",
          "",
          "",
          "",
          "",
          "",
          "",
          "",
          "",
          "",
          "",
          "0_河南_旅行_历史"
         ],
         "textfont": {
          "size": 12
         },
         "type": "scattergl",
         "x": [
          7.1454668045043945,
          7.4644856452941895,
          6.95112419128418,
          8.548924446105957,
          9.310749053955078,
          5.739124298095703,
          5.956207275390625,
          7.0223517417907715,
          8.540125846862793,
          7.889667510986328,
          7.249732971191406,
          7.6472039222717285,
          8.581912994384766,
          7.192943572998047,
          9.26224422454834,
          8.676887512207031,
          8.38764476776123,
          8.747367858886719,
          8.561994552612305,
          9.242607116699219,
          9.392385482788086,
          7.533300876617432,
          8.257726669311523,
          7.515161514282227,
          8.74586009979248,
          8.6199951171875,
          7.111332893371582,
          8.889991760253906,
          7.189898490905762,
          7.610401153564453,
          7.899641990661621,
          8.605180740356445,
          7.858870983123779,
          8.39879035949707,
          7.755145072937012,
          7.693973541259766,
          7.3709397315979,
          7.897311687469482,
          8.668863296508789,
          7.150548934936523,
          8.606745719909668,
          8.125143051147461,
          8.385648727416992,
          6.8299384117126465,
          7.229531764984131,
          6.996038913726807,
          7.772756099700928,
          7.310412406921387,
          9.25471019744873,
          7.694493770599365,
          7.813126564025879,
          7.3702239990234375,
          8.870631217956543,
          7.764692783355713,
          7.931488990783691,
          7.257315635681152,
          9.121739387512207,
          7.369956016540527,
          5.586142063140869,
          9.338521957397461,
          8.30354118347168,
          8.416749000549316,
          9.323088645935059,
          9.25108528137207,
          7.52577543258667,
          7.334970951080322,
          7.815807819366455,
          8.145916938781738,
          8.502859115600586,
          8.083613395690918,
          7.34702730178833,
          5.585783004760742,
          5.940604209899902,
          8.106473922729492,
          5.634024620056152,
          9.540283203125,
          7.386772632598877,
          8.684598922729492,
          8.758931159973145,
          8.975411415100098,
          8.20388412475586,
          7.932044982910156,
          7.280591011047363,
          7.4253973960876465,
          7.889542579650879,
          7.349508762359619,
          8.575736045837402,
          5.8779473304748535,
          7.354297637939453,
          6.964669704437256,
          9.225993156433105,
          7.793743133544922,
          6.828974723815918,
          7.212793827056885,
          9.416415214538574,
          6.720884323120117,
          8.202801704406738,
          9.15778636932373,
          7.896660327911377,
          7.9840407371521,
          8.206879615783691,
          7.770355224609375,
          9.336958885192871,
          7.1786651611328125,
          8.944770812988281,
          8.1174898147583,
          7.971222400665283,
          7.583284378051758,
          7.929981708526611,
          7.581347942352295,
          7.896527290344238,
          7.214659214019775,
          9.689557075500488,
          7.076867580413818,
          7.560697078704834,
          7.3306450843811035,
          7.179172515869141,
          7.392035961151123,
          9.338276863098145,
          7.282734394073486,
          5.7147111892700195,
          8.386232376098633,
          9.397526741027832,
          9.354361534118652,
          7.1076579093933105,
          8.729743957519531,
          6.221258640289307,
          8.075681686401367,
          9.328020095825195,
          8.3851900100708,
          8.67696475982666,
          7.2637224197387695,
          9.33145523071289,
          7.81758451461792,
          5.652435302734375,
          7.120591163635254,
          6.6483306884765625,
          6.886688709259033,
          5.851079940795898,
          7.863829612731934,
          7.17458438873291,
          8.673666954040527,
          7.671322345733643,
          7.8212480545043945,
          9.401056289672852,
          9.215863227844238,
          8.888701438903809,
          7.702451705932617,
          7.003851413726807,
          7.969326972961426,
          8.012201309204102,
          7.21875524520874,
          8.691902160644531,
          9.270883560180664,
          6.952669620513916,
          8.417813301086426,
          6.426611423492432,
          8.766085624694824,
          7.095824718475342,
          7.87202262878418,
          6.687335968017578,
          7.692240238189697,
          7.347515106201172,
          8.541200637817383,
          9.679178237915039,
          6.350091934204102,
          8.459067344665527,
          8.583852767944336,
          9.660964965820312,
          8.681922912597656,
          8.774542808532715,
          7.17901086807251,
          5.7399821281433105,
          9.258259773254395,
          8.786120414733887,
          8.152770042419434,
          9.660354614257812,
          6.64716911315918,
          9.454192161560059,
          8.822806358337402,
          8.559725761413574,
          7.813209056854248,
          7.917652130126953,
          7.853012561798096,
          7.309823989868164,
          8.171818733215332,
          7.891482353210449,
          7.395321846008301,
          8.309072494506836,
          7.645663738250732,
          8.007635116577148,
          6.9793219566345215,
          9.497111320495605,
          8.95749568939209,
          7.372308254241943,
          9.357654571533203,
          8.10207462310791,
          5.707622051239014,
          7.621335983276367,
          7.7073845863342285,
          7.824833393096924,
          8.9161958694458,
          7.895843982696533,
          7.701203346252441,
          7.646644115447998,
          8.511505126953125,
          7.901525020599365,
          8.743441581726074,
          7.917194843292236,
          6.101133346557617,
          6.729223728179932,
          6.654897212982178,
          9.390861511230469,
          7.296717166900635,
          7.993747234344482,
          8.283485412597656,
          7.9237165451049805,
          8.223043441772461,
          9.060359001159668,
          8.497605323791504,
          7.157934188842773,
          6.006028175354004,
          8.602157592773438,
          7.715760231018066,
          8.240776062011719,
          8.684614181518555,
          9.359500885009766,
          9.330714225769043,
          9.308084487915039,
          9.287799835205078,
          9.634632110595703,
          6.8493499755859375,
          7.237165451049805,
          7.173882484436035,
          7.4364776611328125,
          7.917638778686523,
          8.672161102294922,
          8.656027793884277,
          8.474611282348633,
          8.615984916687012,
          8.678840637207031,
          8.279159545898438,
          7.976573944091797,
          7.78849983215332,
          7.951415061950684
         ],
         "y": [
          4.432772159576416,
          2.94655179977417,
          4.782474994659424,
          3.592132329940796,
          2.176496982574463,
          3.4334001541137695,
          3.191391706466675,
          2.034614086151123,
          3.690051794052124,
          5.098244667053223,
          3.951892375946045,
          3.117967128753662,
          3.615007162094116,
          4.916079998016357,
          2.169403314590454,
          5.179997444152832,
          5.167762279510498,
          4.880208969116211,
          4.701920509338379,
          2.629364490509033,
          2.276376247406006,
          4.382689952850342,
          4.5357441902160645,
          4.2321457862854,
          4.667266845703125,
          3.524521589279175,
          4.426328659057617,
          3.8635904788970947,
          4.255389213562012,
          3.0656795501708984,
          5.085855007171631,
          3.598690986633301,
          3.18269681930542,
          3.1787569522857666,
          3.015753984451294,
          4.615688800811768,
          3.5583369731903076,
          5.057920455932617,
          4.220097541809082,
          2.4287962913513184,
          4.144684791564941,
          4.748716831207275,
          5.159731388092041,
          2.211320161819458,
          1.741018295288086,
          3.9585623741149902,
          2.9965293407440186,
          4.030751705169678,
          2.5231523513793945,
          3.468888759613037,
          4.616626739501953,
          2.294170379638672,
          2.3737025260925293,
          4.9506025314331055,
          3.1440021991729736,
          2.4622013568878174,
          2.2231132984161377,
          2.3104000091552734,
          3.7085065841674805,
          2.2485337257385254,
          3.2654764652252197,
          4.634313583374023,
          2.249438762664795,
          2.1860692501068115,
          3.389404296875,
          4.799596786499023,
          2.8895797729492188,
          3.976440668106079,
          4.648303031921387,
          4.761068820953369,
          3.5595643520355225,
          3.3218278884887695,
          3.289325714111328,
          4.8335652351379395,
          3.4683289527893066,
          2.4276463985443115,
          3.777379035949707,
          3.6913769245147705,
          4.906950950622559,
          2.321784019470215,
          4.524209976196289,
          4.99282693862915,
          3.751504898071289,
          4.033473014831543,
          3.975759744644165,
          4.782203197479248,
          3.610136032104492,
          3.2487633228302,
          2.311936855316162,
          4.5784783363342285,
          2.5639288425445557,
          3.2498562335968018,
          5.233866214752197,
          1.8240528106689453,
          2.196897506713867,
          2.0889763832092285,
          2.8847239017486572,
          2.66186785697937,
          5.09255838394165,
          2.8194823265075684,
          3.3636693954467773,
          4.017384052276611,
          2.2105932235717773,
          1.7716776132583618,
          2.3146255016326904,
          3.0074570178985596,
          2.9276719093322754,
          3.003868818283081,
          2.873767852783203,
          3.3783369064331055,
          3.484179973602295,
          1.7554659843444824,
          2.5863704681396484,
          4.513307571411133,
          2.752072334289551,
          4.762021541595459,
          4.379980564117432,
          2.3114066123962402,
          2.1730637550354004,
          4.240178108215332,
          3.5048415660858154,
          3.4940102100372314,
          2.204226016998291,
          2.185452699661255,
          4.473359107971191,
          4.476688861846924,
          2.113285541534424,
          4.807594299316406,
          2.1558241844177246,
          4.096027374267578,
          4.2129669189453125,
          4.320291519165039,
          2.156447649002075,
          3.9737324714660645,
          3.780914068222046,
          4.570469856262207,
          2.1906464099884033,
          2.2850277423858643,
          3.3821539878845215,
          3.895092248916626,
          1.780415415763855,
          4.4914045333862305,
          3.539001226425171,
          3.5308072566986084,
          2.2352259159088135,
          2.292271375656128,
          4.396795749664307,
          3.6926639080047607,
          2.0974464416503906,
          3.2489163875579834,
          3.6722412109375,
          5.1524224281311035,
          4.239163398742676,
          2.013638496398926,
          2.121354103088379,
          3.661975383758545,
          1.8573912382125854,
          4.709468364715576,
          2.6169681549072266,
          5.083193778991699,
          2.0337092876434326,
          3.0109012126922607,
          3.559234619140625,
          3.56915020942688,
          2.6194090843200684,
          1.8640646934509277,
          4.029160499572754,
          5.056381702423096,
          2.604970932006836,
          4.876286029815674,
          4.842233657836914,
          4.0832061767578125,
          3.6092758178710938,
          2.6614625453948975,
          3.5575780868530273,
          4.709335803985596,
          2.605707883834839,
          2.0974929332733154,
          2.231577157974243,
          4.755204200744629,
          4.322817325592041,
          3.3788700103759766,
          4.190800189971924,
          3.4461076259613037,
          2.326237678527832,
          3.1719484329223633,
          2.9943671226501465,
          4.3593244552612305,
          5.147797107696533,
          3.064427375793457,
          5.065841197967529,
          2.071988105773926,
          2.345773935317993,
          2.62166690826416,
          2.31086802482605,
          2.180513381958008,
          3.0042340755462646,
          3.3901944160461426,
          3.0122759342193604,
          3.435044527053833,
          3.09024715423584,
          2.330381393432617,
          5.0470290184021,
          3.0565409660339355,
          4.791121482849121,
          3.6953060626983643,
          5.087102890014648,
          5.002048492431641,
          4.622950553894043,
          3.3765153884887695,
          4.936581611633301,
          2.0145773887634277,
          2.199241876602173,
          4.864141941070557,
          3.467588186264038,
          5.134232997894287,
          4.049946308135986,
          4.5140862464904785,
          2.594430923461914,
          4.246564865112305,
          4.5380778312683105,
          3.2257277965545654,
          5.0013580322265625,
          4.092713832855225,
          4.64968204498291,
          4.98348331451416,
          2.1547470092773438,
          2.1414682865142822,
          2.208083391189575,
          2.053138494491577,
          2.5494778156280518,
          2.042768716812134,
          3.802767515182495,
          2.525831937789917,
          3.761267900466919,
          2.974045753479004,
          4.474940776824951,
          5.080144882202148,
          3.467550754547119,
          5.019189357757568,
          5.08464241027832,
          5.020874500274658,
          2.9175195693969727,
          3.2759835720062256,
          3.512052059173584
         ]
        },
        {
         "hoverinfo": "text",
         "marker": {
          "opacity": 0.5,
          "size": 5
         },
         "mode": "markers+text",
         "name": "1_景区_游客_郑州",
         "text": [
          "",
          "",
          "",
          "",
          "",
          "",
          "",
          "",
          "",
          "",
          "",
          "",
          "",
          "",
          "",
          "",
          "",
          "",
          "",
          "",
          "",
          "",
          "",
          "",
          "",
          "",
          "",
          "",
          "",
          "",
          "",
          "",
          "",
          "",
          "",
          "",
          "",
          "",
          "",
          "",
          "",
          "",
          "",
          "",
          "",
          "",
          "",
          "",
          "",
          "",
          "",
          "",
          "",
          "",
          "",
          "",
          "",
          "",
          "",
          "",
          "",
          "",
          "",
          "",
          "",
          "",
          "",
          "",
          "",
          "",
          "",
          "",
          "",
          "",
          "",
          "",
          "",
          "",
          "",
          "",
          "",
          "",
          "",
          "",
          "",
          "",
          "",
          "",
          "",
          "",
          "",
          "",
          "",
          "",
          "",
          "",
          "",
          "",
          "",
          "",
          "",
          "",
          "",
          "",
          "",
          "",
          "",
          "",
          "",
          "",
          "",
          "",
          "",
          "",
          "",
          "",
          "",
          "",
          "",
          "",
          "",
          "",
          "",
          "",
          "",
          "",
          "",
          "",
          "",
          "",
          "",
          "",
          "",
          "",
          "",
          "",
          "",
          "",
          "",
          "",
          "",
          "",
          "",
          "",
          "",
          "",
          "",
          "",
          "",
          "",
          "",
          "",
          "",
          "",
          "",
          "",
          "",
          "",
          "",
          "",
          "",
          "",
          "",
          "",
          "",
          "",
          "",
          "",
          "",
          "",
          "",
          "",
          "",
          "",
          "",
          "",
          "",
          "",
          "",
          "",
          "",
          "",
          "",
          "",
          "",
          "",
          "",
          "",
          "",
          "",
          "",
          "",
          "",
          "",
          "",
          "",
          "",
          "",
          "",
          "",
          "",
          "",
          "",
          "",
          "",
          "1_景区_游客_郑州"
         ],
         "textfont": {
          "size": 12
         },
         "type": "scattergl",
         "x": [
          3.069742202758789,
          2.5167200565338135,
          5.983744144439697,
          2.4724879264831543,
          5.949374675750732,
          3.046560764312744,
          3.240856170654297,
          6.038232803344727,
          1.0612658262252808,
          2.56280517578125,
          2.4744110107421875,
          6.084292411804199,
          3.0833311080932617,
          5.632697105407715,
          5.9118242263793945,
          5.942316055297852,
          3.228102922439575,
          1.0732789039611816,
          1.05824613571167,
          2.4960944652557373,
          6.165996551513672,
          1.4119850397109985,
          1.04360830783844,
          2.514665365219116,
          1.5945160388946533,
          6.147635459899902,
          2.6456758975982666,
          1.0481367111206055,
          5.277523994445801,
          0.991622805595398,
          1.007439136505127,
          1.0286917686462402,
          2.3726565837860107,
          6.1056623458862305,
          6.005918979644775,
          2.0365874767303467,
          5.997694969177246,
          2.489333391189575,
          5.039182186126709,
          5.810324192047119,
          5.27822208404541,
          5.812955856323242,
          1.5852981805801392,
          1.8399990797042847,
          1.346754550933838,
          1.3316700458526611,
          1.3992427587509155,
          2.363410234451294,
          5.390966415405273,
          5.194459915161133,
          5.54822301864624,
          2.0912575721740723,
          2.685521125793457,
          5.059911727905273,
          5.296125411987305,
          5.247719764709473,
          2.615567922592163,
          2.5689938068389893,
          5.297558307647705,
          1.4223151206970215,
          5.383528709411621,
          3.2539658546447754,
          2.1845180988311768,
          1.0219383239746094,
          5.386993885040283,
          1.9580897092819214,
          5.135735511779785,
          5.649164199829102,
          3.068094491958618,
          5.372552394866943,
          1.9212125539779663,
          2.7054049968719482,
          1.1487846374511719,
          6.047858238220215,
          1.7526062726974487,
          1.5045087337493896,
          5.066486835479736,
          2.37707781791687,
          1.5058902502059937,
          1.976860761642456,
          3.0204710960388184,
          6.030051231384277,
          4.890289783477783,
          1.0558499097824097,
          5.372557163238525,
          5.444614887237549,
          2.765099287033081,
          1.0654323101043701,
          2.48238205909729,
          3.026158332824707,
          1.7351657152175903,
          1.0638922452926636,
          3.26051664352417,
          0.997987687587738,
          2.5127031803131104,
          3.0634734630584717,
          3.236581563949585,
          6.100366592407227,
          3.200129508972168,
          3.852682113647461,
          1.487837791442871,
          5.639700412750244,
          2.500572681427002,
          2.4967048168182373,
          2.328113317489624,
          2.5035789012908936,
          1.6540977954864502,
          2.9646499156951904,
          1.7476783990859985,
          1.463321566581726,
          3.357473134994507,
          2.473313808441162,
          1.5015493631362915,
          5.025981426239014,
          2.017888069152832,
          5.67647647857666,
          2.6166019439697266,
          1.452893853187561,
          4.987119674682617,
          1.0286154747009277,
          5.823934078216553,
          4.789381504058838,
          2.1796953678131104,
          1.0464038848876953,
          2.5171661376953125,
          5.374443054199219,
          5.326004981994629,
          1.5844104290008545,
          2.481755256652832,
          0.9981672167778015,
          2.5217039585113525,
          3.121166467666626,
          6.109415054321289,
          2.6399919986724854,
          6.0318217277526855,
          3.037764310836792,
          1.0579137802124023,
          1.9239623546600342,
          2.137403964996338,
          6.0272746086120605,
          5.264313220977783,
          2.528663396835327,
          2.9977786540985107,
          1.1623737812042236,
          2.3606386184692383,
          2.0405354499816895,
          0.9954351782798767,
          1.438201665878296,
          2.7223894596099854,
          6.186277866363525,
          5.3335280418396,
          1.0692338943481445,
          2.3769352436065674,
          1.0347740650177002,
          1.6154721975326538,
          2.5114214420318604,
          5.8911051750183105,
          1.022648811340332,
          3.2990245819091797,
          3.441728115081787,
          3.1412816047668457,
          1.7572869062423706,
          5.971373081207275,
          2.509485960006714,
          2.5102763175964355,
          1.4708635807037354,
          1.911637783050537,
          1.0844799280166626,
          5.424214839935303,
          5.313473224639893,
          6.140285015106201,
          1.792563796043396,
          5.686936855316162,
          2.512071132659912,
          2.3302338123321533,
          2.033489942550659,
          2.3913917541503906,
          2.0046374797821045,
          1.0205587148666382,
          2.557560920715332,
          1.4521327018737793,
          4.854446887969971,
          2.4379050731658936,
          2.1640608310699463,
          5.839919567108154,
          2.5434648990631104,
          2.239901542663574,
          2.1587421894073486,
          1.0950373411178589,
          2.2832865715026855,
          2.5580174922943115,
          1.573915958404541,
          0.9895886182785034,
          2.4325056076049805,
          2.010244131088257,
          2.562361478805542,
          1.7414796352386475,
          5.644669055938721,
          1.5228321552276611,
          1.6636760234832764,
          5.272933483123779,
          2.987497091293335,
          2.3923885822296143,
          2.10994029045105,
          1.8479822874069214,
          3.1147537231445312
         ],
         "y": [
          4.147329330444336,
          3.1377832889556885,
          2.6001675128936768,
          3.3269407749176025,
          1.8450342416763306,
          4.184025764465332,
          3.800801992416382,
          1.949195146560669,
          5.400256633758545,
          3.639833688735962,
          3.1419668197631836,
          2.634106397628784,
          4.089989185333252,
          2.151832103729248,
          1.8760051727294922,
          1.829200029373169,
          3.9524173736572266,
          5.088072299957275,
          5.406081676483154,
          4.530722618103027,
          2.2998664379119873,
          3.7888190746307373,
          5.394549369812012,
          3.72115421295166,
          3.594424247741699,
          2.2835328578948975,
          3.0013160705566406,
          5.050749778747559,
          1.9155994653701782,
          5.496669292449951,
          5.403005123138428,
          5.568842887878418,
          3.802989959716797,
          2.405027151107788,
          2.668708324432373,
          3.1575028896331787,
          2.6067566871643066,
          3.7289633750915527,
          2.5779900550842285,
          2.383720874786377,
          2.0220766067504883,
          2.099336624145508,
          3.8608157634735107,
          4.392667770385742,
          4.931386470794678,
          3.717947006225586,
          3.774200916290283,
          3.208601713180542,
          1.9850598573684692,
          2.487692356109619,
          1.9923522472381592,
          4.330081462860107,
          2.8918564319610596,
          2.546905517578125,
          2.0274932384490967,
          1.9323886632919312,
          2.951509714126587,
          3.099695920944214,
          1.9747556447982788,
          3.7960197925567627,
          2.1067538261413574,
          3.946662187576294,
          3.4352757930755615,
          5.434580326080322,
          2.019723415374756,
          3.152597188949585,
          2.3851521015167236,
          1.9538447856903076,
          4.123679161071777,
          2.0982985496520996,
          3.205890655517578,
          3.5514588356018066,
          4.972157001495361,
          1.865870475769043,
          4.034899711608887,
          3.858628988265991,
          2.540931463241577,
          4.778296947479248,
          3.857179641723633,
          3.441221237182617,
          4.092184543609619,
          2.7467520236968994,
          2.0561537742614746,
          5.399747848510742,
          2.1108720302581787,
          2.0403223037719727,
          2.887760639190674,
          5.431164264678955,
          3.663541316986084,
          4.143191337585449,
          3.959840774536133,
          5.111248970031738,
          3.75844407081604,
          5.529277801513672,
          3.6982181072235107,
          4.0856523513793945,
          3.848729133605957,
          2.9983301162719727,
          3.793848991394043,
          5.860682964324951,
          3.777095079421997,
          1.9708433151245117,
          4.882223129272461,
          3.701674699783325,
          4.759225368499756,
          3.6813149452209473,
          4.977479457855225,
          3.202332019805908,
          4.993842124938965,
          3.811330556869507,
          4.175354957580566,
          4.784826278686523,
          3.8740234375,
          2.594230890274048,
          3.856501579284668,
          1.7091702222824097,
          3.16572642326355,
          3.7637217044830322,
          1.9893581867218018,
          5.159278869628906,
          1.903334617614746,
          2.0262343883514404,
          4.635992527008057,
          4.98698616027832,
          3.719499349594116,
          1.9498000144958496,
          1.8854299783706665,
          3.8469977378845215,
          3.979308605194092,
          5.54141092300415,
          3.696455717086792,
          4.0832037925720215,
          2.2655811309814453,
          2.958012342453003,
          2.9326908588409424,
          4.115592956542969,
          5.3634772300720215,
          3.1651816368103027,
          4.601590156555176,
          2.1661009788513184,
          1.974278450012207,
          3.7262375354766846,
          3.3717753887176514,
          5.124910831451416,
          3.62151837348938,
          3.8626036643981934,
          5.51489782333374,
          3.7817280292510986,
          4.94535493850708,
          2.2922375202178955,
          2.1066272258758545,
          5.347314357757568,
          3.848874568939209,
          5.2232208251953125,
          4.023223876953125,
          3.1791396141052246,
          2.3177733421325684,
          5.616940975189209,
          3.964592218399048,
          4.236745357513428,
          4.040028095245361,
          3.913562774658203,
          2.499577283859253,
          2.9639432430267334,
          3.678107738494873,
          3.831268310546875,
          4.057050704956055,
          5.077793121337891,
          1.9639307260513306,
          1.9448440074920654,
          2.2982592582702637,
          3.9681131839752197,
          1.7019554376602173,
          3.312427282333374,
          3.2629427909851074,
          4.333096981048584,
          4.811106204986572,
          3.1109960079193115,
          5.27252197265625,
          4.94866943359375,
          3.816438674926758,
          2.0502772331237793,
          4.744002342224121,
          4.6161580085754395,
          1.8017226457595825,
          3.114779233932495,
          4.685729026794434,
          4.619962215423584,
          5.038454055786133,
          4.721091270446777,
          3.111959218978882,
          4.906284332275391,
          5.531720161437988,
          4.843192100524902,
          3.442369222640991,
          3.627739429473877,
          3.912872314453125,
          1.6662737131118774,
          3.871004343032837,
          4.029773712158203,
          1.9142016172409058,
          4.040870189666748,
          3.3486850261688232,
          4.490497589111328,
          3.828660011291504,
          3.5760059356689453
         ]
        },
        {
         "hoverinfo": "text",
         "marker": {
          "opacity": 0.5,
          "size": 5
         },
         "mode": "markers+text",
         "name": "2_建设_发展_项目",
         "text": [
          "",
          "",
          "",
          "",
          "",
          "",
          "",
          "",
          "",
          "",
          "",
          "",
          "",
          "",
          "",
          "",
          "",
          "",
          "",
          "",
          "",
          "",
          "",
          "",
          "",
          "",
          "",
          "",
          "",
          "",
          "",
          "",
          "",
          "",
          "",
          "",
          "",
          "",
          "",
          "",
          "",
          "",
          "",
          "",
          "",
          "",
          "",
          "",
          "",
          "",
          "",
          "",
          "",
          "",
          "",
          "",
          "",
          "",
          "",
          "",
          "",
          "",
          "",
          "",
          "",
          "",
          "",
          "",
          "",
          "",
          "",
          "",
          "",
          "",
          "",
          "",
          "",
          "",
          "",
          "",
          "",
          "",
          "",
          "",
          "",
          "",
          "",
          "",
          "",
          "",
          "",
          "",
          "",
          "",
          "",
          "",
          "",
          "",
          "",
          "",
          "",
          "",
          "",
          "",
          "",
          "",
          "",
          "",
          "",
          "",
          "",
          "",
          "",
          "",
          "",
          "",
          "",
          "",
          "",
          "",
          "",
          "",
          "",
          "",
          "",
          "",
          "",
          "",
          "",
          "",
          "",
          "",
          "",
          "",
          "",
          "",
          "",
          "",
          "",
          "",
          "",
          "",
          "",
          "",
          "",
          "",
          "",
          "",
          "",
          "",
          "",
          "",
          "",
          "",
          "2_建设_发展_项目"
         ],
         "textfont": {
          "size": 12
         },
         "type": "scattergl",
         "x": [
          4.843116760253906,
          4.577298641204834,
          4.247819423675537,
          4.1103739738464355,
          3.1577043533325195,
          4.43051290512085,
          3.7842729091644287,
          4.083000659942627,
          2.6795284748077393,
          4.889739036560059,
          5.51003885269165,
          2.9381420612335205,
          2.5966439247131348,
          3.384172201156616,
          3.228759288787842,
          5.413879871368408,
          4.4816484451293945,
          4.965651512145996,
          5.19681453704834,
          3.1232640743255615,
          4.229875564575195,
          3.704655170440674,
          3.6120619773864746,
          5.211456298828125,
          5.148446559906006,
          4.989032745361328,
          3.327467918395996,
          3.289445638656616,
          4.0611252784729,
          3.8160760402679443,
          5.335248947143555,
          4.17063570022583,
          4.115977764129639,
          3.634777545928955,
          4.087185859680176,
          4.9532790184021,
          4.905117511749268,
          3.5115952491760254,
          3.381582736968994,
          3.796172857284546,
          3.72563099861145,
          3.937100648880005,
          3.7567975521087646,
          4.945244789123535,
          4.0776824951171875,
          5.009006977081299,
          2.6335830688476562,
          3.5733327865600586,
          4.002961158752441,
          3.2273547649383545,
          3.224884510040283,
          4.412712574005127,
          4.572076797485352,
          3.6857635974884033,
          5.499161720275879,
          3.142451524734497,
          3.9943277835845947,
          3.8500752449035645,
          4.1902241706848145,
          2.912606716156006,
          5.121031284332275,
          3.518437385559082,
          5.110576152801514,
          2.7879388332366943,
          4.407192707061768,
          5.0733113288879395,
          5.05360746383667,
          2.5747854709625244,
          4.195851802825928,
          3.7977120876312256,
          4.402535438537598,
          4.289644718170166,
          4.884158611297607,
          3.6474714279174805,
          2.8183491230010986,
          4.096099376678467,
          4.243500709533691,
          3.884807825088501,
          4.036847114562988,
          4.99570369720459,
          3.3731377124786377,
          4.9452996253967285,
          4.835538864135742,
          2.7504470348358154,
          3.332324743270874,
          4.788961410522461,
          2.651674747467041,
          5.353618144989014,
          3.651616334915161,
          3.8026981353759766,
          3.0522475242614746,
          4.1020331382751465,
          3.8821117877960205,
          3.3124983310699463,
          3.21882963180542,
          3.647569417953491,
          2.728909969329834,
          2.850456953048706,
          5.19569730758667,
          4.897039413452148,
          3.796494722366333,
          4.479757785797119,
          5.275854587554932,
          3.0438437461853027,
          4.422229766845703,
          4.073080062866211,
          4.100394248962402,
          3.664020538330078,
          4.100619316101074,
          5.105535507202148,
          3.586806058883667,
          5.175162315368652,
          4.588940143585205,
          3.9578356742858887,
          4.5647759437561035,
          5.174598217010498,
          2.6332638263702393,
          3.9260900020599365,
          3.713758945465088,
          3.804058313369751,
          3.508413076400757,
          5.193415641784668,
          5.580329895019531,
          2.825080633163452,
          3.6917951107025146,
          4.2450666427612305,
          2.5712881088256836,
          2.8931679725646973,
          2.654639959335327,
          3.796048164367676,
          4.212148666381836,
          4.1416521072387695,
          4.142419338226318,
          3.6932148933410645,
          3.115745782852173,
          4.628654479980469,
          4.028826713562012,
          3.87835431098938,
          3.4099087715148926,
          3.9893741607666016,
          4.111303806304932,
          2.8048174381256104,
          3.5752933025360107,
          4.857522487640381,
          5.108675003051758,
          3.8298707008361816,
          4.142654895782471,
          4.043665885925293,
          5.112244606018066,
          3.2040271759033203,
          4.0871195793151855,
          3.8490612506866455,
          4.406692981719971,
          4.476901531219482,
          4.023411750793457
         ],
         "y": [
          4.4772114753723145,
          5.315005779266357,
          5.465256690979004,
          5.498655319213867,
          5.477011680603027,
          5.4388556480407715,
          4.283412933349609,
          4.702291011810303,
          6.153591156005859,
          4.745020866394043,
          5.319474697113037,
          5.768231391906738,
          6.08919620513916,
          5.6178107261657715,
          5.06110954284668,
          5.276879787445068,
          4.784426689147949,
          5.082180500030518,
          5.540259838104248,
          5.271027565002441,
          5.659310340881348,
          4.914071559906006,
          5.785372734069824,
          5.5311503410339355,
          5.290902614593506,
          4.442135334014893,
          4.970597267150879,
          6.058605670928955,
          3.7649707794189453,
          3.3030507564544678,
          5.238694190979004,
          5.791667461395264,
          5.4509172439575195,
          5.177789211273193,
          5.089456081390381,
          4.387901306152344,
          4.459916591644287,
          5.079414367675781,
          5.185586452484131,
          4.930896282196045,
          5.275130271911621,
          3.231992244720459,
          4.902926445007324,
          5.736555576324463,
          5.508255481719971,
          4.376007556915283,
          6.160073757171631,
          5.686627388000488,
          5.732208251953125,
          4.839587211608887,
          6.08434534072876,
          5.855600833892822,
          5.510952472686768,
          5.125055313110352,
          5.323353290557861,
          4.900418758392334,
          3.2019031047821045,
          5.160409450531006,
          3.3814990520477295,
          5.894429683685303,
          5.596846580505371,
          5.790239334106445,
          5.604581832885742,
          6.01253604888916,
          5.2478532791137695,
          4.74083137512207,
          5.694540977478027,
          6.116152763366699,
          5.692338943481445,
          3.2879719734191895,
          3.6907620429992676,
          5.6932454109191895,
          4.513233184814453,
          5.027482986450195,
          5.80697774887085,
          5.095998764038086,
          5.331261157989502,
          5.041730880737305,
          5.404654026031494,
          5.24623441696167,
          5.115758895874023,
          5.736136436462402,
          4.467784881591797,
          5.9558424949646,
          5.633153438568115,
          4.996646404266357,
          6.132229804992676,
          5.1902642250061035,
          3.3391029834747314,
          4.905392646789551,
          6.1489129066467285,
          3.576901435852051,
          3.503203868865967,
          5.617425441741943,
          5.131801605224609,
          5.760892868041992,
          6.058502674102783,
          5.82658052444458,
          5.512843132019043,
          5.769140720367432,
          4.57279634475708,
          4.738367080688477,
          5.452881336212158,
          6.111593246459961,
          5.495179653167725,
          5.690803527832031,
          5.797110557556152,
          5.217138290405273,
          3.757479429244995,
          5.2696919441223145,
          5.725071907043457,
          5.564601421356201,
          5.305994033813477,
          3.2425718307495117,
          5.577489852905273,
          5.570867538452148,
          6.14482307434082,
          4.048978805541992,
          5.105483055114746,
          5.005796909332275,
          5.762194633483887,
          5.3148345947265625,
          5.502114772796631,
          5.892017364501953,
          5.010242462158203,
          5.658946514129639,
          6.054642200469971,
          5.659721374511719,
          6.167409896850586,
          3.2947680950164795,
          5.624896049499512,
          5.438938140869141,
          5.674764156341553,
          5.02590274810791,
          6.13852596282959,
          4.492210388183594,
          5.310732364654541,
          4.448857307434082,
          4.84121561050415,
          3.85892915725708,
          3.7585840225219727,
          5.8616533279418945,
          5.72984504699707,
          4.524439811706543,
          5.4067277908325195,
          4.746456146240234,
          4.593446254730225,
          5.533945560455322,
          5.316403388977051,
          5.110450744628906,
          3.765774726867676,
          5.172412395477295,
          5.532042503356934,
          4.7563042640686035,
          5.16334867477417
         ]
        },
        {
         "hoverinfo": "text",
         "marker": {
          "opacity": 0.5,
          "size": 5
         },
         "mode": "markers+text",
         "name": "3_中国_龙门石窟_石窟",
         "text": [
          "",
          "",
          "",
          "",
          "",
          "",
          "",
          "",
          "",
          "",
          "",
          "",
          "",
          "",
          "",
          "",
          "",
          "",
          "",
          "",
          "",
          "",
          "",
          "",
          "",
          "",
          "",
          "",
          "",
          "",
          "",
          "",
          "",
          "",
          "",
          "",
          "",
          "",
          "",
          "",
          "",
          "",
          "",
          "",
          "",
          "",
          "",
          "",
          "",
          "",
          "",
          "",
          "",
          "",
          "",
          "",
          "",
          "",
          "",
          "",
          "",
          "",
          "3_中国_龙门石窟_石窟"
         ],
         "textfont": {
          "size": 12
         },
         "type": "scattergl",
         "x": [
          8.3165922164917,
          8.279611587524414,
          8.781879425048828,
          9.133257865905762,
          9.23849868774414,
          9.54471206665039,
          9.48873519897461,
          8.341741561889648,
          9.050779342651367,
          9.424383163452148,
          9.303110122680664,
          8.304306030273438,
          9.229952812194824,
          9.177720069885254,
          9.208893775939941,
          8.757299423217773,
          9.417916297912598,
          9.45903491973877,
          9.519134521484375,
          9.451016426086426,
          9.1256685256958,
          9.49365234375,
          8.278768539428711,
          8.396757125854492,
          8.282470703125,
          8.749560356140137,
          9.357118606567383,
          8.885819435119629,
          9.318257331848145,
          8.826666831970215,
          9.09813117980957,
          9.237085342407227,
          9.146512985229492,
          8.7409029006958,
          8.815974235534668,
          9.402657508850098,
          9.03851318359375,
          8.876004219055176,
          9.288702011108398,
          8.802133560180664,
          9.093493461608887,
          8.236165046691895,
          9.336949348449707,
          8.625398635864258,
          9.52675724029541,
          8.85665512084961,
          8.957399368286133,
          9.521535873413086,
          8.938467979431152,
          8.439807891845703,
          8.90492057800293,
          9.066519737243652,
          9.036011695861816,
          9.110520362854004,
          9.334559440612793,
          8.764421463012695,
          8.842114448547363,
          8.488698959350586,
          9.15400505065918,
          9.341102600097656,
          8.809706687927246,
          8.24087905883789,
          8.987356185913086
         ],
         "y": [
          6.227105617523193,
          6.200599670410156,
          6.684965133666992,
          5.986081600189209,
          6.154487133026123,
          6.291101455688477,
          6.265346050262451,
          6.092960834503174,
          6.173245906829834,
          6.238130569458008,
          5.81654691696167,
          6.159100532531738,
          6.148708820343018,
          6.083913803100586,
          5.908445835113525,
          6.6953125,
          6.1846089363098145,
          6.189336776733398,
          6.226563930511475,
          6.241185188293457,
          5.977653980255127,
          6.24018669128418,
          5.959207057952881,
          5.94135046005249,
          5.969716548919678,
          6.718912601470947,
          6.163299083709717,
          6.605637073516846,
          6.064587116241455,
          6.674136638641357,
          6.345245361328125,
          6.042288303375244,
          6.01084041595459,
          6.692834854125977,
          6.063907146453857,
          6.318750858306885,
          6.485716819763184,
          6.212231159210205,
          6.145021438598633,
          6.257601261138916,
          6.433997631072998,
          6.198586463928223,
          6.318634510040283,
          6.002123832702637,
          6.213089942932129,
          6.5670976638793945,
          6.411605358123779,
          6.199293613433838,
          6.335435390472412,
          6.001114845275879,
          6.5470967292785645,
          6.470011234283447,
          6.4553751945495605,
          6.42322301864624,
          6.183852672576904,
          6.687644004821777,
          6.341684818267822,
          6.002401351928711,
          6.409811973571777,
          6.276002407073975,
          6.620891094207764,
          5.978762626647949,
          6.257009506225586
         ]
        }
       ],
       "layout": {
        "annotations": [
         {
          "showarrow": false,
          "text": "D1",
          "x": 0.8411503255367279,
          "y": 4.083477504551411,
          "yshift": 10
         },
         {
          "showarrow": false,
          "text": "D2",
          "x": 5.992070481181145,
          "xshift": 10,
          "y": 7.7267494916915895
         }
        ],
        "height": 750,
        "shapes": [
         {
          "line": {
           "color": "#CFD8DC",
           "width": 2
          },
          "type": "line",
          "x0": 5.992070481181145,
          "x1": 5.992070481181145,
          "y0": 0.440205517411232,
          "y1": 7.7267494916915895
         },
         {
          "line": {
           "color": "#9E9E9E",
           "width": 2
          },
          "type": "line",
          "x0": 0.8411503255367279,
          "x1": 11.142990636825562,
          "y0": 4.083477504551411,
          "y1": 4.083477504551411
         }
        ],
        "template": {
         "data": {
          "bar": [
           {
            "error_x": {
             "color": "rgb(36,36,36)"
            },
            "error_y": {
             "color": "rgb(36,36,36)"
            },
            "marker": {
             "line": {
              "color": "white",
              "width": 0.5
             },
             "pattern": {
              "fillmode": "overlay",
              "size": 10,
              "solidity": 0.2
             }
            },
            "type": "bar"
           }
          ],
          "barpolar": [
           {
            "marker": {
             "line": {
              "color": "white",
              "width": 0.5
             },
             "pattern": {
              "fillmode": "overlay",
              "size": 10,
              "solidity": 0.2
             }
            },
            "type": "barpolar"
           }
          ],
          "carpet": [
           {
            "aaxis": {
             "endlinecolor": "rgb(36,36,36)",
             "gridcolor": "white",
             "linecolor": "white",
             "minorgridcolor": "white",
             "startlinecolor": "rgb(36,36,36)"
            },
            "baxis": {
             "endlinecolor": "rgb(36,36,36)",
             "gridcolor": "white",
             "linecolor": "white",
             "minorgridcolor": "white",
             "startlinecolor": "rgb(36,36,36)"
            },
            "type": "carpet"
           }
          ],
          "choropleth": [
           {
            "colorbar": {
             "outlinewidth": 1,
             "tickcolor": "rgb(36,36,36)",
             "ticks": "outside"
            },
            "type": "choropleth"
           }
          ],
          "contour": [
           {
            "colorbar": {
             "outlinewidth": 1,
             "tickcolor": "rgb(36,36,36)",
             "ticks": "outside"
            },
            "colorscale": [
             [
              0,
              "#440154"
             ],
             [
              0.1111111111111111,
              "#482878"
             ],
             [
              0.2222222222222222,
              "#3e4989"
             ],
             [
              0.3333333333333333,
              "#31688e"
             ],
             [
              0.4444444444444444,
              "#26828e"
             ],
             [
              0.5555555555555556,
              "#1f9e89"
             ],
             [
              0.6666666666666666,
              "#35b779"
             ],
             [
              0.7777777777777778,
              "#6ece58"
             ],
             [
              0.8888888888888888,
              "#b5de2b"
             ],
             [
              1,
              "#fde725"
             ]
            ],
            "type": "contour"
           }
          ],
          "contourcarpet": [
           {
            "colorbar": {
             "outlinewidth": 1,
             "tickcolor": "rgb(36,36,36)",
             "ticks": "outside"
            },
            "type": "contourcarpet"
           }
          ],
          "heatmap": [
           {
            "colorbar": {
             "outlinewidth": 1,
             "tickcolor": "rgb(36,36,36)",
             "ticks": "outside"
            },
            "colorscale": [
             [
              0,
              "#440154"
             ],
             [
              0.1111111111111111,
              "#482878"
             ],
             [
              0.2222222222222222,
              "#3e4989"
             ],
             [
              0.3333333333333333,
              "#31688e"
             ],
             [
              0.4444444444444444,
              "#26828e"
             ],
             [
              0.5555555555555556,
              "#1f9e89"
             ],
             [
              0.6666666666666666,
              "#35b779"
             ],
             [
              0.7777777777777778,
              "#6ece58"
             ],
             [
              0.8888888888888888,
              "#b5de2b"
             ],
             [
              1,
              "#fde725"
             ]
            ],
            "type": "heatmap"
           }
          ],
          "heatmapgl": [
           {
            "colorbar": {
             "outlinewidth": 1,
             "tickcolor": "rgb(36,36,36)",
             "ticks": "outside"
            },
            "colorscale": [
             [
              0,
              "#440154"
             ],
             [
              0.1111111111111111,
              "#482878"
             ],
             [
              0.2222222222222222,
              "#3e4989"
             ],
             [
              0.3333333333333333,
              "#31688e"
             ],
             [
              0.4444444444444444,
              "#26828e"
             ],
             [
              0.5555555555555556,
              "#1f9e89"
             ],
             [
              0.6666666666666666,
              "#35b779"
             ],
             [
              0.7777777777777778,
              "#6ece58"
             ],
             [
              0.8888888888888888,
              "#b5de2b"
             ],
             [
              1,
              "#fde725"
             ]
            ],
            "type": "heatmapgl"
           }
          ],
          "histogram": [
           {
            "marker": {
             "line": {
              "color": "white",
              "width": 0.6
             }
            },
            "type": "histogram"
           }
          ],
          "histogram2d": [
           {
            "colorbar": {
             "outlinewidth": 1,
             "tickcolor": "rgb(36,36,36)",
             "ticks": "outside"
            },
            "colorscale": [
             [
              0,
              "#440154"
             ],
             [
              0.1111111111111111,
              "#482878"
             ],
             [
              0.2222222222222222,
              "#3e4989"
             ],
             [
              0.3333333333333333,
              "#31688e"
             ],
             [
              0.4444444444444444,
              "#26828e"
             ],
             [
              0.5555555555555556,
              "#1f9e89"
             ],
             [
              0.6666666666666666,
              "#35b779"
             ],
             [
              0.7777777777777778,
              "#6ece58"
             ],
             [
              0.8888888888888888,
              "#b5de2b"
             ],
             [
              1,
              "#fde725"
             ]
            ],
            "type": "histogram2d"
           }
          ],
          "histogram2dcontour": [
           {
            "colorbar": {
             "outlinewidth": 1,
             "tickcolor": "rgb(36,36,36)",
             "ticks": "outside"
            },
            "colorscale": [
             [
              0,
              "#440154"
             ],
             [
              0.1111111111111111,
              "#482878"
             ],
             [
              0.2222222222222222,
              "#3e4989"
             ],
             [
              0.3333333333333333,
              "#31688e"
             ],
             [
              0.4444444444444444,
              "#26828e"
             ],
             [
              0.5555555555555556,
              "#1f9e89"
             ],
             [
              0.6666666666666666,
              "#35b779"
             ],
             [
              0.7777777777777778,
              "#6ece58"
             ],
             [
              0.8888888888888888,
              "#b5de2b"
             ],
             [
              1,
              "#fde725"
             ]
            ],
            "type": "histogram2dcontour"
           }
          ],
          "mesh3d": [
           {
            "colorbar": {
             "outlinewidth": 1,
             "tickcolor": "rgb(36,36,36)",
             "ticks": "outside"
            },
            "type": "mesh3d"
           }
          ],
          "parcoords": [
           {
            "line": {
             "colorbar": {
              "outlinewidth": 1,
              "tickcolor": "rgb(36,36,36)",
              "ticks": "outside"
             }
            },
            "type": "parcoords"
           }
          ],
          "pie": [
           {
            "automargin": true,
            "type": "pie"
           }
          ],
          "scatter": [
           {
            "fillpattern": {
             "fillmode": "overlay",
             "size": 10,
             "solidity": 0.2
            },
            "type": "scatter"
           }
          ],
          "scatter3d": [
           {
            "line": {
             "colorbar": {
              "outlinewidth": 1,
              "tickcolor": "rgb(36,36,36)",
              "ticks": "outside"
             }
            },
            "marker": {
             "colorbar": {
              "outlinewidth": 1,
              "tickcolor": "rgb(36,36,36)",
              "ticks": "outside"
             }
            },
            "type": "scatter3d"
           }
          ],
          "scattercarpet": [
           {
            "marker": {
             "colorbar": {
              "outlinewidth": 1,
              "tickcolor": "rgb(36,36,36)",
              "ticks": "outside"
             }
            },
            "type": "scattercarpet"
           }
          ],
          "scattergeo": [
           {
            "marker": {
             "colorbar": {
              "outlinewidth": 1,
              "tickcolor": "rgb(36,36,36)",
              "ticks": "outside"
             }
            },
            "type": "scattergeo"
           }
          ],
          "scattergl": [
           {
            "marker": {
             "colorbar": {
              "outlinewidth": 1,
              "tickcolor": "rgb(36,36,36)",
              "ticks": "outside"
             }
            },
            "type": "scattergl"
           }
          ],
          "scattermapbox": [
           {
            "marker": {
             "colorbar": {
              "outlinewidth": 1,
              "tickcolor": "rgb(36,36,36)",
              "ticks": "outside"
             }
            },
            "type": "scattermapbox"
           }
          ],
          "scatterpolar": [
           {
            "marker": {
             "colorbar": {
              "outlinewidth": 1,
              "tickcolor": "rgb(36,36,36)",
              "ticks": "outside"
             }
            },
            "type": "scatterpolar"
           }
          ],
          "scatterpolargl": [
           {
            "marker": {
             "colorbar": {
              "outlinewidth": 1,
              "tickcolor": "rgb(36,36,36)",
              "ticks": "outside"
             }
            },
            "type": "scatterpolargl"
           }
          ],
          "scatterternary": [
           {
            "marker": {
             "colorbar": {
              "outlinewidth": 1,
              "tickcolor": "rgb(36,36,36)",
              "ticks": "outside"
             }
            },
            "type": "scatterternary"
           }
          ],
          "surface": [
           {
            "colorbar": {
             "outlinewidth": 1,
             "tickcolor": "rgb(36,36,36)",
             "ticks": "outside"
            },
            "colorscale": [
             [
              0,
              "#440154"
             ],
             [
              0.1111111111111111,
              "#482878"
             ],
             [
              0.2222222222222222,
              "#3e4989"
             ],
             [
              0.3333333333333333,
              "#31688e"
             ],
             [
              0.4444444444444444,
              "#26828e"
             ],
             [
              0.5555555555555556,
              "#1f9e89"
             ],
             [
              0.6666666666666666,
              "#35b779"
             ],
             [
              0.7777777777777778,
              "#6ece58"
             ],
             [
              0.8888888888888888,
              "#b5de2b"
             ],
             [
              1,
              "#fde725"
             ]
            ],
            "type": "surface"
           }
          ],
          "table": [
           {
            "cells": {
             "fill": {
              "color": "rgb(237,237,237)"
             },
             "line": {
              "color": "white"
             }
            },
            "header": {
             "fill": {
              "color": "rgb(217,217,217)"
             },
             "line": {
              "color": "white"
             }
            },
            "type": "table"
           }
          ]
         },
         "layout": {
          "annotationdefaults": {
           "arrowhead": 0,
           "arrowwidth": 1
          },
          "autotypenumbers": "strict",
          "coloraxis": {
           "colorbar": {
            "outlinewidth": 1,
            "tickcolor": "rgb(36,36,36)",
            "ticks": "outside"
           }
          },
          "colorscale": {
           "diverging": [
            [
             0,
             "rgb(103,0,31)"
            ],
            [
             0.1,
             "rgb(178,24,43)"
            ],
            [
             0.2,
             "rgb(214,96,77)"
            ],
            [
             0.3,
             "rgb(244,165,130)"
            ],
            [
             0.4,
             "rgb(253,219,199)"
            ],
            [
             0.5,
             "rgb(247,247,247)"
            ],
            [
             0.6,
             "rgb(209,229,240)"
            ],
            [
             0.7,
             "rgb(146,197,222)"
            ],
            [
             0.8,
             "rgb(67,147,195)"
            ],
            [
             0.9,
             "rgb(33,102,172)"
            ],
            [
             1,
             "rgb(5,48,97)"
            ]
           ],
           "sequential": [
            [
             0,
             "#440154"
            ],
            [
             0.1111111111111111,
             "#482878"
            ],
            [
             0.2222222222222222,
             "#3e4989"
            ],
            [
             0.3333333333333333,
             "#31688e"
            ],
            [
             0.4444444444444444,
             "#26828e"
            ],
            [
             0.5555555555555556,
             "#1f9e89"
            ],
            [
             0.6666666666666666,
             "#35b779"
            ],
            [
             0.7777777777777778,
             "#6ece58"
            ],
            [
             0.8888888888888888,
             "#b5de2b"
            ],
            [
             1,
             "#fde725"
            ]
           ],
           "sequentialminus": [
            [
             0,
             "#440154"
            ],
            [
             0.1111111111111111,
             "#482878"
            ],
            [
             0.2222222222222222,
             "#3e4989"
            ],
            [
             0.3333333333333333,
             "#31688e"
            ],
            [
             0.4444444444444444,
             "#26828e"
            ],
            [
             0.5555555555555556,
             "#1f9e89"
            ],
            [
             0.6666666666666666,
             "#35b779"
            ],
            [
             0.7777777777777778,
             "#6ece58"
            ],
            [
             0.8888888888888888,
             "#b5de2b"
            ],
            [
             1,
             "#fde725"
            ]
           ]
          },
          "colorway": [
           "#1F77B4",
           "#FF7F0E",
           "#2CA02C",
           "#D62728",
           "#9467BD",
           "#8C564B",
           "#E377C2",
           "#7F7F7F",
           "#BCBD22",
           "#17BECF"
          ],
          "font": {
           "color": "rgb(36,36,36)"
          },
          "geo": {
           "bgcolor": "white",
           "lakecolor": "white",
           "landcolor": "white",
           "showlakes": true,
           "showland": true,
           "subunitcolor": "white"
          },
          "hoverlabel": {
           "align": "left"
          },
          "hovermode": "closest",
          "mapbox": {
           "style": "light"
          },
          "paper_bgcolor": "white",
          "plot_bgcolor": "white",
          "polar": {
           "angularaxis": {
            "gridcolor": "rgb(232,232,232)",
            "linecolor": "rgb(36,36,36)",
            "showgrid": false,
            "showline": true,
            "ticks": "outside"
           },
           "bgcolor": "white",
           "radialaxis": {
            "gridcolor": "rgb(232,232,232)",
            "linecolor": "rgb(36,36,36)",
            "showgrid": false,
            "showline": true,
            "ticks": "outside"
           }
          },
          "scene": {
           "xaxis": {
            "backgroundcolor": "white",
            "gridcolor": "rgb(232,232,232)",
            "gridwidth": 2,
            "linecolor": "rgb(36,36,36)",
            "showbackground": true,
            "showgrid": false,
            "showline": true,
            "ticks": "outside",
            "zeroline": false,
            "zerolinecolor": "rgb(36,36,36)"
           },
           "yaxis": {
            "backgroundcolor": "white",
            "gridcolor": "rgb(232,232,232)",
            "gridwidth": 2,
            "linecolor": "rgb(36,36,36)",
            "showbackground": true,
            "showgrid": false,
            "showline": true,
            "ticks": "outside",
            "zeroline": false,
            "zerolinecolor": "rgb(36,36,36)"
           },
           "zaxis": {
            "backgroundcolor": "white",
            "gridcolor": "rgb(232,232,232)",
            "gridwidth": 2,
            "linecolor": "rgb(36,36,36)",
            "showbackground": true,
            "showgrid": false,
            "showline": true,
            "ticks": "outside",
            "zeroline": false,
            "zerolinecolor": "rgb(36,36,36)"
           }
          },
          "shapedefaults": {
           "fillcolor": "black",
           "line": {
            "width": 0
           },
           "opacity": 0.3
          },
          "ternary": {
           "aaxis": {
            "gridcolor": "rgb(232,232,232)",
            "linecolor": "rgb(36,36,36)",
            "showgrid": false,
            "showline": true,
            "ticks": "outside"
           },
           "baxis": {
            "gridcolor": "rgb(232,232,232)",
            "linecolor": "rgb(36,36,36)",
            "showgrid": false,
            "showline": true,
            "ticks": "outside"
           },
           "bgcolor": "white",
           "caxis": {
            "gridcolor": "rgb(232,232,232)",
            "linecolor": "rgb(36,36,36)",
            "showgrid": false,
            "showline": true,
            "ticks": "outside"
           }
          },
          "title": {
           "x": 0.05
          },
          "xaxis": {
           "automargin": true,
           "gridcolor": "rgb(232,232,232)",
           "linecolor": "rgb(36,36,36)",
           "showgrid": false,
           "showline": true,
           "ticks": "outside",
           "title": {
            "standoff": 15
           },
           "zeroline": false,
           "zerolinecolor": "rgb(36,36,36)"
          },
          "yaxis": {
           "automargin": true,
           "gridcolor": "rgb(232,232,232)",
           "linecolor": "rgb(36,36,36)",
           "showgrid": false,
           "showline": true,
           "ticks": "outside",
           "title": {
            "standoff": 15
           },
           "zeroline": false,
           "zerolinecolor": "rgb(36,36,36)"
          }
         }
        },
        "title": {
         "font": {
          "color": "Black",
          "size": 22
         },
         "text": "<b>Documents and Topics</b>",
         "x": 0.5,
         "xanchor": "center",
         "yanchor": "top"
        },
        "width": 1200,
        "xaxis": {
         "visible": false
        },
        "yaxis": {
         "visible": false
        }
       }
      }
     },
     "metadata": {},
     "output_type": "display_data"
    }
   ],
   "source": [
    "reduced_embeddings = UMAP(n_neighbors=10, n_components=2, min_dist=0.0, metric='cosine').fit_transform(embeddings)\n",
    "topic_model.visualize_documents(docs, reduced_embeddings=reduced_embeddings, hide_document_hover=True)"
   ]
  },
  {
   "cell_type": "markdown",
   "metadata": {},
   "source": [
    "# 动态主题模型"
   ]
  },
  {
   "cell_type": "code",
   "execution_count": null,
   "metadata": {},
   "outputs": [
    {
     "name": "stdout",
     "output_type": "stream",
     "text": [
      "1000 [2023, 2023, 2023, 2023, 2023, 2023, 2023, 2023, 2023, 2023]\n"
     ]
    }
   ],
   "source": [
    "# 读取时间戳\n",
    "with open('./data/时间.txt', \"r\", encoding='utf-8') as file:\n",
    "    lines = file.readlines()\n",
    "    timestamps = [int(line.strip()) for line in lines]\n",
    "print(len(timestamps), timestamps[:10])"
   ]
  },
  {
   "cell_type": "code",
   "execution_count": null,
   "metadata": {},
   "outputs": [
    {
     "data": {
      "application/vnd.plotly.v1+json": {
       "config": {
        "plotlyServerURL": "https://plot.ly"
       },
       "data": [
        {
         "hoverinfo": "text",
         "hovertext": [
          "<b>Topic 0</b><br>Words: 三彩, 成人, 儿童, 酒店, 沧州, 中国, 河南, 白云山, 艺术, 洛阳市",
          "<b>Topic 0</b><br>Words: 河南, 历史, 济南, 中国, 旅行, 水席, 巩义, 日本, 地点, 郑州",
          "<b>Topic 0</b><br>Words: 历史, 广济桥, 河南, 赵匡胤, 潮州, 中国, 很多, 江南, 一座, 洛阳桥",
          "<b>Topic 0</b><br>Words: 民宿, 写真, 大理, 黄陂, 旅行, 历史, 中国, 考古队, 图片, 古城",
          "<b>Topic 0</b><br>Words: 仙门, 旅行, 风起, 处理, 话题, 黄河, 发团, 咖啡, 地方, 不良",
          "<b>Topic 0</b><br>Words: 王府, 竹海, 景区, 造纸, 旅行, 洛阳桥, 理由, 龙亭, 推荐, 露营",
          "<b>Topic 0</b><br>Words: 旅行, 古城, 河南, 游泳, 地方, 打卡, 景区, 王府, 历史, 竹海"
         ],
         "marker": {
          "color": "#E69F00"
         },
         "mode": "lines",
         "name": "0_河南_旅行_历史_中国",
         "type": "scatter",
         "x": [
          2017,
          2018,
          2019,
          2020,
          2021,
          2022,
          2023
         ],
         "y": [
          20,
          39,
          36,
          33,
          41,
          36,
          39
         ]
        },
        {
         "hoverinfo": "text",
         "hovertext": [
          "<b>Topic 1</b><br>Words: 公厕, 度假区, 项目, 韩国, 优选, 白云山, 民生, 法华寺, 建议, 景区",
          "<b>Topic 1</b><br>Words: 景区, 活动, 游客, 门票, 旅客, 度假区, 期间, 公示, 市民, 价格",
          "<b>Topic 1</b><br>Words: 年票, 旅客, 郑州, 景区, 客流, 发送, 高峰, 高速, 免费, 续费",
          "<b>Topic 1</b><br>Words: 景区, 门票, 游客, 优惠, 执行, 半价, 旅客, 列车, 智慧, 优惠政策",
          "<b>Topic 1</b><br>Words: 景区, 午餐, 复工, 防控, 一元, 复产, 落实, 无人, 多出, 国家",
          "<b>Topic 1</b><br>Words: 景区, 城市, 开放, 假期, 地图, 疫情, 清明, 北京, 防控, 目前",
          "<b>Topic 1</b><br>Words: 景区, 疫情, 防控, 客运, 暂时, 高速, 场所, 暂停, 郑州, 班线",
          "<b>Topic 1</b><br>Words: 景区, 线路, 游客, 公交, 五一, 同期, 取消, 增长, 显示, 假期"
         ],
         "marker": {
          "color": "#56B4E9"
         },
         "mode": "lines",
         "name": "1_景区_游客_郑州_旅客",
         "type": "scatter",
         "x": [
          2016,
          2017,
          2018,
          2019,
          2020,
          2021,
          2022,
          2023
         ],
         "y": [
          12,
          31,
          45,
          13,
          12,
          30,
          30,
          32
         ]
        },
        {
         "hoverinfo": "text",
         "hovertext": [
          "<b>Topic 2</b><br>Words: 标准化, 学习, 工作, 景区, 服务, 旅发, 项目, 园中, 集团, 建设",
          "<b>Topic 2</b><br>Words: 银杏, 白云山, 主题, 活动, 博物馆, 河洛, 建设, 发展, 大鼓, 第九届",
          "<b>Topic 2</b><br>Words: 建设, 小镇, 发展, 机场, 片区, 博物馆, 温泉, 航班时刻, 规划, 协会",
          "<b>Topic 2</b><br>Words: 自驾车, 机场, 建设, 项目, 历史, 规划, 南通, 航线, 片区, 人大代表",
          "<b>Topic 2</b><br>Words: 连云港, 三门峡, 郑州, 码头, 建设, 航道, 停车场, 列车, 项目, 规划",
          "<b>Topic 2</b><br>Words: 发展, 中医药, 文旅, 灵山, 产业, 河山, 博物馆, 城市, 建设, 国家",
          "<b>Topic 2</b><br>Words: 黄河, 生态, 洛阳市, 工作, 河南省, 集团, 建设, 公路, 古籍, 书房",
          "<b>Topic 2</b><br>Words: 文旅, 大会, 文旅文创, 河南, 项目, 行走, 读懂, 发展, 文化公园, 黄河"
         ],
         "marker": {
          "color": "#009E73"
         },
         "mode": "lines",
         "name": "2_建设_发展_项目_河南",
         "type": "scatter",
         "x": [
          2016,
          2017,
          2018,
          2019,
          2020,
          2021,
          2022,
          2023
         ],
         "y": [
          12,
          29,
          20,
          25,
          19,
          12,
          19,
          18
         ]
        },
        {
         "hoverinfo": "text",
         "hovertext": [
          "<b>Topic 3</b><br>Words: 龙门石窟, 艺术, 中国, 邮票, 石窟, 朝代, 印度, 发展, 年间, 西行",
          "<b>Topic 3</b><br>Words: 大殿, 福昌, 兴福寺, 少林寺, 中国, 位于, 景区, 小浪底, 洛阳城, 世界",
          "<b>Topic 3</b><br>Words: 中国, 龙门石窟, 石窟, 艺术, 文化遗产, 朝代, 造像, 世界, 石刻, 碑刻",
          "<b>Topic 3</b><br>Words: 中国, 艺术, 龙门石窟, 石窟, 世界, 佛教, 文化遗产, 少林寺, 莫高窟, 功夫",
          "<b>Topic 3</b><br>Words: 龙门石窟, 中国, 石窟, 艺术, 朝代, 造像, 龙门, 余年, 开凿, 世界",
          "<b>Topic 3</b><br>Words: 石窟, 世界, 永宁寺, 什伐, 博物馆, 中国, 石刻, 龙门石窟, 标本, 少林寺",
          "<b>Topic 3</b><br>Words: 少林寺, 出土, 公元, 天堂, 嵩山, 少林功夫, 涂井, 忠县, 三国, 佛教",
          "<b>Topic 3</b><br>Words: 城隍庙, 修缮, 皇家, 河南, 石窟, 世界, 孔庙, 造像, 工程施工, 专家组"
         ],
         "marker": {
          "color": "#F0E442"
         },
         "mode": "lines",
         "name": "3_中国_龙门石窟_石窟_艺术",
         "type": "scatter",
         "x": [
          2016,
          2017,
          2018,
          2019,
          2020,
          2021,
          2022,
          2023
         ],
         "y": [
          3,
          6,
          14,
          14,
          11,
          7,
          4,
          3
         ]
        }
       ],
       "layout": {
        "height": 450,
        "hoverlabel": {
         "bgcolor": "white",
         "font": {
          "family": "Rockwell",
          "size": 16
         }
        },
        "legend": {
         "title": {
          "text": "<b>Global Topic Representation"
         }
        },
        "template": {
         "data": {
          "bar": [
           {
            "error_x": {
             "color": "rgb(36,36,36)"
            },
            "error_y": {
             "color": "rgb(36,36,36)"
            },
            "marker": {
             "line": {
              "color": "white",
              "width": 0.5
             },
             "pattern": {
              "fillmode": "overlay",
              "size": 10,
              "solidity": 0.2
             }
            },
            "type": "bar"
           }
          ],
          "barpolar": [
           {
            "marker": {
             "line": {
              "color": "white",
              "width": 0.5
             },
             "pattern": {
              "fillmode": "overlay",
              "size": 10,
              "solidity": 0.2
             }
            },
            "type": "barpolar"
           }
          ],
          "carpet": [
           {
            "aaxis": {
             "endlinecolor": "rgb(36,36,36)",
             "gridcolor": "white",
             "linecolor": "white",
             "minorgridcolor": "white",
             "startlinecolor": "rgb(36,36,36)"
            },
            "baxis": {
             "endlinecolor": "rgb(36,36,36)",
             "gridcolor": "white",
             "linecolor": "white",
             "minorgridcolor": "white",
             "startlinecolor": "rgb(36,36,36)"
            },
            "type": "carpet"
           }
          ],
          "choropleth": [
           {
            "colorbar": {
             "outlinewidth": 1,
             "tickcolor": "rgb(36,36,36)",
             "ticks": "outside"
            },
            "type": "choropleth"
           }
          ],
          "contour": [
           {
            "colorbar": {
             "outlinewidth": 1,
             "tickcolor": "rgb(36,36,36)",
             "ticks": "outside"
            },
            "colorscale": [
             [
              0,
              "#440154"
             ],
             [
              0.1111111111111111,
              "#482878"
             ],
             [
              0.2222222222222222,
              "#3e4989"
             ],
             [
              0.3333333333333333,
              "#31688e"
             ],
             [
              0.4444444444444444,
              "#26828e"
             ],
             [
              0.5555555555555556,
              "#1f9e89"
             ],
             [
              0.6666666666666666,
              "#35b779"
             ],
             [
              0.7777777777777778,
              "#6ece58"
             ],
             [
              0.8888888888888888,
              "#b5de2b"
             ],
             [
              1,
              "#fde725"
             ]
            ],
            "type": "contour"
           }
          ],
          "contourcarpet": [
           {
            "colorbar": {
             "outlinewidth": 1,
             "tickcolor": "rgb(36,36,36)",
             "ticks": "outside"
            },
            "type": "contourcarpet"
           }
          ],
          "heatmap": [
           {
            "colorbar": {
             "outlinewidth": 1,
             "tickcolor": "rgb(36,36,36)",
             "ticks": "outside"
            },
            "colorscale": [
             [
              0,
              "#440154"
             ],
             [
              0.1111111111111111,
              "#482878"
             ],
             [
              0.2222222222222222,
              "#3e4989"
             ],
             [
              0.3333333333333333,
              "#31688e"
             ],
             [
              0.4444444444444444,
              "#26828e"
             ],
             [
              0.5555555555555556,
              "#1f9e89"
             ],
             [
              0.6666666666666666,
              "#35b779"
             ],
             [
              0.7777777777777778,
              "#6ece58"
             ],
             [
              0.8888888888888888,
              "#b5de2b"
             ],
             [
              1,
              "#fde725"
             ]
            ],
            "type": "heatmap"
           }
          ],
          "heatmapgl": [
           {
            "colorbar": {
             "outlinewidth": 1,
             "tickcolor": "rgb(36,36,36)",
             "ticks": "outside"
            },
            "colorscale": [
             [
              0,
              "#440154"
             ],
             [
              0.1111111111111111,
              "#482878"
             ],
             [
              0.2222222222222222,
              "#3e4989"
             ],
             [
              0.3333333333333333,
              "#31688e"
             ],
             [
              0.4444444444444444,
              "#26828e"
             ],
             [
              0.5555555555555556,
              "#1f9e89"
             ],
             [
              0.6666666666666666,
              "#35b779"
             ],
             [
              0.7777777777777778,
              "#6ece58"
             ],
             [
              0.8888888888888888,
              "#b5de2b"
             ],
             [
              1,
              "#fde725"
             ]
            ],
            "type": "heatmapgl"
           }
          ],
          "histogram": [
           {
            "marker": {
             "line": {
              "color": "white",
              "width": 0.6
             }
            },
            "type": "histogram"
           }
          ],
          "histogram2d": [
           {
            "colorbar": {
             "outlinewidth": 1,
             "tickcolor": "rgb(36,36,36)",
             "ticks": "outside"
            },
            "colorscale": [
             [
              0,
              "#440154"
             ],
             [
              0.1111111111111111,
              "#482878"
             ],
             [
              0.2222222222222222,
              "#3e4989"
             ],
             [
              0.3333333333333333,
              "#31688e"
             ],
             [
              0.4444444444444444,
              "#26828e"
             ],
             [
              0.5555555555555556,
              "#1f9e89"
             ],
             [
              0.6666666666666666,
              "#35b779"
             ],
             [
              0.7777777777777778,
              "#6ece58"
             ],
             [
              0.8888888888888888,
              "#b5de2b"
             ],
             [
              1,
              "#fde725"
             ]
            ],
            "type": "histogram2d"
           }
          ],
          "histogram2dcontour": [
           {
            "colorbar": {
             "outlinewidth": 1,
             "tickcolor": "rgb(36,36,36)",
             "ticks": "outside"
            },
            "colorscale": [
             [
              0,
              "#440154"
             ],
             [
              0.1111111111111111,
              "#482878"
             ],
             [
              0.2222222222222222,
              "#3e4989"
             ],
             [
              0.3333333333333333,
              "#31688e"
             ],
             [
              0.4444444444444444,
              "#26828e"
             ],
             [
              0.5555555555555556,
              "#1f9e89"
             ],
             [
              0.6666666666666666,
              "#35b779"
             ],
             [
              0.7777777777777778,
              "#6ece58"
             ],
             [
              0.8888888888888888,
              "#b5de2b"
             ],
             [
              1,
              "#fde725"
             ]
            ],
            "type": "histogram2dcontour"
           }
          ],
          "mesh3d": [
           {
            "colorbar": {
             "outlinewidth": 1,
             "tickcolor": "rgb(36,36,36)",
             "ticks": "outside"
            },
            "type": "mesh3d"
           }
          ],
          "parcoords": [
           {
            "line": {
             "colorbar": {
              "outlinewidth": 1,
              "tickcolor": "rgb(36,36,36)",
              "ticks": "outside"
             }
            },
            "type": "parcoords"
           }
          ],
          "pie": [
           {
            "automargin": true,
            "type": "pie"
           }
          ],
          "scatter": [
           {
            "fillpattern": {
             "fillmode": "overlay",
             "size": 10,
             "solidity": 0.2
            },
            "type": "scatter"
           }
          ],
          "scatter3d": [
           {
            "line": {
             "colorbar": {
              "outlinewidth": 1,
              "tickcolor": "rgb(36,36,36)",
              "ticks": "outside"
             }
            },
            "marker": {
             "colorbar": {
              "outlinewidth": 1,
              "tickcolor": "rgb(36,36,36)",
              "ticks": "outside"
             }
            },
            "type": "scatter3d"
           }
          ],
          "scattercarpet": [
           {
            "marker": {
             "colorbar": {
              "outlinewidth": 1,
              "tickcolor": "rgb(36,36,36)",
              "ticks": "outside"
             }
            },
            "type": "scattercarpet"
           }
          ],
          "scattergeo": [
           {
            "marker": {
             "colorbar": {
              "outlinewidth": 1,
              "tickcolor": "rgb(36,36,36)",
              "ticks": "outside"
             }
            },
            "type": "scattergeo"
           }
          ],
          "scattergl": [
           {
            "marker": {
             "colorbar": {
              "outlinewidth": 1,
              "tickcolor": "rgb(36,36,36)",
              "ticks": "outside"
             }
            },
            "type": "scattergl"
           }
          ],
          "scattermapbox": [
           {
            "marker": {
             "colorbar": {
              "outlinewidth": 1,
              "tickcolor": "rgb(36,36,36)",
              "ticks": "outside"
             }
            },
            "type": "scattermapbox"
           }
          ],
          "scatterpolar": [
           {
            "marker": {
             "colorbar": {
              "outlinewidth": 1,
              "tickcolor": "rgb(36,36,36)",
              "ticks": "outside"
             }
            },
            "type": "scatterpolar"
           }
          ],
          "scatterpolargl": [
           {
            "marker": {
             "colorbar": {
              "outlinewidth": 1,
              "tickcolor": "rgb(36,36,36)",
              "ticks": "outside"
             }
            },
            "type": "scatterpolargl"
           }
          ],
          "scatterternary": [
           {
            "marker": {
             "colorbar": {
              "outlinewidth": 1,
              "tickcolor": "rgb(36,36,36)",
              "ticks": "outside"
             }
            },
            "type": "scatterternary"
           }
          ],
          "surface": [
           {
            "colorbar": {
             "outlinewidth": 1,
             "tickcolor": "rgb(36,36,36)",
             "ticks": "outside"
            },
            "colorscale": [
             [
              0,
              "#440154"
             ],
             [
              0.1111111111111111,
              "#482878"
             ],
             [
              0.2222222222222222,
              "#3e4989"
             ],
             [
              0.3333333333333333,
              "#31688e"
             ],
             [
              0.4444444444444444,
              "#26828e"
             ],
             [
              0.5555555555555556,
              "#1f9e89"
             ],
             [
              0.6666666666666666,
              "#35b779"
             ],
             [
              0.7777777777777778,
              "#6ece58"
             ],
             [
              0.8888888888888888,
              "#b5de2b"
             ],
             [
              1,
              "#fde725"
             ]
            ],
            "type": "surface"
           }
          ],
          "table": [
           {
            "cells": {
             "fill": {
              "color": "rgb(237,237,237)"
             },
             "line": {
              "color": "white"
             }
            },
            "header": {
             "fill": {
              "color": "rgb(217,217,217)"
             },
             "line": {
              "color": "white"
             }
            },
            "type": "table"
           }
          ]
         },
         "layout": {
          "annotationdefaults": {
           "arrowhead": 0,
           "arrowwidth": 1
          },
          "autotypenumbers": "strict",
          "coloraxis": {
           "colorbar": {
            "outlinewidth": 1,
            "tickcolor": "rgb(36,36,36)",
            "ticks": "outside"
           }
          },
          "colorscale": {
           "diverging": [
            [
             0,
             "rgb(103,0,31)"
            ],
            [
             0.1,
             "rgb(178,24,43)"
            ],
            [
             0.2,
             "rgb(214,96,77)"
            ],
            [
             0.3,
             "rgb(244,165,130)"
            ],
            [
             0.4,
             "rgb(253,219,199)"
            ],
            [
             0.5,
             "rgb(247,247,247)"
            ],
            [
             0.6,
             "rgb(209,229,240)"
            ],
            [
             0.7,
             "rgb(146,197,222)"
            ],
            [
             0.8,
             "rgb(67,147,195)"
            ],
            [
             0.9,
             "rgb(33,102,172)"
            ],
            [
             1,
             "rgb(5,48,97)"
            ]
           ],
           "sequential": [
            [
             0,
             "#440154"
            ],
            [
             0.1111111111111111,
             "#482878"
            ],
            [
             0.2222222222222222,
             "#3e4989"
            ],
            [
             0.3333333333333333,
             "#31688e"
            ],
            [
             0.4444444444444444,
             "#26828e"
            ],
            [
             0.5555555555555556,
             "#1f9e89"
            ],
            [
             0.6666666666666666,
             "#35b779"
            ],
            [
             0.7777777777777778,
             "#6ece58"
            ],
            [
             0.8888888888888888,
             "#b5de2b"
            ],
            [
             1,
             "#fde725"
            ]
           ],
           "sequentialminus": [
            [
             0,
             "#440154"
            ],
            [
             0.1111111111111111,
             "#482878"
            ],
            [
             0.2222222222222222,
             "#3e4989"
            ],
            [
             0.3333333333333333,
             "#31688e"
            ],
            [
             0.4444444444444444,
             "#26828e"
            ],
            [
             0.5555555555555556,
             "#1f9e89"
            ],
            [
             0.6666666666666666,
             "#35b779"
            ],
            [
             0.7777777777777778,
             "#6ece58"
            ],
            [
             0.8888888888888888,
             "#b5de2b"
            ],
            [
             1,
             "#fde725"
            ]
           ]
          },
          "colorway": [
           "#1F77B4",
           "#FF7F0E",
           "#2CA02C",
           "#D62728",
           "#9467BD",
           "#8C564B",
           "#E377C2",
           "#7F7F7F",
           "#BCBD22",
           "#17BECF"
          ],
          "font": {
           "color": "rgb(36,36,36)"
          },
          "geo": {
           "bgcolor": "white",
           "lakecolor": "white",
           "landcolor": "white",
           "showlakes": true,
           "showland": true,
           "subunitcolor": "white"
          },
          "hoverlabel": {
           "align": "left"
          },
          "hovermode": "closest",
          "mapbox": {
           "style": "light"
          },
          "paper_bgcolor": "white",
          "plot_bgcolor": "white",
          "polar": {
           "angularaxis": {
            "gridcolor": "rgb(232,232,232)",
            "linecolor": "rgb(36,36,36)",
            "showgrid": false,
            "showline": true,
            "ticks": "outside"
           },
           "bgcolor": "white",
           "radialaxis": {
            "gridcolor": "rgb(232,232,232)",
            "linecolor": "rgb(36,36,36)",
            "showgrid": false,
            "showline": true,
            "ticks": "outside"
           }
          },
          "scene": {
           "xaxis": {
            "backgroundcolor": "white",
            "gridcolor": "rgb(232,232,232)",
            "gridwidth": 2,
            "linecolor": "rgb(36,36,36)",
            "showbackground": true,
            "showgrid": false,
            "showline": true,
            "ticks": "outside",
            "zeroline": false,
            "zerolinecolor": "rgb(36,36,36)"
           },
           "yaxis": {
            "backgroundcolor": "white",
            "gridcolor": "rgb(232,232,232)",
            "gridwidth": 2,
            "linecolor": "rgb(36,36,36)",
            "showbackground": true,
            "showgrid": false,
            "showline": true,
            "ticks": "outside",
            "zeroline": false,
            "zerolinecolor": "rgb(36,36,36)"
           },
           "zaxis": {
            "backgroundcolor": "white",
            "gridcolor": "rgb(232,232,232)",
            "gridwidth": 2,
            "linecolor": "rgb(36,36,36)",
            "showbackground": true,
            "showgrid": false,
            "showline": true,
            "ticks": "outside",
            "zeroline": false,
            "zerolinecolor": "rgb(36,36,36)"
           }
          },
          "shapedefaults": {
           "fillcolor": "black",
           "line": {
            "width": 0
           },
           "opacity": 0.3
          },
          "ternary": {
           "aaxis": {
            "gridcolor": "rgb(232,232,232)",
            "linecolor": "rgb(36,36,36)",
            "showgrid": false,
            "showline": true,
            "ticks": "outside"
           },
           "baxis": {
            "gridcolor": "rgb(232,232,232)",
            "linecolor": "rgb(36,36,36)",
            "showgrid": false,
            "showline": true,
            "ticks": "outside"
           },
           "bgcolor": "white",
           "caxis": {
            "gridcolor": "rgb(232,232,232)",
            "linecolor": "rgb(36,36,36)",
            "showgrid": false,
            "showline": true,
            "ticks": "outside"
           }
          },
          "title": {
           "x": 0.05
          },
          "xaxis": {
           "automargin": true,
           "gridcolor": "rgb(232,232,232)",
           "linecolor": "rgb(36,36,36)",
           "showgrid": false,
           "showline": true,
           "ticks": "outside",
           "title": {
            "standoff": 15
           },
           "zeroline": false,
           "zerolinecolor": "rgb(36,36,36)"
          },
          "yaxis": {
           "automargin": true,
           "gridcolor": "rgb(232,232,232)",
           "linecolor": "rgb(36,36,36)",
           "showgrid": false,
           "showline": true,
           "ticks": "outside",
           "title": {
            "standoff": 15
           },
           "zeroline": false,
           "zerolinecolor": "rgb(36,36,36)"
          }
         }
        },
        "title": {
         "font": {
          "color": "Black",
          "size": 22
         },
         "text": "<b>Topics over Time</b>",
         "x": 0.4,
         "xanchor": "center",
         "y": 0.95,
         "yanchor": "top"
        },
        "width": 1250,
        "xaxis": {
         "showgrid": true
        },
        "yaxis": {
         "showgrid": true,
         "title": {
          "text": "Frequency"
         }
        }
       }
      }
     },
     "metadata": {},
     "output_type": "display_data"
    }
   ],
   "source": [
    "topics_over_time = topic_model.topics_over_time(docs, timestamps, global_tuning=False, evolution_tuning=False)\n",
    "topic_model.visualize_topics_over_time(topics_over_time)"
   ]
  }
 ],
 "metadata": {
  "kernelspec": {
   "display_name": "Python 3",
   "language": "python",
   "name": "python3"
  },
  "language_info": {
   "codemirror_mode": {
    "name": "ipython",
    "version": 3
   },
   "file_extension": ".py",
   "mimetype": "text/x-python",
   "name": "python",
   "nbconvert_exporter": "python",
   "pygments_lexer": "ipython3",
   "version": "3.10.6"
  }
 },
 "nbformat": 4,
 "nbformat_minor": 2
}
